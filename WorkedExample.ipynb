{
 "cells": [
  {
   "cell_type": "markdown",
   "metadata": {},
   "source": [
    "# Brief user guide for the [**RandomForestDist**](https://github.com/MNLR/RandomForestDist) package \n",
    "\n",
    "This companion notebook briefly explains how to use the main functionalities provided by the `R` package [RandomForestDist](https://github.com/MNLR/RandomForestDist) and presents the code needed to reproduce part of the experiments presented in the article *Adapting Random Forests for Stochastic Downscaling of Rainfall Based on Local Estimated Probability Distributions*, submitted to *Water Resources Research* by *Legasa et al.* in 2021. In that work, random forests (RFs) are applied to the problem of statistical downscaling of rainfall. In particular, the authors analyze the suitability of different split functions which allow to work with non-normally distributed variables and propose a novel a posteriori (AP) approach which permits to accurately estimate the shape and rate parameters of the underlying rainfall distribution, which in turn allows for generating reliable stochastic rainfall series. \n",
    "\n",
    "[RandomForestDist](https://github.com/MNLR/RandomForestDist) requires a modified version of [rpart](https://cran.r-project.org/web/packages/rpart/index.html) which can be found [here](https://github.com/MNLR/rpart). In order to run the examples provided below, these two packages need to be first installed. This can be easily done from GitHub using the `devtools` package: "
   ]
  },
  {
   "cell_type": "code",
   "execution_count": null,
   "metadata": {},
   "outputs": [],
   "source": [
    "devtools::install_github(\"MNLR/rpart\")\n",
    "install.packages(c(\"progressr\", \"qmap\", \"fitdistrplus\"))\n",
    "devtools::install_github(\"MNLR/RandomForestDist\")"
   ]
  },
  {
   "cell_type": "markdown",
   "metadata": {},
   "source": [
    "We start by loading `RandomForestDist` and `VALUE9`, a dataset included in the package which contains daily series of rainfall for 9 illustrative meteorological stations over Europe along with the 17 large-scale reanalysis predictors used for statistical downscaling (see the paper for details)."
   ]
  },
  {
   "cell_type": "code",
   "execution_count": 1,
   "metadata": {},
   "outputs": [
    {
     "name": "stderr",
     "output_type": "stream",
     "text": [
      "Loading required package: rpart\n",
      "\n",
      "Loading required package: progressr\n",
      "\n"
     ]
    }
   ],
   "source": [
    "library(RandomForestDist)\n",
    "data(VALUE9)"
   ]
  },
  {
   "cell_type": "markdown",
   "metadata": {},
   "source": [
    "`VALUE9` is a list of 9 elements (one per station), being the data already divided into a stratified 5-fold (F1 = 1979-1984, F2 = 1985-1990, F3 = 1991-1996, F4 = 1997-2002, F5 = 2003-2008). `$train.y`(training set) and `$test.y` (test set) correspond to the predictands; `$train.x` (training set) and `$test.x` (test set) are the predictors. For example, for the first station and fold:"
   ]
  },
  {
   "cell_type": "code",
   "execution_count": 2,
   "metadata": {},
   "outputs": [
    {
     "data": {
      "text/html": [
       "<table class=\"dataframe\">\n",
       "<caption>A matrix: 6 × 69 of type dbl</caption>\n",
       "<tbody>\n",
       "\t<tr><td> 5.4</td><td>100934.56</td><td>101076.31</td><td>101029.38</td><td>101127.6</td><td>0.9725891</td><td>-0.5552429</td><td> 3.362726</td><td>1.4769836</td><td>53970.78</td><td>⋯</td><td>0.0008774727</td><td>0.0007474154</td><td>0.001837683</td><td>0.001404357</td><td>0.002788675</td><td>0.002296162</td><td>0.003939099</td><td>0.003326243</td><td>0.004503078</td><td>0.004167265</td></tr>\n",
       "\t<tr><td> 3.0</td><td> 99861.81</td><td>100098.66</td><td> 99890.75</td><td>100026.2</td><td>4.0751587</td><td> 2.3417603</td><td> 6.654260</td><td>4.7987915</td><td>53126.36</td><td>⋯</td><td>0.0007746874</td><td>0.0008232652</td><td>0.002964854</td><td>0.003158688</td><td>0.002753138</td><td>0.002897739</td><td>0.004851500</td><td>0.004605810</td><td>0.004810254</td><td>0.004700223</td></tr>\n",
       "\t<tr><td> 5.0</td><td>100774.52</td><td>101000.39</td><td>101343.70</td><td>101556.2</td><td>1.7720581</td><td> 0.8526245</td><td> 3.237878</td><td>0.7207886</td><td>53762.79</td><td>⋯</td><td>0.0008526679</td><td>0.0009968218</td><td>0.002528636</td><td>0.002547173</td><td>0.002720682</td><td>0.002845912</td><td>0.004383934</td><td>0.003969920</td><td>0.004411114</td><td>0.003889335</td></tr>\n",
       "\t<tr><td>12.9</td><td>100790.47</td><td>100810.84</td><td>101059.16</td><td>101159.5</td><td>4.7946411</td><td> 4.9987427</td><td> 7.108118</td><td>5.1798950</td><td>54141.42</td><td>⋯</td><td>0.0013121588</td><td>0.0011717600</td><td>0.002218187</td><td>0.002100289</td><td>0.002669751</td><td>0.002809047</td><td>0.004955770</td><td>0.004400434</td><td>0.005563976</td><td>0.005303564</td></tr>\n",
       "\t<tr><td>11.0</td><td> 99843.41</td><td> 99968.94</td><td>100306.59</td><td>100510.2</td><td>8.2443481</td><td> 8.8000122</td><td> 9.919641</td><td>7.6437622</td><td>53829.54</td><td>⋯</td><td>0.0012456127</td><td>0.0012676665</td><td>0.003520003</td><td>0.003533235</td><td>0.004003754</td><td>0.004093757</td><td>0.006390568</td><td>0.006163236</td><td>0.006739852</td><td>0.006437775</td></tr>\n",
       "\t<tr><td> 1.0</td><td> 99936.30</td><td> 99915.36</td><td>100108.30</td><td>100281.5</td><td>7.5472656</td><td> 9.0443359</td><td>10.253320</td><td>8.7977539</td><td>53769.01</td><td>⋯</td><td>0.0014264237</td><td>0.0015940617</td><td>0.003558955</td><td>0.004082522</td><td>0.003949782</td><td>0.004051825</td><td>0.005973617</td><td>0.006448189</td><td>0.006836812</td><td>0.006869952</td></tr>\n",
       "</tbody>\n",
       "</table>\n"
      ],
      "text/latex": [
       "A matrix: 6 × 69 of type dbl\n",
       "\\begin{tabular}{lllllllllllllllllllll}\n",
       "\t  5.4 & 100934.56 & 101076.31 & 101029.38 & 101127.6 & 0.9725891 & -0.5552429 &  3.362726 & 1.4769836 & 53970.78 & ⋯ & 0.0008774727 & 0.0007474154 & 0.001837683 & 0.001404357 & 0.002788675 & 0.002296162 & 0.003939099 & 0.003326243 & 0.004503078 & 0.004167265\\\\\n",
       "\t  3.0 &  99861.81 & 100098.66 &  99890.75 & 100026.2 & 4.0751587 &  2.3417603 &  6.654260 & 4.7987915 & 53126.36 & ⋯ & 0.0007746874 & 0.0008232652 & 0.002964854 & 0.003158688 & 0.002753138 & 0.002897739 & 0.004851500 & 0.004605810 & 0.004810254 & 0.004700223\\\\\n",
       "\t  5.0 & 100774.52 & 101000.39 & 101343.70 & 101556.2 & 1.7720581 &  0.8526245 &  3.237878 & 0.7207886 & 53762.79 & ⋯ & 0.0008526679 & 0.0009968218 & 0.002528636 & 0.002547173 & 0.002720682 & 0.002845912 & 0.004383934 & 0.003969920 & 0.004411114 & 0.003889335\\\\\n",
       "\t 12.9 & 100790.47 & 100810.84 & 101059.16 & 101159.5 & 4.7946411 &  4.9987427 &  7.108118 & 5.1798950 & 54141.42 & ⋯ & 0.0013121588 & 0.0011717600 & 0.002218187 & 0.002100289 & 0.002669751 & 0.002809047 & 0.004955770 & 0.004400434 & 0.005563976 & 0.005303564\\\\\n",
       "\t 11.0 &  99843.41 &  99968.94 & 100306.59 & 100510.2 & 8.2443481 &  8.8000122 &  9.919641 & 7.6437622 & 53829.54 & ⋯ & 0.0012456127 & 0.0012676665 & 0.003520003 & 0.003533235 & 0.004003754 & 0.004093757 & 0.006390568 & 0.006163236 & 0.006739852 & 0.006437775\\\\\n",
       "\t  1.0 &  99936.30 &  99915.36 & 100108.30 & 100281.5 & 7.5472656 &  9.0443359 & 10.253320 & 8.7977539 & 53769.01 & ⋯ & 0.0014264237 & 0.0015940617 & 0.003558955 & 0.004082522 & 0.003949782 & 0.004051825 & 0.005973617 & 0.006448189 & 0.006836812 & 0.006869952\\\\\n",
       "\\end{tabular}\n"
      ],
      "text/markdown": [
       "\n",
       "A matrix: 6 × 69 of type dbl\n",
       "\n",
       "|  5.4 | 100934.56 | 101076.31 | 101029.38 | 101127.6 | 0.9725891 | -0.5552429 |  3.362726 | 1.4769836 | 53970.78 | ⋯ | 0.0008774727 | 0.0007474154 | 0.001837683 | 0.001404357 | 0.002788675 | 0.002296162 | 0.003939099 | 0.003326243 | 0.004503078 | 0.004167265 |\n",
       "|  3.0 |  99861.81 | 100098.66 |  99890.75 | 100026.2 | 4.0751587 |  2.3417603 |  6.654260 | 4.7987915 | 53126.36 | ⋯ | 0.0007746874 | 0.0008232652 | 0.002964854 | 0.003158688 | 0.002753138 | 0.002897739 | 0.004851500 | 0.004605810 | 0.004810254 | 0.004700223 |\n",
       "|  5.0 | 100774.52 | 101000.39 | 101343.70 | 101556.2 | 1.7720581 |  0.8526245 |  3.237878 | 0.7207886 | 53762.79 | ⋯ | 0.0008526679 | 0.0009968218 | 0.002528636 | 0.002547173 | 0.002720682 | 0.002845912 | 0.004383934 | 0.003969920 | 0.004411114 | 0.003889335 |\n",
       "| 12.9 | 100790.47 | 100810.84 | 101059.16 | 101159.5 | 4.7946411 |  4.9987427 |  7.108118 | 5.1798950 | 54141.42 | ⋯ | 0.0013121588 | 0.0011717600 | 0.002218187 | 0.002100289 | 0.002669751 | 0.002809047 | 0.004955770 | 0.004400434 | 0.005563976 | 0.005303564 |\n",
       "| 11.0 |  99843.41 |  99968.94 | 100306.59 | 100510.2 | 8.2443481 |  8.8000122 |  9.919641 | 7.6437622 | 53829.54 | ⋯ | 0.0012456127 | 0.0012676665 | 0.003520003 | 0.003533235 | 0.004003754 | 0.004093757 | 0.006390568 | 0.006163236 | 0.006739852 | 0.006437775 |\n",
       "|  1.0 |  99936.30 |  99915.36 | 100108.30 | 100281.5 | 7.5472656 |  9.0443359 | 10.253320 | 8.7977539 | 53769.01 | ⋯ | 0.0014264237 | 0.0015940617 | 0.003558955 | 0.004082522 | 0.003949782 | 0.004051825 | 0.005973617 | 0.006448189 | 0.006836812 | 0.006869952 |\n",
       "\n"
      ],
      "text/plain": [
       "     [,1] [,2]      [,3]      [,4]      [,5]     [,6]      [,7]       [,8]     \n",
       "[1,]  5.4 100934.56 101076.31 101029.38 101127.6 0.9725891 -0.5552429  3.362726\n",
       "[2,]  3.0  99861.81 100098.66  99890.75 100026.2 4.0751587  2.3417603  6.654260\n",
       "[3,]  5.0 100774.52 101000.39 101343.70 101556.2 1.7720581  0.8526245  3.237878\n",
       "[4,] 12.9 100790.47 100810.84 101059.16 101159.5 4.7946411  4.9987427  7.108118\n",
       "[5,] 11.0  99843.41  99968.94 100306.59 100510.2 8.2443481  8.8000122  9.919641\n",
       "[6,]  1.0  99936.30  99915.36 100108.30 100281.5 7.5472656  9.0443359 10.253320\n",
       "     [,9]      [,10]    [,11] [,12]        [,13]        [,14]       [,15]      \n",
       "[1,] 1.4769836 53970.78 ⋯     0.0008774727 0.0007474154 0.001837683 0.001404357\n",
       "[2,] 4.7987915 53126.36 ⋯     0.0007746874 0.0008232652 0.002964854 0.003158688\n",
       "[3,] 0.7207886 53762.79 ⋯     0.0008526679 0.0009968218 0.002528636 0.002547173\n",
       "[4,] 5.1798950 54141.42 ⋯     0.0013121588 0.0011717600 0.002218187 0.002100289\n",
       "[5,] 7.6437622 53829.54 ⋯     0.0012456127 0.0012676665 0.003520003 0.003533235\n",
       "[6,] 8.7977539 53769.01 ⋯     0.0014264237 0.0015940617 0.003558955 0.004082522\n",
       "     [,16]       [,17]       [,18]       [,19]       [,20]       [,21]      \n",
       "[1,] 0.002788675 0.002296162 0.003939099 0.003326243 0.004503078 0.004167265\n",
       "[2,] 0.002753138 0.002897739 0.004851500 0.004605810 0.004810254 0.004700223\n",
       "[3,] 0.002720682 0.002845912 0.004383934 0.003969920 0.004411114 0.003889335\n",
       "[4,] 0.002669751 0.002809047 0.004955770 0.004400434 0.005563976 0.005303564\n",
       "[5,] 0.004003754 0.004093757 0.006390568 0.006163236 0.006739852 0.006437775\n",
       "[6,] 0.003949782 0.004051825 0.005973617 0.006448189 0.006836812 0.006869952"
      ]
     },
     "metadata": {},
     "output_type": "display_data"
    }
   ],
   "source": [
    "head(cbind(VALUE9[[1]]$f1_79_84$train.y, VALUE9[[1]]$f1_79_84$train.x))"
   ]
  },
  {
   "cell_type": "markdown",
   "metadata": {},
   "source": [
    "## Training the models\n",
    "To illustrate the training process, let's just focus on the sixth station and first fold:"
   ]
  },
  {
   "cell_type": "code",
   "execution_count": 3,
   "metadata": {},
   "outputs": [],
   "source": [
    "train.x <- VALUE9[[6]]$f1_79_84$train.x  # predictors for the train period\n",
    "train.y <- VALUE9[[6]]$f1_79_84$train.y  # predictand (rainfall) for the train period"
   ]
  },
  {
   "cell_type": "markdown",
   "metadata": {},
   "source": [
    "The function `randomForestTrain()` builds the model for the predictors `x` and predictands `y`."
   ]
  },
  {
   "cell_type": "code",
   "execution_count": 4,
   "metadata": {},
   "outputs": [],
   "source": [
    "rf <- randomForestTrain(x = train.x, y = train.y)  # building/training a default RF"
   ]
  },
  {
   "cell_type": "markdown",
   "metadata": {},
   "source": [
    "The user can specify the desired values for the parameters `mtry` (number of predictors to randomly use as candidate split variables), `ntree` (number of trees in the forest), `minbucket` (minimum number of elements each leaf is required to have), `minsplit` (minimum number of elements each node is required to have to attempt the splitting) and `maxdepth` (maximum depth allowed for each tree)."
   ]
  },
  {
   "cell_type": "code",
   "execution_count": 5,
   "metadata": {},
   "outputs": [],
   "source": [
    "rf <- randomForestTrain(x = train.x, y = train.y, ntree = 25, mtry = 22, \n",
    "                        minbucket = 10, minsplit = 30, maxdepth = 10)  # building/training a customized RF"
   ]
  },
  {
   "cell_type": "markdown",
   "metadata": {},
   "source": [
    "By default, RFs consider the root mean squared error as split function. However, [RandomForestDist](https://github.com/MNLR/RandomForestDist) allows for using different split functions (`split.function` argument), which have been defined in the [modified version of `rpart`](https://github.com/MNLR/rpart). Currently supported options are `\"anova\", \"poisson\", \"class\", \"exp\", \"gammaLLMME\", \"gammaLLmean\", \"bernoulliGammaLLMME\", \"gammaDeviation\", \"gammaLLBC3\", \"bernoulliLL\"` and `\"binaryCrossEntropyGammaDeviation\"`. \n",
    "\n",
    "In *Legasa et al. 2021*, we restrict ourselves to the 2-parameter gamma distribution family, with different estimators (see the paper for details)."
   ]
  },
  {
   "cell_type": "code",
   "execution_count": 6,
   "metadata": {},
   "outputs": [],
   "source": [
    "# NOTE: This chunk may take a while:\n",
    "rf.dev <- randomForestTrain(x = train.x, y = train.y, ntree = 100, minbucket = 10, method = \"gammaDeviation\")\n",
    "rf.LLMME <- randomForestTrain(x = train.x, y = train.y, ntree = 100, minbucket = 10, method = \"gammaLLMME\")\n",
    "rf.LLBC3 <- randomForestTrain(x = train.x, y = train.y, ntree = 100, minbucket = 10, method = \"gammaLLBC3\")"
   ]
  },
  {
   "cell_type": "markdown",
   "metadata": {},
   "source": [
    "## Parallelization\n",
    "\n",
    "The training process can be parallelized by means of the package `future.apply`. This package has to be installed independently, otherwise parallelization will not be an option. Use `install.packages(future.apply)` to install it, which will also install the dependency `future`. The simplest way to use parallelization is by setting `parallel.plan = \"auto\"`, which will automatically use all the available cores to train the model in parallel."
   ]
  },
  {
   "cell_type": "code",
   "execution_count": 7,
   "metadata": {},
   "outputs": [],
   "source": [
    "rf <- randomForestTrain(x = train.x, y = train.y, ntree = 100, minbucket = 10,\n",
    "                        method = \"gammaDeviation\",\n",
    "                        parallel.plan = \"auto\")  # training a RF with parallelization"
   ]
  },
  {
   "cell_type": "markdown",
   "metadata": {},
   "source": [
    "If not set to `\"auto\"`, `paralell.plan` will use the execution plan stored in the `strategy` argument of `future::plan()`. The interested reader is referred to the packages `future` and `future.apply` for details on the available options. As an example, the following block of code shows how parallelization in 4 cores can be achieved in combination with the argument `workers` and setting `parallel.plan` to `multisession`:"
   ]
  },
  {
   "cell_type": "code",
   "execution_count": 8,
   "metadata": {},
   "outputs": [],
   "source": [
    "rf <- randomForestTrain(x = train.x, y = train.y, ntree = 100, minbucket = 10, \n",
    "                        method = \"gammaDeviation\", \n",
    "                        parallel.plan = future::multisession, workers = 4)  # training a customized RF with parallelization using 4 workers"
   ]
  },
  {
   "cell_type": "markdown",
   "metadata": {},
   "source": [
    "Also, if missing or set to `NULL` (default), the function will use the current execution plan. This is useful to configure a customized plan outside the function, as we do in the next example. In particular, we set the execution to `multisession()` prior to launching the loop and train several models using this plan (do not forget to close the sessions by reverting to `sequential()`)."
   ]
  },
  {
   "cell_type": "code",
   "execution_count": 9,
   "metadata": {},
   "outputs": [],
   "source": [
    "future::plan(future::multisession, workers = 4) # sets the plan to multisession and 4 workers\n",
    "\n",
    "rfs <- lapply(VALUE9[[1]], function(fold){ # we iterate over the folds...\n",
    "    return(\n",
    "        randomForestTrain(x = fold$train.x, y = fold$train.y, ntree = 25, minbucket = 10, \n",
    "                          method = \"gammaDeviation\",\n",
    "                          parallel.plan = NULL) #... and train the models\n",
    "    )\n",
    "    \n",
    "})\n",
    "\n",
    "future::plan(future::sequential) # reverts plan to sequential()"
   ]
  },
  {
   "cell_type": "markdown",
   "metadata": {},
   "source": [
    "Note that using `parallel.plan = NA` will avoid parallelization altogether. This is the default if `future.apply` is not available."
   ]
  },
  {
   "cell_type": "markdown",
   "metadata": {},
   "source": [
    "## Generating the predictions\n",
    "\n",
    "Once the RF is trained, out-of-sample predictors (`$test.x`) can be used to obtain the corresponding downscaled predictions with the function `randomForestPredict()`. The default configuration of `randomForestPredict()` considers the mean as aggregation function (this is the standard procedure in RFs; see the paper for details):"
   ]
  },
  {
   "cell_type": "code",
   "execution_count": 10,
   "metadata": {},
   "outputs": [
    {
     "data": {
      "text/html": [
       "<style>\n",
       ".dl-inline {width: auto; margin:0; padding: 0}\n",
       ".dl-inline>dt, .dl-inline>dd {float: none; width: auto; display: inline-block}\n",
       ".dl-inline>dt::after {content: \":\\0020\"; padding-right: .5ex}\n",
       ".dl-inline>dt:not(:first-of-type) {padding-left: .5ex}\n",
       "</style><dl class=dl-inline><dt>1</dt><dd>6.69288220375256</dd><dt>2</dt><dd>2.60350666864955</dd><dt>3</dt><dd>4.30276790536605</dd><dt>4</dt><dd>2.22515326732951</dd><dt>5</dt><dd>4.25758322163732</dd><dt>6</dt><dd>10.8015920530665</dd></dl>\n"
      ],
      "text/latex": [
       "\\begin{description*}\n",
       "\\item[1] 6.69288220375256\n",
       "\\item[2] 2.60350666864955\n",
       "\\item[3] 4.30276790536605\n",
       "\\item[4] 2.22515326732951\n",
       "\\item[5] 4.25758322163732\n",
       "\\item[6] 10.8015920530665\n",
       "\\end{description*}\n"
      ],
      "text/markdown": [
       "1\n",
       ":   6.692882203752562\n",
       ":   2.603506668649553\n",
       ":   4.302767905366054\n",
       ":   2.225153267329515\n",
       ":   4.257583221637326\n",
       ":   10.8015920530665\n",
       "\n"
      ],
      "text/plain": [
       "        1         2         3         4         5         6 \n",
       " 6.692882  2.603507  4.302768  2.225153  4.257583 10.801592 "
      ]
     },
     "metadata": {},
     "output_type": "display_data"
    }
   ],
   "source": [
    "test.x <- VALUE9[[6]]$f1_79_84$test.x  # predictors for the test period\n",
    "test.y <- VALUE9[[6]]$f1_79_84$test.y  # predictand (rainfall) for the train period\n",
    "\n",
    "# We use the RF with 100 trees and gammaDeviation split function that we have already learnt to predict daily rainfall:\n",
    "pr <- randomForestPredict(rf, newdata = test.x)  # predictions for the test period, considering the mean as aggregation function\n",
    "head(pr)"
   ]
  },
  {
   "cell_type": "markdown",
   "metadata": {},
   "source": [
    "The parameter `bagging.function` can be used to apply other aggregation functions (e.g.the median). Also, if set to `NA`, `randomForestPredict()` will provide the predictions returned by all the individual trees."
   ]
  },
  {
   "cell_type": "code",
   "execution_count": 11,
   "metadata": {},
   "outputs": [
    {
     "data": {
      "text/html": [
       "<table class=\"dataframe\">\n",
       "<caption>A matrix: 10 × 100 of type dbl</caption>\n",
       "<tbody>\n",
       "\t<tr><th scope=row>1</th><td> 1.8250000</td><td> 5.2857143</td><td> 2.640000</td><td> 5.9166667</td><td> 4.6578947</td><td> 7.187500</td><td> 5.083333</td><td> 2.6692308</td><td>16.310526</td><td> 3.569231</td><td>⋯</td><td> 2.9142857</td><td> 5.247059</td><td> 7.9000000</td><td> 7.1315789</td><td> 7.576471</td><td> 2.938462</td><td> 4.516667</td><td>14.2583333</td><td>17.1200000</td><td> 5.600000</td></tr>\n",
       "\t<tr><th scope=row>2</th><td> 0.9636364</td><td> 2.0363636</td><td> 4.282353</td><td> 0.7727273</td><td> 1.5142857</td><td> 4.800000</td><td> 2.240000</td><td> 0.4000000</td><td> 2.487500</td><td> 1.322222</td><td>⋯</td><td> 1.7900000</td><td> 5.247059</td><td> 0.7444444</td><td> 0.3181818</td><td> 1.061538</td><td> 0.350000</td><td> 1.418750</td><td> 3.8500000</td><td> 0.2272727</td><td> 1.347059</td></tr>\n",
       "\t<tr><th scope=row>3</th><td> 4.3529412</td><td> 5.2857143</td><td> 2.133333</td><td> 5.9166667</td><td> 4.8800000</td><td> 1.961538</td><td> 2.780000</td><td> 1.9363636</td><td> 4.209091</td><td> 1.917647</td><td>⋯</td><td> 1.7900000</td><td> 5.060000</td><td> 5.4526316</td><td> 6.3166667</td><td> 7.845455</td><td> 1.990000</td><td> 1.418750</td><td> 3.8571429</td><td> 3.3071429</td><td> 5.600000</td></tr>\n",
       "\t<tr><th scope=row>4</th><td> 1.1357143</td><td> 5.2857143</td><td> 2.133333</td><td> 1.2909091</td><td> 0.9818182</td><td> 1.616667</td><td> 0.950000</td><td> 0.8727273</td><td> 0.820000</td><td> 5.100000</td><td>⋯</td><td> 0.4636364</td><td> 3.194444</td><td> 1.7705882</td><td> 0.9400000</td><td> 1.630000</td><td> 1.100000</td><td> 1.208333</td><td> 2.3157895</td><td> 1.4200000</td><td> 1.347059</td></tr>\n",
       "\t<tr><th scope=row>5</th><td> 2.4230769</td><td> 2.0700000</td><td> 2.761538</td><td> 1.9100000</td><td> 3.2315789</td><td> 1.609091</td><td> 2.081818</td><td> 0.6352941</td><td> 4.476923</td><td> 6.927273</td><td>⋯</td><td> 6.9769231</td><td> 7.361538</td><td> 4.0882353</td><td> 1.7684211</td><td> 1.691667</td><td> 3.878571</td><td> 2.390000</td><td> 0.9545455</td><td> 4.9500000</td><td> 5.836364</td></tr>\n",
       "\t<tr><th scope=row>6</th><td>13.3000000</td><td> 9.5800000</td><td> 8.190909</td><td> 9.7200000</td><td> 6.3125000</td><td>13.523529</td><td>21.430000</td><td>11.1727273</td><td> 4.300000</td><td>14.184615</td><td>⋯</td><td>10.5200000</td><td>10.427273</td><td>18.7600000</td><td>19.7083333</td><td>17.955556</td><td> 2.118750</td><td> 8.800000</td><td> 9.8461538</td><td> 3.4285714</td><td>22.292308</td></tr>\n",
       "\t<tr><th scope=row>7</th><td>12.5000000</td><td>11.6894737</td><td> 9.240000</td><td>14.2166667</td><td> 2.1142857</td><td>13.523529</td><td> 2.991667</td><td> 5.1846154</td><td> 6.550000</td><td>13.840000</td><td>⋯</td><td> 4.5181818</td><td>19.800000</td><td>18.0846154</td><td> 9.5526316</td><td> 2.900000</td><td> 3.036364</td><td> 6.161538</td><td> 5.2545455</td><td> 5.5200000</td><td>10.476923</td></tr>\n",
       "\t<tr><th scope=row>8</th><td> 1.7764706</td><td> 0.8666667</td><td> 2.747059</td><td> 2.4857143</td><td> 1.5916667</td><td> 4.680000</td><td> 2.240000</td><td> 1.8100000</td><td>12.400000</td><td> 2.850000</td><td>⋯</td><td> 5.7692308</td><td> 2.831250</td><td> 3.6000000</td><td> 5.3181818</td><td> 4.900000</td><td> 2.000000</td><td> 3.480000</td><td> 8.9909091</td><td> 4.0944444</td><td> 5.450000</td></tr>\n",
       "\t<tr><th scope=row>9</th><td> 8.8666667</td><td> 6.4153846</td><td>10.507143</td><td>12.2454545</td><td> 9.6153846</td><td> 4.090000</td><td>15.433333</td><td> 3.5300000</td><td>17.660000</td><td>10.480000</td><td>⋯</td><td> 5.7000000</td><td>11.013333</td><td>14.0500000</td><td> 8.7923077</td><td> 9.133333</td><td> 5.537500</td><td>10.920000</td><td> 6.3888889</td><td> 5.8235294</td><td> 7.769231</td></tr>\n",
       "\t<tr><th scope=row>10</th><td>11.2888889</td><td>14.5333333</td><td>12.300000</td><td>14.0666667</td><td>13.6181818</td><td>16.290000</td><td>13.523077</td><td>11.5375000</td><td> 8.636364</td><td> 9.153333</td><td>⋯</td><td>12.2529412</td><td>11.013333</td><td>14.2230769</td><td>10.6187500</td><td> 9.218750</td><td>11.927778</td><td>12.405263</td><td>11.8176471</td><td> 5.8769231</td><td>14.330000</td></tr>\n",
       "</tbody>\n",
       "</table>\n"
      ],
      "text/latex": [
       "A matrix: 10 × 100 of type dbl\n",
       "\\begin{tabular}{r|lllllllllllllllllllll}\n",
       "\t1 &  1.8250000 &  5.2857143 &  2.640000 &  5.9166667 &  4.6578947 &  7.187500 &  5.083333 &  2.6692308 & 16.310526 &  3.569231 & ⋯ &  2.9142857 &  5.247059 &  7.9000000 &  7.1315789 &  7.576471 &  2.938462 &  4.516667 & 14.2583333 & 17.1200000 &  5.600000\\\\\n",
       "\t2 &  0.9636364 &  2.0363636 &  4.282353 &  0.7727273 &  1.5142857 &  4.800000 &  2.240000 &  0.4000000 &  2.487500 &  1.322222 & ⋯ &  1.7900000 &  5.247059 &  0.7444444 &  0.3181818 &  1.061538 &  0.350000 &  1.418750 &  3.8500000 &  0.2272727 &  1.347059\\\\\n",
       "\t3 &  4.3529412 &  5.2857143 &  2.133333 &  5.9166667 &  4.8800000 &  1.961538 &  2.780000 &  1.9363636 &  4.209091 &  1.917647 & ⋯ &  1.7900000 &  5.060000 &  5.4526316 &  6.3166667 &  7.845455 &  1.990000 &  1.418750 &  3.8571429 &  3.3071429 &  5.600000\\\\\n",
       "\t4 &  1.1357143 &  5.2857143 &  2.133333 &  1.2909091 &  0.9818182 &  1.616667 &  0.950000 &  0.8727273 &  0.820000 &  5.100000 & ⋯ &  0.4636364 &  3.194444 &  1.7705882 &  0.9400000 &  1.630000 &  1.100000 &  1.208333 &  2.3157895 &  1.4200000 &  1.347059\\\\\n",
       "\t5 &  2.4230769 &  2.0700000 &  2.761538 &  1.9100000 &  3.2315789 &  1.609091 &  2.081818 &  0.6352941 &  4.476923 &  6.927273 & ⋯ &  6.9769231 &  7.361538 &  4.0882353 &  1.7684211 &  1.691667 &  3.878571 &  2.390000 &  0.9545455 &  4.9500000 &  5.836364\\\\\n",
       "\t6 & 13.3000000 &  9.5800000 &  8.190909 &  9.7200000 &  6.3125000 & 13.523529 & 21.430000 & 11.1727273 &  4.300000 & 14.184615 & ⋯ & 10.5200000 & 10.427273 & 18.7600000 & 19.7083333 & 17.955556 &  2.118750 &  8.800000 &  9.8461538 &  3.4285714 & 22.292308\\\\\n",
       "\t7 & 12.5000000 & 11.6894737 &  9.240000 & 14.2166667 &  2.1142857 & 13.523529 &  2.991667 &  5.1846154 &  6.550000 & 13.840000 & ⋯ &  4.5181818 & 19.800000 & 18.0846154 &  9.5526316 &  2.900000 &  3.036364 &  6.161538 &  5.2545455 &  5.5200000 & 10.476923\\\\\n",
       "\t8 &  1.7764706 &  0.8666667 &  2.747059 &  2.4857143 &  1.5916667 &  4.680000 &  2.240000 &  1.8100000 & 12.400000 &  2.850000 & ⋯ &  5.7692308 &  2.831250 &  3.6000000 &  5.3181818 &  4.900000 &  2.000000 &  3.480000 &  8.9909091 &  4.0944444 &  5.450000\\\\\n",
       "\t9 &  8.8666667 &  6.4153846 & 10.507143 & 12.2454545 &  9.6153846 &  4.090000 & 15.433333 &  3.5300000 & 17.660000 & 10.480000 & ⋯ &  5.7000000 & 11.013333 & 14.0500000 &  8.7923077 &  9.133333 &  5.537500 & 10.920000 &  6.3888889 &  5.8235294 &  7.769231\\\\\n",
       "\t10 & 11.2888889 & 14.5333333 & 12.300000 & 14.0666667 & 13.6181818 & 16.290000 & 13.523077 & 11.5375000 &  8.636364 &  9.153333 & ⋯ & 12.2529412 & 11.013333 & 14.2230769 & 10.6187500 &  9.218750 & 11.927778 & 12.405263 & 11.8176471 &  5.8769231 & 14.330000\\\\\n",
       "\\end{tabular}\n"
      ],
      "text/markdown": [
       "\n",
       "A matrix: 10 × 100 of type dbl\n",
       "\n",
       "| 1 |  1.8250000 |  5.2857143 |  2.640000 |  5.9166667 |  4.6578947 |  7.187500 |  5.083333 |  2.6692308 | 16.310526 |  3.569231 | ⋯ |  2.9142857 |  5.247059 |  7.9000000 |  7.1315789 |  7.576471 |  2.938462 |  4.516667 | 14.2583333 | 17.1200000 |  5.600000 |\n",
       "| 2 |  0.9636364 |  2.0363636 |  4.282353 |  0.7727273 |  1.5142857 |  4.800000 |  2.240000 |  0.4000000 |  2.487500 |  1.322222 | ⋯ |  1.7900000 |  5.247059 |  0.7444444 |  0.3181818 |  1.061538 |  0.350000 |  1.418750 |  3.8500000 |  0.2272727 |  1.347059 |\n",
       "| 3 |  4.3529412 |  5.2857143 |  2.133333 |  5.9166667 |  4.8800000 |  1.961538 |  2.780000 |  1.9363636 |  4.209091 |  1.917647 | ⋯ |  1.7900000 |  5.060000 |  5.4526316 |  6.3166667 |  7.845455 |  1.990000 |  1.418750 |  3.8571429 |  3.3071429 |  5.600000 |\n",
       "| 4 |  1.1357143 |  5.2857143 |  2.133333 |  1.2909091 |  0.9818182 |  1.616667 |  0.950000 |  0.8727273 |  0.820000 |  5.100000 | ⋯ |  0.4636364 |  3.194444 |  1.7705882 |  0.9400000 |  1.630000 |  1.100000 |  1.208333 |  2.3157895 |  1.4200000 |  1.347059 |\n",
       "| 5 |  2.4230769 |  2.0700000 |  2.761538 |  1.9100000 |  3.2315789 |  1.609091 |  2.081818 |  0.6352941 |  4.476923 |  6.927273 | ⋯ |  6.9769231 |  7.361538 |  4.0882353 |  1.7684211 |  1.691667 |  3.878571 |  2.390000 |  0.9545455 |  4.9500000 |  5.836364 |\n",
       "| 6 | 13.3000000 |  9.5800000 |  8.190909 |  9.7200000 |  6.3125000 | 13.523529 | 21.430000 | 11.1727273 |  4.300000 | 14.184615 | ⋯ | 10.5200000 | 10.427273 | 18.7600000 | 19.7083333 | 17.955556 |  2.118750 |  8.800000 |  9.8461538 |  3.4285714 | 22.292308 |\n",
       "| 7 | 12.5000000 | 11.6894737 |  9.240000 | 14.2166667 |  2.1142857 | 13.523529 |  2.991667 |  5.1846154 |  6.550000 | 13.840000 | ⋯ |  4.5181818 | 19.800000 | 18.0846154 |  9.5526316 |  2.900000 |  3.036364 |  6.161538 |  5.2545455 |  5.5200000 | 10.476923 |\n",
       "| 8 |  1.7764706 |  0.8666667 |  2.747059 |  2.4857143 |  1.5916667 |  4.680000 |  2.240000 |  1.8100000 | 12.400000 |  2.850000 | ⋯ |  5.7692308 |  2.831250 |  3.6000000 |  5.3181818 |  4.900000 |  2.000000 |  3.480000 |  8.9909091 |  4.0944444 |  5.450000 |\n",
       "| 9 |  8.8666667 |  6.4153846 | 10.507143 | 12.2454545 |  9.6153846 |  4.090000 | 15.433333 |  3.5300000 | 17.660000 | 10.480000 | ⋯ |  5.7000000 | 11.013333 | 14.0500000 |  8.7923077 |  9.133333 |  5.537500 | 10.920000 |  6.3888889 |  5.8235294 |  7.769231 |\n",
       "| 10 | 11.2888889 | 14.5333333 | 12.300000 | 14.0666667 | 13.6181818 | 16.290000 | 13.523077 | 11.5375000 |  8.636364 |  9.153333 | ⋯ | 12.2529412 | 11.013333 | 14.2230769 | 10.6187500 |  9.218750 | 11.927778 | 12.405263 | 11.8176471 |  5.8769231 | 14.330000 |\n",
       "\n"
      ],
      "text/plain": [
       "   [,1]       [,2]       [,3]      [,4]       [,5]       [,6]      [,7]     \n",
       "1   1.8250000  5.2857143  2.640000  5.9166667  4.6578947  7.187500  5.083333\n",
       "2   0.9636364  2.0363636  4.282353  0.7727273  1.5142857  4.800000  2.240000\n",
       "3   4.3529412  5.2857143  2.133333  5.9166667  4.8800000  1.961538  2.780000\n",
       "4   1.1357143  5.2857143  2.133333  1.2909091  0.9818182  1.616667  0.950000\n",
       "5   2.4230769  2.0700000  2.761538  1.9100000  3.2315789  1.609091  2.081818\n",
       "6  13.3000000  9.5800000  8.190909  9.7200000  6.3125000 13.523529 21.430000\n",
       "7  12.5000000 11.6894737  9.240000 14.2166667  2.1142857 13.523529  2.991667\n",
       "8   1.7764706  0.8666667  2.747059  2.4857143  1.5916667  4.680000  2.240000\n",
       "9   8.8666667  6.4153846 10.507143 12.2454545  9.6153846  4.090000 15.433333\n",
       "10 11.2888889 14.5333333 12.300000 14.0666667 13.6181818 16.290000 13.523077\n",
       "   [,8]       [,9]      [,10]     [,11] [,12]      [,13]     [,14]     \n",
       "1   2.6692308 16.310526  3.569231 ⋯      2.9142857  5.247059  7.9000000\n",
       "2   0.4000000  2.487500  1.322222 ⋯      1.7900000  5.247059  0.7444444\n",
       "3   1.9363636  4.209091  1.917647 ⋯      1.7900000  5.060000  5.4526316\n",
       "4   0.8727273  0.820000  5.100000 ⋯      0.4636364  3.194444  1.7705882\n",
       "5   0.6352941  4.476923  6.927273 ⋯      6.9769231  7.361538  4.0882353\n",
       "6  11.1727273  4.300000 14.184615 ⋯     10.5200000 10.427273 18.7600000\n",
       "7   5.1846154  6.550000 13.840000 ⋯      4.5181818 19.800000 18.0846154\n",
       "8   1.8100000 12.400000  2.850000 ⋯      5.7692308  2.831250  3.6000000\n",
       "9   3.5300000 17.660000 10.480000 ⋯      5.7000000 11.013333 14.0500000\n",
       "10 11.5375000  8.636364  9.153333 ⋯     12.2529412 11.013333 14.2230769\n",
       "   [,15]      [,16]     [,17]     [,18]     [,19]      [,20]      [,21]    \n",
       "1   7.1315789  7.576471  2.938462  4.516667 14.2583333 17.1200000  5.600000\n",
       "2   0.3181818  1.061538  0.350000  1.418750  3.8500000  0.2272727  1.347059\n",
       "3   6.3166667  7.845455  1.990000  1.418750  3.8571429  3.3071429  5.600000\n",
       "4   0.9400000  1.630000  1.100000  1.208333  2.3157895  1.4200000  1.347059\n",
       "5   1.7684211  1.691667  3.878571  2.390000  0.9545455  4.9500000  5.836364\n",
       "6  19.7083333 17.955556  2.118750  8.800000  9.8461538  3.4285714 22.292308\n",
       "7   9.5526316  2.900000  3.036364  6.161538  5.2545455  5.5200000 10.476923\n",
       "8   5.3181818  4.900000  2.000000  3.480000  8.9909091  4.0944444  5.450000\n",
       "9   8.7923077  9.133333  5.537500 10.920000  6.3888889  5.8235294  7.769231\n",
       "10 10.6187500  9.218750 11.927778 12.405263 11.8176471  5.8769231 14.330000"
      ]
     },
     "metadata": {},
     "output_type": "display_data"
    }
   ],
   "source": [
    "pr.median <- randomForestPredict(rf, newdata = test.x, bagging.function = median)  # median as aggregation function\n",
    "pr.alltrees <- randomForestPredict(rf, newdata = test.x, bagging.function = NA)\n",
    "pr.alltrees[1:10,]  # 10 first predictions returned by the 100 trees"
   ]
  },
  {
   "cell_type": "markdown",
   "metadata": {},
   "source": [
    "The parameter `method` controls the *a posteriori* approach (the reader is referred to the paper for details). The available options are described in the help page (`?randomForestPredict`), and we summarize them here. If `method` is not `NULL`, the argument `bagging.function` is ignored.\n",
    "\n",
    "- `method = \"leaves\"` provides all the observations for each prediction.\n",
    "- `method = \"random.sample\"` draws a random sample from the leaves for each prediction. \n",
    "- `method = \"aposteriori\"` returns the parameter of the probability distribution of `train.y | train.x`, as estimated using Moments Matching Estimation (refer to `fitdistrplus::fitdist()`). In the case of the gamma distribution, its shape and rate parameters are returned. `method = \"bc3\"` uses BC3 estimators for the gamma distribution. Additionally, this parameter can be used to select the estimation method (see `fitdistrplus::fitdist()`), i.e., one of the following: `\"mme\"` (Moments Matching Estimation; default),`\"mle\"` (Maximum Likelihood Estimation), `\"qme\"` (Quantile Matching Estimation), `\"mge\"` (Maximum Goodness-of-fit Estimation), `\"mse\"` (Maximum Spacing Estimation). Note that some of these options require additional parameters (use `...`), and some of them may not converge.\n",
    "\n",
    "We provide some examples below."
   ]
  },
  {
   "cell_type": "markdown",
   "metadata": {},
   "source": [
    "Setting the parameter `method = \"leaves\"` allows us to plot `train.y | train.x`, for instance:"
   ]
  },
  {
   "cell_type": "code",
   "execution_count": 12,
   "metadata": {},
   "outputs": [
    {
     "data": {
      "image/png": "[encoded data removed]",
      "text/plain": [
       "Plot with title “test.y | train.x”"
      ]
     },
     "metadata": {
      "image/png": {
       "height": 420,
       "width": 420
      }
     },
     "output_type": "display_data"
    }
   ],
   "source": [
    "pr.leaves <- randomForestPredict(rf, newdata = test.x, method = \"leaves\") # we predict the observations falling on leaves\n",
    "\n",
    "# and plot the histogram of their distribution:\n",
    "par(mfrow = c(1,2)) \n",
    "hist(pr.leaves[[100]], breaks = 50, xlab = \"Rainfall\", freq = FALSE,\n",
    "     main = \"test.y | train.x\", ylim = c(0, 0.25), xlim = c(0,60))\n",
    "hist(pr.leaves[[300]], breaks = 50, xlab = \"Rainfall\", freq = FALSE, \n",
    "     main = \"test.y | train.x\",ylim = c(0, 0.25), xlim = c(0,60))"
   ]
  },
  {
   "cell_type": "markdown",
   "metadata": {},
   "source": [
    "As the model was trained using the *deviation* for the 2 parameter gamma distribution, using `method = \"aposteriori\"` provides the shape and rate parameters for each prediction:"
   ]
  },
  {
   "cell_type": "code",
   "execution_count": 13,
   "metadata": {},
   "outputs": [
    {
     "data": {
      "text/html": [
       "<table class=\"dataframe\">\n",
       "<caption>A matrix: 10 × 2 of type dbl</caption>\n",
       "<thead>\n",
       "\t<tr><th scope=col>shape</th><th scope=col>rate</th></tr>\n",
       "</thead>\n",
       "<tbody>\n",
       "\t<tr><td>0.9677957</td><td>0.1419155</td></tr>\n",
       "\t<tr><td>0.7862478</td><td>0.2982816</td></tr>\n",
       "\t<tr><td>1.3759968</td><td>0.3128242</td></tr>\n",
       "\t<tr><td>0.7537063</td><td>0.3403316</td></tr>\n",
       "\t<tr><td>1.0151516</td><td>0.2371556</td></tr>\n",
       "\t<tr><td>1.4834291</td><td>0.1391585</td></tr>\n",
       "\t<tr><td>1.5673480</td><td>0.1938595</td></tr>\n",
       "\t<tr><td>1.2676882</td><td>0.3518086</td></tr>\n",
       "\t<tr><td>2.6937874</td><td>0.2916631</td></tr>\n",
       "\t<tr><td>4.7145554</td><td>0.3804880</td></tr>\n",
       "</tbody>\n",
       "</table>\n"
      ],
      "text/latex": [
       "A matrix: 10 × 2 of type dbl\n",
       "\\begin{tabular}{ll}\n",
       " shape & rate\\\\\n",
       "\\hline\n",
       "\t 0.9677957 & 0.1419155\\\\\n",
       "\t 0.7862478 & 0.2982816\\\\\n",
       "\t 1.3759968 & 0.3128242\\\\\n",
       "\t 0.7537063 & 0.3403316\\\\\n",
       "\t 1.0151516 & 0.2371556\\\\\n",
       "\t 1.4834291 & 0.1391585\\\\\n",
       "\t 1.5673480 & 0.1938595\\\\\n",
       "\t 1.2676882 & 0.3518086\\\\\n",
       "\t 2.6937874 & 0.2916631\\\\\n",
       "\t 4.7145554 & 0.3804880\\\\\n",
       "\\end{tabular}\n"
      ],
      "text/markdown": [
       "\n",
       "A matrix: 10 × 2 of type dbl\n",
       "\n",
       "| shape | rate |\n",
       "|---|---|\n",
       "| 0.9677957 | 0.1419155 |\n",
       "| 0.7862478 | 0.2982816 |\n",
       "| 1.3759968 | 0.3128242 |\n",
       "| 0.7537063 | 0.3403316 |\n",
       "| 1.0151516 | 0.2371556 |\n",
       "| 1.4834291 | 0.1391585 |\n",
       "| 1.5673480 | 0.1938595 |\n",
       "| 1.2676882 | 0.3518086 |\n",
       "| 2.6937874 | 0.2916631 |\n",
       "| 4.7145554 | 0.3804880 |\n",
       "\n"
      ],
      "text/plain": [
       "      shape     rate     \n",
       " [1,] 0.9677957 0.1419155\n",
       " [2,] 0.7862478 0.2982816\n",
       " [3,] 1.3759968 0.3128242\n",
       " [4,] 0.7537063 0.3403316\n",
       " [5,] 1.0151516 0.2371556\n",
       " [6,] 1.4834291 0.1391585\n",
       " [7,] 1.5673480 0.1938595\n",
       " [8,] 1.2676882 0.3518086\n",
       " [9,] 2.6937874 0.2916631\n",
       "[10,] 4.7145554 0.3804880"
      ]
     },
     "metadata": {},
     "output_type": "display_data"
    }
   ],
   "source": [
    "pr.distr <- randomForestPredict(rf, newdata = test.x, method = \"aposteriori\")\n",
    "pr.distr[1:10,] # We show the first 10 predicted outcomes "
   ]
  },
  {
   "cell_type": "markdown",
   "metadata": {},
   "source": [
    "As stated above, the user can also specify the estimator used. For instance, rather than the Moments Matching Estimation (default) we could use the Maximum Likelihood Estimation by setting `method = \"mle\"`:"
   ]
  },
  {
   "cell_type": "code",
   "execution_count": 14,
   "metadata": {},
   "outputs": [
    {
     "data": {
      "text/html": [
       "<table class=\"dataframe\">\n",
       "<caption>A matrix: 10 × 2 of type dbl</caption>\n",
       "<thead>\n",
       "\t<tr><th scope=col>shape</th><th scope=col>rate</th></tr>\n",
       "</thead>\n",
       "<tbody>\n",
       "\t<tr><td>0.9677957</td><td>0.1419155</td></tr>\n",
       "\t<tr><td>0.7862478</td><td>0.2982816</td></tr>\n",
       "\t<tr><td>1.3759968</td><td>0.3128242</td></tr>\n",
       "\t<tr><td>0.7537063</td><td>0.3403316</td></tr>\n",
       "\t<tr><td>1.0151516</td><td>0.2371556</td></tr>\n",
       "\t<tr><td>1.4834291</td><td>0.1391585</td></tr>\n",
       "\t<tr><td>1.5673480</td><td>0.1938595</td></tr>\n",
       "\t<tr><td>1.2676882</td><td>0.3518086</td></tr>\n",
       "\t<tr><td>2.6937874</td><td>0.2916631</td></tr>\n",
       "\t<tr><td>4.7145554</td><td>0.3804880</td></tr>\n",
       "</tbody>\n",
       "</table>\n"
      ],
      "text/latex": [
       "A matrix: 10 × 2 of type dbl\n",
       "\\begin{tabular}{ll}\n",
       " shape & rate\\\\\n",
       "\\hline\n",
       "\t 0.9677957 & 0.1419155\\\\\n",
       "\t 0.7862478 & 0.2982816\\\\\n",
       "\t 1.3759968 & 0.3128242\\\\\n",
       "\t 0.7537063 & 0.3403316\\\\\n",
       "\t 1.0151516 & 0.2371556\\\\\n",
       "\t 1.4834291 & 0.1391585\\\\\n",
       "\t 1.5673480 & 0.1938595\\\\\n",
       "\t 1.2676882 & 0.3518086\\\\\n",
       "\t 2.6937874 & 0.2916631\\\\\n",
       "\t 4.7145554 & 0.3804880\\\\\n",
       "\\end{tabular}\n"
      ],
      "text/markdown": [
       "\n",
       "A matrix: 10 × 2 of type dbl\n",
       "\n",
       "| shape | rate |\n",
       "|---|---|\n",
       "| 0.9677957 | 0.1419155 |\n",
       "| 0.7862478 | 0.2982816 |\n",
       "| 1.3759968 | 0.3128242 |\n",
       "| 0.7537063 | 0.3403316 |\n",
       "| 1.0151516 | 0.2371556 |\n",
       "| 1.4834291 | 0.1391585 |\n",
       "| 1.5673480 | 0.1938595 |\n",
       "| 1.2676882 | 0.3518086 |\n",
       "| 2.6937874 | 0.2916631 |\n",
       "| 4.7145554 | 0.3804880 |\n",
       "\n"
      ],
      "text/plain": [
       "      shape     rate     \n",
       " [1,] 0.9677957 0.1419155\n",
       " [2,] 0.7862478 0.2982816\n",
       " [3,] 1.3759968 0.3128242\n",
       " [4,] 0.7537063 0.3403316\n",
       " [5,] 1.0151516 0.2371556\n",
       " [6,] 1.4834291 0.1391585\n",
       " [7,] 1.5673480 0.1938595\n",
       " [8,] 1.2676882 0.3518086\n",
       " [9,] 2.6937874 0.2916631\n",
       "[10,] 4.7145554 0.3804880"
      ]
     },
     "metadata": {},
     "output_type": "display_data"
    }
   ],
   "source": [
    "pr.mle <- randomForestPredict(rf, newdata = test.x, method = \"mle\")\n",
    "pr.distr[1:10,]  # 10 first predicted outcomes "
   ]
  },
  {
   "cell_type": "markdown",
   "metadata": {},
   "source": [
    "Finally, the predicted distribution parameters can be used to simulate a series of stochastic rainfall values using the function `randomForestSimulate()`, which takes as inputs the object returned by `randomForestPredict()` and the number of simulated series, `n`. The parameter `distr` allows for manually selecting the distribution of interest (by default, it is automatically selected based on the training split function considered)."
   ]
  },
  {
   "cell_type": "code",
   "execution_count": 15,
   "metadata": {},
   "outputs": [],
   "source": [
    "simulation <- randomForestSimulate(pr.distr)"
   ]
  },
  {
   "cell_type": "markdown",
   "metadata": {},
   "source": [
    "We simulate 1000 series:"
   ]
  },
  {
   "cell_type": "code",
   "execution_count": 16,
   "metadata": {},
   "outputs": [
    {
     "data": {
      "text/html": [
       "<table class=\"dataframe\">\n",
       "<caption>A matrix: 6 × 1000 of type dbl</caption>\n",
       "<tbody>\n",
       "\t<tr><td> 3.3957831</td><td>2.6261201</td><td>4.2000766</td><td>23.5097911</td><td> 0.2244423</td><td> 2.4337384</td><td> 0.08761959</td><td> 4.2145018</td><td> 3.0074321</td><td>1.324404e+00</td><td>⋯</td><td>7.9259125</td><td> 2.0825650</td><td>9.4502595</td><td>7.8670085</td><td>12.8729679</td><td>2.2962572</td><td>19.953654</td><td>2.0659343</td><td>0.7682303</td><td> 4.615284</td></tr>\n",
       "\t<tr><td> 0.9729068</td><td>0.3553539</td><td>7.1575646</td><td> 0.7050184</td><td> 3.0437166</td><td> 0.4486807</td><td> 1.90627558</td><td> 0.8739662</td><td> 1.4432454</td><td>3.212445e-01</td><td>⋯</td><td>0.5341887</td><td> 2.6805967</td><td>1.1772834</td><td>1.9169598</td><td> 0.5392316</td><td>8.8010739</td><td> 0.307171</td><td>1.7178563</td><td>2.2864005</td><td> 4.401996</td></tr>\n",
       "\t<tr><td>13.5193071</td><td>1.1896116</td><td>1.8297097</td><td> 4.7100415</td><td> 1.8269712</td><td> 1.5602529</td><td> 4.68863028</td><td> 5.9471489</td><td> 0.6841036</td><td>3.012810e+00</td><td>⋯</td><td>1.5857626</td><td> 0.4770250</td><td>3.3638593</td><td>4.8341576</td><td> 0.5724821</td><td>7.1476349</td><td>11.444621</td><td>7.6878847</td><td>0.8724080</td><td> 1.631545</td></tr>\n",
       "\t<tr><td> 1.0754117</td><td>0.4053252</td><td>0.1027564</td><td> 6.8429978</td><td> 0.8373085</td><td> 0.1429419</td><td> 2.45543324</td><td> 0.4725175</td><td> 0.7679281</td><td>3.528345e-05</td><td>⋯</td><td>1.0016406</td><td> 0.9483402</td><td>4.0229138</td><td>0.8929448</td><td> 0.5754189</td><td>0.6200577</td><td> 6.070240</td><td>0.9776188</td><td>1.3467463</td><td> 3.137821</td></tr>\n",
       "\t<tr><td> 5.5282513</td><td>5.4668850</td><td>6.2051241</td><td> 0.5221806</td><td>13.2525883</td><td> 0.1781004</td><td> 2.23297130</td><td> 7.8479196</td><td> 5.5795242</td><td>2.718703e-01</td><td>⋯</td><td>4.7898155</td><td> 1.2130940</td><td>0.6954452</td><td>4.6089474</td><td> 6.5304978</td><td>4.2178618</td><td> 3.133746</td><td>2.0587700</td><td>7.4814159</td><td>10.838655</td></tr>\n",
       "\t<tr><td>17.9463134</td><td>0.6897609</td><td>3.2023356</td><td> 4.5290871</td><td> 6.5932239</td><td>21.9272342</td><td>33.96684519</td><td>31.6064379</td><td>14.2689284</td><td>1.413608e+01</td><td>⋯</td><td>7.0206338</td><td>47.3002299</td><td>8.1267601</td><td>4.9629087</td><td> 9.5817061</td><td>2.6315589</td><td>25.198606</td><td>3.5236178</td><td>2.2299612</td><td>20.998168</td></tr>\n",
       "</tbody>\n",
       "</table>\n"
      ],
      "text/latex": [
       "A matrix: 6 × 1000 of type dbl\n",
       "\\begin{tabular}{lllllllllllllllllllll}\n",
       "\t  3.3957831 & 2.6261201 & 4.2000766 & 23.5097911 &  0.2244423 &  2.4337384 &  0.08761959 &  4.2145018 &  3.0074321 & 1.324404e+00 & ⋯ & 7.9259125 &  2.0825650 & 9.4502595 & 7.8670085 & 12.8729679 & 2.2962572 & 19.953654 & 2.0659343 & 0.7682303 &  4.615284\\\\\n",
       "\t  0.9729068 & 0.3553539 & 7.1575646 &  0.7050184 &  3.0437166 &  0.4486807 &  1.90627558 &  0.8739662 &  1.4432454 & 3.212445e-01 & ⋯ & 0.5341887 &  2.6805967 & 1.1772834 & 1.9169598 &  0.5392316 & 8.8010739 &  0.307171 & 1.7178563 & 2.2864005 &  4.401996\\\\\n",
       "\t 13.5193071 & 1.1896116 & 1.8297097 &  4.7100415 &  1.8269712 &  1.5602529 &  4.68863028 &  5.9471489 &  0.6841036 & 3.012810e+00 & ⋯ & 1.5857626 &  0.4770250 & 3.3638593 & 4.8341576 &  0.5724821 & 7.1476349 & 11.444621 & 7.6878847 & 0.8724080 &  1.631545\\\\\n",
       "\t  1.0754117 & 0.4053252 & 0.1027564 &  6.8429978 &  0.8373085 &  0.1429419 &  2.45543324 &  0.4725175 &  0.7679281 & 3.528345e-05 & ⋯ & 1.0016406 &  0.9483402 & 4.0229138 & 0.8929448 &  0.5754189 & 0.6200577 &  6.070240 & 0.9776188 & 1.3467463 &  3.137821\\\\\n",
       "\t  5.5282513 & 5.4668850 & 6.2051241 &  0.5221806 & 13.2525883 &  0.1781004 &  2.23297130 &  7.8479196 &  5.5795242 & 2.718703e-01 & ⋯ & 4.7898155 &  1.2130940 & 0.6954452 & 4.6089474 &  6.5304978 & 4.2178618 &  3.133746 & 2.0587700 & 7.4814159 & 10.838655\\\\\n",
       "\t 17.9463134 & 0.6897609 & 3.2023356 &  4.5290871 &  6.5932239 & 21.9272342 & 33.96684519 & 31.6064379 & 14.2689284 & 1.413608e+01 & ⋯ & 7.0206338 & 47.3002299 & 8.1267601 & 4.9629087 &  9.5817061 & 2.6315589 & 25.198606 & 3.5236178 & 2.2299612 & 20.998168\\\\\n",
       "\\end{tabular}\n"
      ],
      "text/markdown": [
       "\n",
       "A matrix: 6 × 1000 of type dbl\n",
       "\n",
       "|  3.3957831 | 2.6261201 | 4.2000766 | 23.5097911 |  0.2244423 |  2.4337384 |  0.08761959 |  4.2145018 |  3.0074321 | 1.324404e+00 | ⋯ | 7.9259125 |  2.0825650 | 9.4502595 | 7.8670085 | 12.8729679 | 2.2962572 | 19.953654 | 2.0659343 | 0.7682303 |  4.615284 |\n",
       "|  0.9729068 | 0.3553539 | 7.1575646 |  0.7050184 |  3.0437166 |  0.4486807 |  1.90627558 |  0.8739662 |  1.4432454 | 3.212445e-01 | ⋯ | 0.5341887 |  2.6805967 | 1.1772834 | 1.9169598 |  0.5392316 | 8.8010739 |  0.307171 | 1.7178563 | 2.2864005 |  4.401996 |\n",
       "| 13.5193071 | 1.1896116 | 1.8297097 |  4.7100415 |  1.8269712 |  1.5602529 |  4.68863028 |  5.9471489 |  0.6841036 | 3.012810e+00 | ⋯ | 1.5857626 |  0.4770250 | 3.3638593 | 4.8341576 |  0.5724821 | 7.1476349 | 11.444621 | 7.6878847 | 0.8724080 |  1.631545 |\n",
       "|  1.0754117 | 0.4053252 | 0.1027564 |  6.8429978 |  0.8373085 |  0.1429419 |  2.45543324 |  0.4725175 |  0.7679281 | 3.528345e-05 | ⋯ | 1.0016406 |  0.9483402 | 4.0229138 | 0.8929448 |  0.5754189 | 0.6200577 |  6.070240 | 0.9776188 | 1.3467463 |  3.137821 |\n",
       "|  5.5282513 | 5.4668850 | 6.2051241 |  0.5221806 | 13.2525883 |  0.1781004 |  2.23297130 |  7.8479196 |  5.5795242 | 2.718703e-01 | ⋯ | 4.7898155 |  1.2130940 | 0.6954452 | 4.6089474 |  6.5304978 | 4.2178618 |  3.133746 | 2.0587700 | 7.4814159 | 10.838655 |\n",
       "| 17.9463134 | 0.6897609 | 3.2023356 |  4.5290871 |  6.5932239 | 21.9272342 | 33.96684519 | 31.6064379 | 14.2689284 | 1.413608e+01 | ⋯ | 7.0206338 | 47.3002299 | 8.1267601 | 4.9629087 |  9.5817061 | 2.6315589 | 25.198606 | 3.5236178 | 2.2299612 | 20.998168 |\n",
       "\n"
      ],
      "text/plain": [
       "     [,1]       [,2]      [,3]      [,4]       [,5]       [,6]      \n",
       "[1,]  3.3957831 2.6261201 4.2000766 23.5097911  0.2244423  2.4337384\n",
       "[2,]  0.9729068 0.3553539 7.1575646  0.7050184  3.0437166  0.4486807\n",
       "[3,] 13.5193071 1.1896116 1.8297097  4.7100415  1.8269712  1.5602529\n",
       "[4,]  1.0754117 0.4053252 0.1027564  6.8429978  0.8373085  0.1429419\n",
       "[5,]  5.5282513 5.4668850 6.2051241  0.5221806 13.2525883  0.1781004\n",
       "[6,] 17.9463134 0.6897609 3.2023356  4.5290871  6.5932239 21.9272342\n",
       "     [,7]        [,8]       [,9]       [,10]        [,11] [,12]     [,13]     \n",
       "[1,]  0.08761959  4.2145018  3.0074321 1.324404e+00 ⋯     7.9259125  2.0825650\n",
       "[2,]  1.90627558  0.8739662  1.4432454 3.212445e-01 ⋯     0.5341887  2.6805967\n",
       "[3,]  4.68863028  5.9471489  0.6841036 3.012810e+00 ⋯     1.5857626  0.4770250\n",
       "[4,]  2.45543324  0.4725175  0.7679281 3.528345e-05 ⋯     1.0016406  0.9483402\n",
       "[5,]  2.23297130  7.8479196  5.5795242 2.718703e-01 ⋯     4.7898155  1.2130940\n",
       "[6,] 33.96684519 31.6064379 14.2689284 1.413608e+01 ⋯     7.0206338 47.3002299\n",
       "     [,14]     [,15]     [,16]      [,17]     [,18]     [,19]     [,20]    \n",
       "[1,] 9.4502595 7.8670085 12.8729679 2.2962572 19.953654 2.0659343 0.7682303\n",
       "[2,] 1.1772834 1.9169598  0.5392316 8.8010739  0.307171 1.7178563 2.2864005\n",
       "[3,] 3.3638593 4.8341576  0.5724821 7.1476349 11.444621 7.6878847 0.8724080\n",
       "[4,] 4.0229138 0.8929448  0.5754189 0.6200577  6.070240 0.9776188 1.3467463\n",
       "[5,] 0.6954452 4.6089474  6.5304978 4.2178618  3.133746 2.0587700 7.4814159\n",
       "[6,] 8.1267601 4.9629087  9.5817061 2.6315589 25.198606 3.5236178 2.2299612\n",
       "     [,21]    \n",
       "[1,]  4.615284\n",
       "[2,]  4.401996\n",
       "[3,]  1.631545\n",
       "[4,]  3.137821\n",
       "[5,] 10.838655\n",
       "[6,] 20.998168"
      ]
     },
     "metadata": {},
     "output_type": "display_data"
    }
   ],
   "source": [
    "simulations <- randomForestSimulate(pr.distr, n = 1000)\n",
    "head(simulations)"
   ]
  },
  {
   "cell_type": "markdown",
   "metadata": {},
   "source": [
    "# Reproducibility code for Figure 6 in *Legasa et al. 2021*\n",
    "\n",
    "The code provided below can be used to obtain a similar to Figure 6 in *Legasa et al. 2021* (we reproduce here only the continuous part of rainfall) based on a RF with 25 trees and minimum leaf size 5 which considers the `gammaDeviation` as split function."
   ]
  },
  {
   "cell_type": "code",
   "execution_count": 17,
   "metadata": {},
   "outputs": [],
   "source": [
    "future::plan(future::multisession, workers = 6)  # parallelizing using 6 cores\n",
    "\n",
    "predictions <-\n",
    "lapply(VALUE9, function(meteorological.station){\n",
    "    predictions <- lapply(meteorological.station, function(fold){\n",
    "        # training the model\n",
    "        md <- randomForestTrain(x = fold$train.x, y = fold$train.y, \n",
    "                                ntree = 25, minbucket = 5, \n",
    "                                method = \"gammaDeviation\",\n",
    "                                parallel.plan = NULL)\n",
    "        \n",
    "        # applying the trained model to $test.x and returning the observed values $test.y:        \n",
    "        return(list(predicted = randomForestPredict(md, newdata = fold$test.x, method = \"mme\"),\n",
    "                     observed = fold$test.y))\n",
    "    })\n",
    "    \n",
    "    # rearranging the series\n",
    "    predicted <- do.call(rbind, lapply(predictions, function(pr) pr$predicted)) \n",
    "    attr(predicted, \"class\") <- \"RandomForestDist.prediction.simulable\" # recovers the class\n",
    "    observed <- do.call(c, lapply(predictions, function(pr) pr$observed))\n",
    "\n",
    "    return(list(predicted = predicted, observed = observed))\n",
    "})\n",
    "\n",
    "future::plan(future::sequential) # reverting plan to normal"
   ]
  },
  {
   "cell_type": "markdown",
   "metadata": {},
   "source": [
    "We end up with the downscaled probability distribution (parameters *shape* and *rate*) for each station and day, which are then used to generate an ensemble of 250 stochastic rainfall values. With illustrative purposes, these values are subsequently validated in terms of the SDII, SD, P95 and P95A metrics (see the paper for details)."
   ]
  },
  {
   "cell_type": "code",
   "execution_count": 18,
   "metadata": {},
   "outputs": [
    {
     "data": {
      "image/png": "[encoded data removed]",
      "text/plain": [
       "plot without title"
      ]
     },
     "metadata": {
      "image/png": {
       "height": 420,
       "width": 420
      }
     },
     "output_type": "display_data"
    }
   ],
   "source": [
    "validation <- \n",
    "    lapply(predictions, function(station.predictions){  # loop covering each meteorological station\n",
    "        # generating 250 simulations from the predicted shape and rate parameters\n",
    "        observed <- station.predictions$observed\n",
    "        simulations <- randomForestSimulate(prediction = station.predictions$predicted, \n",
    "                                            distr = \"gamma\", n = 250)\n",
    "\n",
    "\n",
    "        # validating each simulation\n",
    "        stochastic.validation <-\n",
    "            apply(simulations, MARGIN = 2, FUN = function(simulation){# for each simulation\n",
    "\n",
    "                P95.simulated <- quantile(simulation, probs = 0.95)\n",
    "                P95.observed <- quantile(observed, probs = 0.95)\n",
    "\n",
    "                return(\n",
    "                    c(SDII = mean(simulation)/mean(observed),\n",
    "                      SD = sd(simulation)/sd(observed),\n",
    "                      P95 = P95.simulated/P95.observed,\n",
    "                      P95A = sum(simulation[simulation >= P95.simulated])/sum(observed[observed >= P95.observed])\n",
    "                     )\n",
    "                )\n",
    "            })\n",
    "\n",
    "        # averaging the 250 values obtained for each validation metric\n",
    "        stochastic.validation <- rowMeans(stochastic.validation)\n",
    "\n",
    "        # correlation is computed for the deterministic series of predicted rainfall; recall E[X] = alpha/beta\n",
    "        alphas <- station.predictions$predicted[ , 1]\n",
    "        betas <- station.predictions$predicted[ , 2]\n",
    "        correlation <- cor(alphas/betas, observed, method = \"spearman\")\n",
    "\n",
    "        return(c(stochastic.validation, Cor.Det = correlation))\n",
    "\n",
    "    })\n",
    "\n",
    "validation <- t(simplify2array(validation))\n",
    "\n",
    "# plotting the results\n",
    "boxplot(validation)   \n",
    "abline(h = 1, lty = 2)"
   ]
  }
 ],
 "metadata": {
  "kernelspec": {
   "display_name": "R",
   "language": "R",
   "name": "ir"
  },
  "language_info": {
   "codemirror_mode": "r",
   "file_extension": ".r",
   "mimetype": "text/x-r-source",
   "name": "R",
   "pygments_lexer": "r",
   "version": "3.6.3"
  },
  "latex_envs": {
   "LaTeX_envs_menu_present": true,
   "autoclose": false,
   "autocomplete": true,
   "bibliofile": "biblio.bib",
   "cite_by": "apalike",
   "current_citInitial": 1,
   "eqLabelWithNumbers": true,
   "eqNumInitial": 1,
   "hotkeys": {
    "equation": "Ctrl-E",
    "itemize": "Ctrl-I"
   },
   "labels_anchors": false,
   "latex_user_defs": false,
   "report_style_numbering": false,
   "user_envs_cfg": false
  },
  "toc": {
   "base_numbering": 1,
   "nav_menu": {},
   "number_sections": true,
   "sideBar": true,
   "skip_h1_title": false,
   "title_cell": "Table of Contents",
   "title_sidebar": "Contents",
   "toc_cell": false,
   "toc_position": {},
   "toc_section_display": true,
   "toc_window_display": false
  }
 },
 "nbformat": 4,
 "nbformat_minor": 4
}
