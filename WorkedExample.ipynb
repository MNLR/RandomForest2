{
 "cells": [
  {
   "cell_type": "markdown",
   "metadata": {},
   "source": [
    "# Brief user guide for the [**RandomForest2**](https://github.com/MNLR/RandomForest2) package \n",
    "\n",
    "This companion notebook briefly explains how to use the main functionalities provided by the `R` package [**RandomForest2**](https://github.com/MNLR/RandomForest2) and presents the code needed to reproduce one of the experiments presented in the article *Adapting Random Forests to Reliably Predict the Probability Distribution of Local Rainfall*, submitted to *Water Resources Research* by *Legasa et al.* In that work, random forests (RFs) are applied to the problem of statistical downscaling of rainfall. In particular, the authors analyze the suitability of different split functions which allow to work with non-normally distributed variable,s and propose a novel a posteriori (AP) approach which permits to accurately estimate the shape and rate parameters of the underlying rainfall distribution, which in turn allows for generating reliable stochastic rainfall series. \n",
    "\n",
    "[**RandomForest2**](https://github.com/MNLR/RandomForest2) requires a modified version of [rpart](https://cran.r-project.org/web/packages/rpart/index.html) which can be found [**here**](https://github.com/MNLR/rpart). In order to run the examples provided below, these two packages need to be first installed. This can be easily done from GitHub using the `devtools` package: "
   ]
  },
  {
   "cell_type": "code",
   "execution_count": null,
   "metadata": {},
   "outputs": [],
   "source": [
    "devtools::install_github(\"MNLR/rpart\")\n",
    "install.packages(c(\"progressr\", \"qmap\", \"fitdistrplus\"))\n",
    "devtools::install_github(\"MNLR/RandomForest2\")"
   ]
  },
  {
   "cell_type": "markdown",
   "metadata": {},
   "source": [
    "We start by loading `RandomForest2` and `VALUE9`, an dataset included in the package which contains daily series of rainfall for 9 illustrative meteorological stations over Europe along with the 17 large-scale reanalysis predictors used for statistical downscaling (see the paper for details)."
   ]
  },
  {
   "cell_type": "code",
   "execution_count": 1,
   "metadata": {},
   "outputs": [
    {
     "name": "stderr",
     "output_type": "stream",
     "text": [
      "Loading required package: rpart\n",
      "\n",
      "Loading required package: progressr\n",
      "\n"
     ]
    }
   ],
   "source": [
    "library(RandomForest2)\n",
    "data(VALUE9)"
   ]
  },
  {
   "cell_type": "markdown",
   "metadata": {},
   "source": [
    "`VALUE9` is a list of 9 elements (one per station), being the data already divided into a stratified 5-fold (F1 = 1979-1984, F2 = 1985-1990, F3 = 1991-1996, F4 = 1997-2002, F5 = 2003-2008). `$train.y` and `$test.y` correspond to the predictands; `$train.x` (training set) and `$test.x` (testing set) are the predictors. For example:"
   ]
  },
  {
   "cell_type": "code",
   "execution_count": 2,
   "metadata": {},
   "outputs": [
    {
     "data": {
      "text/html": [
       "<table class=\"dataframe\">\n",
       "<caption>A matrix: 6 × 69 of type dbl</caption>\n",
       "<tbody>\n",
       "\t<tr><td> 5.4</td><td>100934.56</td><td>101076.31</td><td>101029.38</td><td>101127.6</td><td>0.9725891</td><td>-0.5552429</td><td> 3.362726</td><td>1.4769836</td><td>53970.78</td><td>⋯</td><td>0.0008774727</td><td>0.0007474154</td><td>0.001837683</td><td>0.001404357</td><td>0.002788675</td><td>0.002296162</td><td>0.003939099</td><td>0.003326243</td><td>0.004503078</td><td>0.004167265</td></tr>\n",
       "\t<tr><td> 3.0</td><td> 99861.81</td><td>100098.66</td><td> 99890.75</td><td>100026.2</td><td>4.0751587</td><td> 2.3417603</td><td> 6.654260</td><td>4.7987915</td><td>53126.36</td><td>⋯</td><td>0.0007746874</td><td>0.0008232652</td><td>0.002964854</td><td>0.003158688</td><td>0.002753138</td><td>0.002897739</td><td>0.004851500</td><td>0.004605810</td><td>0.004810254</td><td>0.004700223</td></tr>\n",
       "\t<tr><td> 5.0</td><td>100774.52</td><td>101000.39</td><td>101343.70</td><td>101556.2</td><td>1.7720581</td><td> 0.8526245</td><td> 3.237878</td><td>0.7207886</td><td>53762.79</td><td>⋯</td><td>0.0008526679</td><td>0.0009968218</td><td>0.002528636</td><td>0.002547173</td><td>0.002720682</td><td>0.002845912</td><td>0.004383934</td><td>0.003969920</td><td>0.004411114</td><td>0.003889335</td></tr>\n",
       "\t<tr><td>12.9</td><td>100790.47</td><td>100810.84</td><td>101059.16</td><td>101159.5</td><td>4.7946411</td><td> 4.9987427</td><td> 7.108118</td><td>5.1798950</td><td>54141.42</td><td>⋯</td><td>0.0013121588</td><td>0.0011717600</td><td>0.002218187</td><td>0.002100289</td><td>0.002669751</td><td>0.002809047</td><td>0.004955770</td><td>0.004400434</td><td>0.005563976</td><td>0.005303564</td></tr>\n",
       "\t<tr><td>11.0</td><td> 99843.41</td><td> 99968.94</td><td>100306.59</td><td>100510.2</td><td>8.2443481</td><td> 8.8000122</td><td> 9.919641</td><td>7.6437622</td><td>53829.54</td><td>⋯</td><td>0.0012456127</td><td>0.0012676665</td><td>0.003520003</td><td>0.003533235</td><td>0.004003754</td><td>0.004093757</td><td>0.006390568</td><td>0.006163236</td><td>0.006739852</td><td>0.006437775</td></tr>\n",
       "\t<tr><td> 1.0</td><td> 99936.30</td><td> 99915.36</td><td>100108.30</td><td>100281.5</td><td>7.5472656</td><td> 9.0443359</td><td>10.253320</td><td>8.7977539</td><td>53769.01</td><td>⋯</td><td>0.0014264237</td><td>0.0015940617</td><td>0.003558955</td><td>0.004082522</td><td>0.003949782</td><td>0.004051825</td><td>0.005973617</td><td>0.006448189</td><td>0.006836812</td><td>0.006869952</td></tr>\n",
       "</tbody>\n",
       "</table>\n"
      ],
      "text/latex": [
       "A matrix: 6 × 69 of type dbl\n",
       "\\begin{tabular}{lllllllllllllllllllll}\n",
       "\t  5.4 & 100934.56 & 101076.31 & 101029.38 & 101127.6 & 0.9725891 & -0.5552429 &  3.362726 & 1.4769836 & 53970.78 & ⋯ & 0.0008774727 & 0.0007474154 & 0.001837683 & 0.001404357 & 0.002788675 & 0.002296162 & 0.003939099 & 0.003326243 & 0.004503078 & 0.004167265\\\\\n",
       "\t  3.0 &  99861.81 & 100098.66 &  99890.75 & 100026.2 & 4.0751587 &  2.3417603 &  6.654260 & 4.7987915 & 53126.36 & ⋯ & 0.0007746874 & 0.0008232652 & 0.002964854 & 0.003158688 & 0.002753138 & 0.002897739 & 0.004851500 & 0.004605810 & 0.004810254 & 0.004700223\\\\\n",
       "\t  5.0 & 100774.52 & 101000.39 & 101343.70 & 101556.2 & 1.7720581 &  0.8526245 &  3.237878 & 0.7207886 & 53762.79 & ⋯ & 0.0008526679 & 0.0009968218 & 0.002528636 & 0.002547173 & 0.002720682 & 0.002845912 & 0.004383934 & 0.003969920 & 0.004411114 & 0.003889335\\\\\n",
       "\t 12.9 & 100790.47 & 100810.84 & 101059.16 & 101159.5 & 4.7946411 &  4.9987427 &  7.108118 & 5.1798950 & 54141.42 & ⋯ & 0.0013121588 & 0.0011717600 & 0.002218187 & 0.002100289 & 0.002669751 & 0.002809047 & 0.004955770 & 0.004400434 & 0.005563976 & 0.005303564\\\\\n",
       "\t 11.0 &  99843.41 &  99968.94 & 100306.59 & 100510.2 & 8.2443481 &  8.8000122 &  9.919641 & 7.6437622 & 53829.54 & ⋯ & 0.0012456127 & 0.0012676665 & 0.003520003 & 0.003533235 & 0.004003754 & 0.004093757 & 0.006390568 & 0.006163236 & 0.006739852 & 0.006437775\\\\\n",
       "\t  1.0 &  99936.30 &  99915.36 & 100108.30 & 100281.5 & 7.5472656 &  9.0443359 & 10.253320 & 8.7977539 & 53769.01 & ⋯ & 0.0014264237 & 0.0015940617 & 0.003558955 & 0.004082522 & 0.003949782 & 0.004051825 & 0.005973617 & 0.006448189 & 0.006836812 & 0.006869952\\\\\n",
       "\\end{tabular}\n"
      ],
      "text/markdown": [
       "\n",
       "A matrix: 6 × 69 of type dbl\n",
       "\n",
       "|  5.4 | 100934.56 | 101076.31 | 101029.38 | 101127.6 | 0.9725891 | -0.5552429 |  3.362726 | 1.4769836 | 53970.78 | ⋯ | 0.0008774727 | 0.0007474154 | 0.001837683 | 0.001404357 | 0.002788675 | 0.002296162 | 0.003939099 | 0.003326243 | 0.004503078 | 0.004167265 |\n",
       "|  3.0 |  99861.81 | 100098.66 |  99890.75 | 100026.2 | 4.0751587 |  2.3417603 |  6.654260 | 4.7987915 | 53126.36 | ⋯ | 0.0007746874 | 0.0008232652 | 0.002964854 | 0.003158688 | 0.002753138 | 0.002897739 | 0.004851500 | 0.004605810 | 0.004810254 | 0.004700223 |\n",
       "|  5.0 | 100774.52 | 101000.39 | 101343.70 | 101556.2 | 1.7720581 |  0.8526245 |  3.237878 | 0.7207886 | 53762.79 | ⋯ | 0.0008526679 | 0.0009968218 | 0.002528636 | 0.002547173 | 0.002720682 | 0.002845912 | 0.004383934 | 0.003969920 | 0.004411114 | 0.003889335 |\n",
       "| 12.9 | 100790.47 | 100810.84 | 101059.16 | 101159.5 | 4.7946411 |  4.9987427 |  7.108118 | 5.1798950 | 54141.42 | ⋯ | 0.0013121588 | 0.0011717600 | 0.002218187 | 0.002100289 | 0.002669751 | 0.002809047 | 0.004955770 | 0.004400434 | 0.005563976 | 0.005303564 |\n",
       "| 11.0 |  99843.41 |  99968.94 | 100306.59 | 100510.2 | 8.2443481 |  8.8000122 |  9.919641 | 7.6437622 | 53829.54 | ⋯ | 0.0012456127 | 0.0012676665 | 0.003520003 | 0.003533235 | 0.004003754 | 0.004093757 | 0.006390568 | 0.006163236 | 0.006739852 | 0.006437775 |\n",
       "|  1.0 |  99936.30 |  99915.36 | 100108.30 | 100281.5 | 7.5472656 |  9.0443359 | 10.253320 | 8.7977539 | 53769.01 | ⋯ | 0.0014264237 | 0.0015940617 | 0.003558955 | 0.004082522 | 0.003949782 | 0.004051825 | 0.005973617 | 0.006448189 | 0.006836812 | 0.006869952 |\n",
       "\n"
      ],
      "text/plain": [
       "     [,1] [,2]      [,3]      [,4]      [,5]     [,6]      [,7]       [,8]     \n",
       "[1,]  5.4 100934.56 101076.31 101029.38 101127.6 0.9725891 -0.5552429  3.362726\n",
       "[2,]  3.0  99861.81 100098.66  99890.75 100026.2 4.0751587  2.3417603  6.654260\n",
       "[3,]  5.0 100774.52 101000.39 101343.70 101556.2 1.7720581  0.8526245  3.237878\n",
       "[4,] 12.9 100790.47 100810.84 101059.16 101159.5 4.7946411  4.9987427  7.108118\n",
       "[5,] 11.0  99843.41  99968.94 100306.59 100510.2 8.2443481  8.8000122  9.919641\n",
       "[6,]  1.0  99936.30  99915.36 100108.30 100281.5 7.5472656  9.0443359 10.253320\n",
       "     [,9]      [,10]    [,11] [,12]        [,13]        [,14]       [,15]      \n",
       "[1,] 1.4769836 53970.78 ⋯     0.0008774727 0.0007474154 0.001837683 0.001404357\n",
       "[2,] 4.7987915 53126.36 ⋯     0.0007746874 0.0008232652 0.002964854 0.003158688\n",
       "[3,] 0.7207886 53762.79 ⋯     0.0008526679 0.0009968218 0.002528636 0.002547173\n",
       "[4,] 5.1798950 54141.42 ⋯     0.0013121588 0.0011717600 0.002218187 0.002100289\n",
       "[5,] 7.6437622 53829.54 ⋯     0.0012456127 0.0012676665 0.003520003 0.003533235\n",
       "[6,] 8.7977539 53769.01 ⋯     0.0014264237 0.0015940617 0.003558955 0.004082522\n",
       "     [,16]       [,17]       [,18]       [,19]       [,20]       [,21]      \n",
       "[1,] 0.002788675 0.002296162 0.003939099 0.003326243 0.004503078 0.004167265\n",
       "[2,] 0.002753138 0.002897739 0.004851500 0.004605810 0.004810254 0.004700223\n",
       "[3,] 0.002720682 0.002845912 0.004383934 0.003969920 0.004411114 0.003889335\n",
       "[4,] 0.002669751 0.002809047 0.004955770 0.004400434 0.005563976 0.005303564\n",
       "[5,] 0.004003754 0.004093757 0.006390568 0.006163236 0.006739852 0.006437775\n",
       "[6,] 0.003949782 0.004051825 0.005973617 0.006448189 0.006836812 0.006869952"
      ]
     },
     "metadata": {},
     "output_type": "display_data"
    }
   ],
   "source": [
    "head(cbind(VALUE9[[1]]$f1_79_84$train.y, VALUE9[[1]]$f1_79_84$train.x))"
   ]
  },
  {
   "cell_type": "markdown",
   "metadata": {},
   "source": [
    "## Training the models\n",
    "To illustrate the training process, let's select the sixth station and first fold:"
   ]
  },
  {
   "cell_type": "code",
   "execution_count": 3,
   "metadata": {},
   "outputs": [],
   "source": [
    "train.x <- VALUE9[[6]]$f1_79_84$train.x\n",
    "train.y <- VALUE9[[6]]$f1_79_84$train.y"
   ]
  },
  {
   "cell_type": "markdown",
   "metadata": {},
   "source": [
    "The function `randomForestTrain()` builds the model for the predictors `x` and predictands `y`."
   ]
  },
  {
   "cell_type": "code",
   "execution_count": 4,
   "metadata": {},
   "outputs": [],
   "source": [
    "rf <- randomForestTrain(x = train.x, y = train.y)"
   ]
  },
  {
   "cell_type": "markdown",
   "metadata": {},
   "source": [
    "The user can specify the desired values for the parameters `mtry` (number of predictors to randomly use as candidate split variables), `ntree` (number of trees in the forest), `minbucket` (minimum number of elements each leaf is required to have), `minsplit` (minimum number of elements each node is required to have to attempt the splitting) and `maxdepth` (maximum depth allowed for each tree)."
   ]
  },
  {
   "cell_type": "code",
   "execution_count": 5,
   "metadata": {},
   "outputs": [],
   "source": [
    "rf <- randomForestTrain(x = train.x, y = train.y, ntree = 25, mtry = 22, \n",
    "                        minbucket = 10, minsplit = 30, maxdepth = 10)"
   ]
  },
  {
   "cell_type": "markdown",
   "metadata": {},
   "source": [
    "By default, random forests consider the root mean squared error as split function. However, [RandomForest2](https://github.com/MNLR/RandomForest2) allows for using different split functions (`split.function` argument), which have been defined in the [modified version of `rpart`](https://github.com/MNLR/rpart). Currently supported options are `\"anova\", \"poisson\", \"class\", \"exp\", \"gammaLLMME\", \"gammaLLmean\", \"bernoulliGammaLLMME\", \"gammaDeviation\", \"gammaLLBC3\", \"bernoulliLL\"` and `\"binaryCrossEntropyGammaDeviation\"`. \n",
    "\n",
    "In this work we restrict ourselves to the 2-parameter gamma distribution family, with different estimators (see the paper for details)."
   ]
  },
  {
   "cell_type": "code",
   "execution_count": 6,
   "metadata": {},
   "outputs": [],
   "source": [
    "rf.dev <- randomForestTrain(x = train.x, y = train.y, ntree = 100, minbucket = 10, method = \"gammaDeviation\")\n",
    "rf.LLMME <- randomForestTrain(x = train.x, y = train.y, ntree = 100, minbucket = 10, method = \"gammaLLMME\")\n",
    "rf.LLBC3 <- randomForestTrain(x = train.x, y = train.y, ntree = 100, minbucket = 10, method = \"gammaLLBC3\")"
   ]
  },
  {
   "cell_type": "markdown",
   "metadata": {},
   "source": [
    "## Parallelization\n",
    "\n",
    "The training process can be parallelized by means of the package `future.apply`. The package has to be installed independently, otherwise parallelization will not be an option. Use `install.packages(future.apply)` to install it. This will also install the dependency `future`. The simplest way to use parallelization is setting `parallel.plan = \"auto\"`. This will automatically use all the available cores to train the model in parallel."
   ]
  },
  {
   "cell_type": "code",
   "execution_count": 7,
   "metadata": {},
   "outputs": [],
   "source": [
    "rf <- randomForestTrain(x = train.x, y = train.y, ntree = 100, minbucket = 10,\n",
    "                        method = \"gammaDeviation\",\n",
    "                        parallel.plan = \"auto\")"
   ]
  },
  {
   "cell_type": "markdown",
   "metadata": {},
   "source": [
    "If not set to `\"auto\"`, the parameter `paralell.plan` will use the execution plan stored in the `strategy` parameter in `future::plan()`. The interested reader is referred to the packages `future` and `future.apply` for the available options. As an example, the following block of code shows how parallelization in 4 cores can be achieved in combination with the parameter `workers` and setting the `parallel.plan` to `multisession`:"
   ]
  },
  {
   "cell_type": "code",
   "execution_count": 8,
   "metadata": {},
   "outputs": [],
   "source": [
    "rf <- randomForestTrain(x = train.x, y = train.y, ntree = 100, minbucket = 10, \n",
    "                        method = \"gammaDeviation\", \n",
    "                        parallel.plan = future::multisession, workers = 4)"
   ]
  },
  {
   "cell_type": "markdown",
   "metadata": {},
   "source": [
    "Also, if missing or set to `NULL` (default), the function will use the current execution plan. This is useful to configure a customized plan outside the function, as we do in the next example. In particular, we set the execution to `multisession()` prior to launching the loop and train several models using this plan (do not forget to close the sessions by reverting to `sequential()`)."
   ]
  },
  {
   "cell_type": "code",
   "execution_count": 9,
   "metadata": {},
   "outputs": [],
   "source": [
    "future::plan(future::multisession, workers = 4)\n",
    "\n",
    "rfs <- lapply(VALUE9[[1]], function(fold){\n",
    "    return(\n",
    "        randomForestTrain(x = fold$train.x, y = fold$train.y, ntree = 25, minbucket = 10, \n",
    "                          method = \"gammaDeviation\",\n",
    "                          parallel.plan = NULL)\n",
    "    )\n",
    "    \n",
    "})\n",
    "\n",
    "future::plan(future::sequential)"
   ]
  },
  {
   "cell_type": "markdown",
   "metadata": {},
   "source": [
    "Note that using `parallel.plan = NA` will avoid parallelization altogether. This is the default if `future.apply` is not available."
   ]
  },
  {
   "cell_type": "markdown",
   "metadata": {},
   "source": [
    "## Generating the predictions\n",
    "\n",
    "Once the random forest is trained, the corresponding predictions can be obtained with the function `randomForestPredict()`. We use the out-of-sample predictors (`$test.x`) for the models above."
   ]
  },
  {
   "cell_type": "code",
   "execution_count": 10,
   "metadata": {},
   "outputs": [],
   "source": [
    "test.x <- VALUE9[[6]]$f1_79_84$test.x\n",
    "test.y <- VALUE9[[6]]$f1_79_84$test.y"
   ]
  },
  {
   "cell_type": "markdown",
   "metadata": {},
   "source": [
    "The default configuration of `randomForestPredict()` considers the mean as aggregation function (this is the standard procedure in random forests; see the paper for details):"
   ]
  },
  {
   "cell_type": "code",
   "execution_count": 11,
   "metadata": {},
   "outputs": [
    {
     "data": {
      "text/html": [
       "<style>\n",
       ".dl-inline {width: auto; margin:0; padding: 0}\n",
       ".dl-inline>dt, .dl-inline>dd {float: none; width: auto; display: inline-block}\n",
       ".dl-inline>dt::after {content: \":\\0020\"; padding-right: .5ex}\n",
       ".dl-inline>dt:not(:first-of-type) {padding-left: .5ex}\n",
       "</style><dl class=dl-inline><dt>1</dt><dd>9.10497585076127</dd><dt>2</dt><dd>3.08777004435932</dd><dt>3</dt><dd>5.17882580778721</dd><dt>4</dt><dd>2.66586621188115</dd><dt>5</dt><dd>3.9547599269327</dd><dt>6</dt><dd>8.1807959768411</dd></dl>\n"
      ],
      "text/latex": [
       "\\begin{description*}\n",
       "\\item[1] 9.10497585076127\n",
       "\\item[2] 3.08777004435932\n",
       "\\item[3] 5.17882580778721\n",
       "\\item[4] 2.66586621188115\n",
       "\\item[5] 3.9547599269327\n",
       "\\item[6] 8.1807959768411\n",
       "\\end{description*}\n"
      ],
      "text/markdown": [
       "1\n",
       ":   9.104975850761272\n",
       ":   3.087770044359323\n",
       ":   5.178825807787214\n",
       ":   2.665866211881155\n",
       ":   3.95475992693276\n",
       ":   8.1807959768411\n",
       "\n"
      ],
      "text/plain": [
       "       1        2        3        4        5        6 \n",
       "9.104976 3.087770 5.178826 2.665866 3.954760 8.180796 "
      ]
     },
     "metadata": {},
     "output_type": "display_data"
    }
   ],
   "source": [
    "pr <- randomForestPredict(rf, newdata = test.x)\n",
    "head(pr)"
   ]
  },
  {
   "cell_type": "markdown",
   "metadata": {},
   "source": [
    "The parameter `bagging.function` can be used to apply other aggregation functions (e.g.the median). Also, if set to `NA`, `randomForestPredict()` will provide the predictions returned by all the individual trees."
   ]
  },
  {
   "cell_type": "code",
   "execution_count": 12,
   "metadata": {},
   "outputs": [
    {
     "data": {
      "text/html": [
       "<table class=\"dataframe\">\n",
       "<caption>A matrix: 10 × 25 of type dbl</caption>\n",
       "<tbody>\n",
       "\t<tr><th scope=row>1</th><td>19.707692</td><td> 4.0280000</td><td> 7.080000</td><td> 5.1758621</td><td>7.163158</td><td> 8.7222222</td><td> 7.626667</td><td> 9.317857</td><td> 6.524000</td><td>14.595238</td><td>⋯</td><td> 5.992857</td><td>14.147059</td><td>17.488000</td><td> 3.940000</td><td>26.928571</td><td>13.250000</td><td> 3.123810</td><td> 2.931034</td><td> 1.326087</td><td> 7.882353</td></tr>\n",
       "\t<tr><th scope=row>2</th><td> 2.870794</td><td> 0.9833333</td><td> 5.180000</td><td> 0.8485714</td><td>1.685185</td><td> 0.8636364</td><td> 3.805263</td><td> 1.488412</td><td> 1.210390</td><td> 1.205882</td><td>⋯</td><td> 3.240000</td><td> 6.253846</td><td> 1.411818</td><td> 1.343590</td><td> 0.988785</td><td> 1.605015</td><td> 9.650000</td><td> 4.650000</td><td> 4.396154</td><td> 2.412500</td></tr>\n",
       "\t<tr><th scope=row>3</th><td> 3.415873</td><td> 6.5454545</td><td> 8.586957</td><td> 8.2928571</td><td>2.744000</td><td> 8.7222222</td><td> 3.460000</td><td> 7.376471</td><td> 1.987234</td><td> 2.554545</td><td>⋯</td><td> 3.690863</td><td> 2.283333</td><td> 1.407407</td><td> 2.309091</td><td> 7.112500</td><td> 2.045455</td><td>11.963636</td><td> 4.650000</td><td>10.038889</td><td> 2.121739</td></tr>\n",
       "\t<tr><th scope=row>4</th><td> 1.666667</td><td> 4.0280000</td><td> 1.537500</td><td> 1.0771429</td><td>1.074419</td><td> 8.7222222</td><td> 4.000000</td><td> 1.769231</td><td> 1.987234</td><td> 1.185185</td><td>⋯</td><td> 1.037037</td><td> 4.572000</td><td> 1.407407</td><td> 2.309091</td><td> 3.630769</td><td> 2.045455</td><td> 1.442353</td><td> 2.254167</td><td> 3.318750</td><td> 2.121739</td></tr>\n",
       "\t<tr><th scope=row>5</th><td> 2.589809</td><td> 2.7656716</td><td> 5.180000</td><td> 3.4556338</td><td>5.417647</td><td>10.3533333</td><td> 1.366667</td><td> 3.902353</td><td> 3.784677</td><td> 2.782759</td><td>⋯</td><td> 2.026667</td><td> 4.287500</td><td> 5.000382</td><td> 5.730435</td><td> 3.712500</td><td> 7.834483</td><td> 4.680000</td><td> 1.352542</td><td> 2.147085</td><td> 1.756522</td></tr>\n",
       "\t<tr><th scope=row>6</th><td> 8.097778</td><td>11.6461538</td><td> 8.023810</td><td> 4.7428571</td><td>8.012338</td><td>12.6585366</td><td> 9.542105</td><td> 8.438211</td><td> 2.928571</td><td> 6.615294</td><td>⋯</td><td>10.638095</td><td>17.694231</td><td> 2.715385</td><td> 2.480952</td><td> 2.309524</td><td>10.913043</td><td>12.638095</td><td> 5.668421</td><td>13.480000</td><td> 8.131818</td></tr>\n",
       "\t<tr><th scope=row>7</th><td> 8.097778</td><td> 7.0206897</td><td>12.450000</td><td>24.7100000</td><td>4.129474</td><td> 7.1603053</td><td> 9.628947</td><td> 8.438211</td><td> 8.269466</td><td>11.561905</td><td>⋯</td><td>10.117164</td><td> 4.601887</td><td>22.238462</td><td>10.318803</td><td> 7.266667</td><td> 6.423810</td><td> 8.858879</td><td>11.010870</td><td> 4.115385</td><td> 7.790909</td></tr>\n",
       "\t<tr><th scope=row>8</th><td> 5.293103</td><td> 3.1166667</td><td> 3.523246</td><td> 6.9045455</td><td>1.832353</td><td> 4.0812500</td><td> 1.748936</td><td> 2.541667</td><td> 6.445833</td><td> 1.373913</td><td>⋯</td><td> 4.453333</td><td> 1.991892</td><td> 3.257961</td><td> 3.078082</td><td> 1.725926</td><td> 1.108000</td><td> 3.677778</td><td> 1.964286</td><td> 5.720000</td><td> 1.694444</td></tr>\n",
       "\t<tr><th scope=row>9</th><td> 8.865517</td><td>14.1545455</td><td> 6.813333</td><td>20.8800000</td><td>4.942105</td><td> 7.8437500</td><td>11.428571</td><td> 8.592308</td><td>11.271429</td><td>10.415385</td><td>⋯</td><td> 4.453333</td><td>14.357692</td><td> 2.788235</td><td> 6.758586</td><td> 9.106250</td><td> 7.144737</td><td> 5.287500</td><td> 5.596296</td><td> 5.297297</td><td>12.647059</td></tr>\n",
       "\t<tr><th scope=row>10</th><td> 8.865517</td><td>14.1241379</td><td>18.035714</td><td> 9.5526316</td><td>4.942105</td><td>10.9934211</td><td>17.017647</td><td>11.683333</td><td>11.271429</td><td> 8.512500</td><td>⋯</td><td>10.385000</td><td> 9.076923</td><td> 8.552381</td><td>10.755665</td><td>12.598734</td><td>11.203077</td><td> 8.350000</td><td> 9.652941</td><td> 7.357143</td><td> 6.505882</td></tr>\n",
       "</tbody>\n",
       "</table>\n"
      ],
      "text/latex": [
       "A matrix: 10 × 25 of type dbl\n",
       "\\begin{tabular}{r|lllllllllllllllllllll}\n",
       "\t1 & 19.707692 &  4.0280000 &  7.080000 &  5.1758621 & 7.163158 &  8.7222222 &  7.626667 &  9.317857 &  6.524000 & 14.595238 & ⋯ &  5.992857 & 14.147059 & 17.488000 &  3.940000 & 26.928571 & 13.250000 &  3.123810 &  2.931034 &  1.326087 &  7.882353\\\\\n",
       "\t2 &  2.870794 &  0.9833333 &  5.180000 &  0.8485714 & 1.685185 &  0.8636364 &  3.805263 &  1.488412 &  1.210390 &  1.205882 & ⋯ &  3.240000 &  6.253846 &  1.411818 &  1.343590 &  0.988785 &  1.605015 &  9.650000 &  4.650000 &  4.396154 &  2.412500\\\\\n",
       "\t3 &  3.415873 &  6.5454545 &  8.586957 &  8.2928571 & 2.744000 &  8.7222222 &  3.460000 &  7.376471 &  1.987234 &  2.554545 & ⋯ &  3.690863 &  2.283333 &  1.407407 &  2.309091 &  7.112500 &  2.045455 & 11.963636 &  4.650000 & 10.038889 &  2.121739\\\\\n",
       "\t4 &  1.666667 &  4.0280000 &  1.537500 &  1.0771429 & 1.074419 &  8.7222222 &  4.000000 &  1.769231 &  1.987234 &  1.185185 & ⋯ &  1.037037 &  4.572000 &  1.407407 &  2.309091 &  3.630769 &  2.045455 &  1.442353 &  2.254167 &  3.318750 &  2.121739\\\\\n",
       "\t5 &  2.589809 &  2.7656716 &  5.180000 &  3.4556338 & 5.417647 & 10.3533333 &  1.366667 &  3.902353 &  3.784677 &  2.782759 & ⋯ &  2.026667 &  4.287500 &  5.000382 &  5.730435 &  3.712500 &  7.834483 &  4.680000 &  1.352542 &  2.147085 &  1.756522\\\\\n",
       "\t6 &  8.097778 & 11.6461538 &  8.023810 &  4.7428571 & 8.012338 & 12.6585366 &  9.542105 &  8.438211 &  2.928571 &  6.615294 & ⋯ & 10.638095 & 17.694231 &  2.715385 &  2.480952 &  2.309524 & 10.913043 & 12.638095 &  5.668421 & 13.480000 &  8.131818\\\\\n",
       "\t7 &  8.097778 &  7.0206897 & 12.450000 & 24.7100000 & 4.129474 &  7.1603053 &  9.628947 &  8.438211 &  8.269466 & 11.561905 & ⋯ & 10.117164 &  4.601887 & 22.238462 & 10.318803 &  7.266667 &  6.423810 &  8.858879 & 11.010870 &  4.115385 &  7.790909\\\\\n",
       "\t8 &  5.293103 &  3.1166667 &  3.523246 &  6.9045455 & 1.832353 &  4.0812500 &  1.748936 &  2.541667 &  6.445833 &  1.373913 & ⋯ &  4.453333 &  1.991892 &  3.257961 &  3.078082 &  1.725926 &  1.108000 &  3.677778 &  1.964286 &  5.720000 &  1.694444\\\\\n",
       "\t9 &  8.865517 & 14.1545455 &  6.813333 & 20.8800000 & 4.942105 &  7.8437500 & 11.428571 &  8.592308 & 11.271429 & 10.415385 & ⋯ &  4.453333 & 14.357692 &  2.788235 &  6.758586 &  9.106250 &  7.144737 &  5.287500 &  5.596296 &  5.297297 & 12.647059\\\\\n",
       "\t10 &  8.865517 & 14.1241379 & 18.035714 &  9.5526316 & 4.942105 & 10.9934211 & 17.017647 & 11.683333 & 11.271429 &  8.512500 & ⋯ & 10.385000 &  9.076923 &  8.552381 & 10.755665 & 12.598734 & 11.203077 &  8.350000 &  9.652941 &  7.357143 &  6.505882\\\\\n",
       "\\end{tabular}\n"
      ],
      "text/markdown": [
       "\n",
       "A matrix: 10 × 25 of type dbl\n",
       "\n",
       "| 1 | 19.707692 |  4.0280000 |  7.080000 |  5.1758621 | 7.163158 |  8.7222222 |  7.626667 |  9.317857 |  6.524000 | 14.595238 | ⋯ |  5.992857 | 14.147059 | 17.488000 |  3.940000 | 26.928571 | 13.250000 |  3.123810 |  2.931034 |  1.326087 |  7.882353 |\n",
       "| 2 |  2.870794 |  0.9833333 |  5.180000 |  0.8485714 | 1.685185 |  0.8636364 |  3.805263 |  1.488412 |  1.210390 |  1.205882 | ⋯ |  3.240000 |  6.253846 |  1.411818 |  1.343590 |  0.988785 |  1.605015 |  9.650000 |  4.650000 |  4.396154 |  2.412500 |\n",
       "| 3 |  3.415873 |  6.5454545 |  8.586957 |  8.2928571 | 2.744000 |  8.7222222 |  3.460000 |  7.376471 |  1.987234 |  2.554545 | ⋯ |  3.690863 |  2.283333 |  1.407407 |  2.309091 |  7.112500 |  2.045455 | 11.963636 |  4.650000 | 10.038889 |  2.121739 |\n",
       "| 4 |  1.666667 |  4.0280000 |  1.537500 |  1.0771429 | 1.074419 |  8.7222222 |  4.000000 |  1.769231 |  1.987234 |  1.185185 | ⋯ |  1.037037 |  4.572000 |  1.407407 |  2.309091 |  3.630769 |  2.045455 |  1.442353 |  2.254167 |  3.318750 |  2.121739 |\n",
       "| 5 |  2.589809 |  2.7656716 |  5.180000 |  3.4556338 | 5.417647 | 10.3533333 |  1.366667 |  3.902353 |  3.784677 |  2.782759 | ⋯ |  2.026667 |  4.287500 |  5.000382 |  5.730435 |  3.712500 |  7.834483 |  4.680000 |  1.352542 |  2.147085 |  1.756522 |\n",
       "| 6 |  8.097778 | 11.6461538 |  8.023810 |  4.7428571 | 8.012338 | 12.6585366 |  9.542105 |  8.438211 |  2.928571 |  6.615294 | ⋯ | 10.638095 | 17.694231 |  2.715385 |  2.480952 |  2.309524 | 10.913043 | 12.638095 |  5.668421 | 13.480000 |  8.131818 |\n",
       "| 7 |  8.097778 |  7.0206897 | 12.450000 | 24.7100000 | 4.129474 |  7.1603053 |  9.628947 |  8.438211 |  8.269466 | 11.561905 | ⋯ | 10.117164 |  4.601887 | 22.238462 | 10.318803 |  7.266667 |  6.423810 |  8.858879 | 11.010870 |  4.115385 |  7.790909 |\n",
       "| 8 |  5.293103 |  3.1166667 |  3.523246 |  6.9045455 | 1.832353 |  4.0812500 |  1.748936 |  2.541667 |  6.445833 |  1.373913 | ⋯ |  4.453333 |  1.991892 |  3.257961 |  3.078082 |  1.725926 |  1.108000 |  3.677778 |  1.964286 |  5.720000 |  1.694444 |\n",
       "| 9 |  8.865517 | 14.1545455 |  6.813333 | 20.8800000 | 4.942105 |  7.8437500 | 11.428571 |  8.592308 | 11.271429 | 10.415385 | ⋯ |  4.453333 | 14.357692 |  2.788235 |  6.758586 |  9.106250 |  7.144737 |  5.287500 |  5.596296 |  5.297297 | 12.647059 |\n",
       "| 10 |  8.865517 | 14.1241379 | 18.035714 |  9.5526316 | 4.942105 | 10.9934211 | 17.017647 | 11.683333 | 11.271429 |  8.512500 | ⋯ | 10.385000 |  9.076923 |  8.552381 | 10.755665 | 12.598734 | 11.203077 |  8.350000 |  9.652941 |  7.357143 |  6.505882 |\n",
       "\n"
      ],
      "text/plain": [
       "   [,1]      [,2]       [,3]      [,4]       [,5]     [,6]       [,7]     \n",
       "1  19.707692  4.0280000  7.080000  5.1758621 7.163158  8.7222222  7.626667\n",
       "2   2.870794  0.9833333  5.180000  0.8485714 1.685185  0.8636364  3.805263\n",
       "3   3.415873  6.5454545  8.586957  8.2928571 2.744000  8.7222222  3.460000\n",
       "4   1.666667  4.0280000  1.537500  1.0771429 1.074419  8.7222222  4.000000\n",
       "5   2.589809  2.7656716  5.180000  3.4556338 5.417647 10.3533333  1.366667\n",
       "6   8.097778 11.6461538  8.023810  4.7428571 8.012338 12.6585366  9.542105\n",
       "7   8.097778  7.0206897 12.450000 24.7100000 4.129474  7.1603053  9.628947\n",
       "8   5.293103  3.1166667  3.523246  6.9045455 1.832353  4.0812500  1.748936\n",
       "9   8.865517 14.1545455  6.813333 20.8800000 4.942105  7.8437500 11.428571\n",
       "10  8.865517 14.1241379 18.035714  9.5526316 4.942105 10.9934211 17.017647\n",
       "   [,8]      [,9]      [,10]     [,11] [,12]     [,13]     [,14]     [,15]    \n",
       "1   9.317857  6.524000 14.595238 ⋯      5.992857 14.147059 17.488000  3.940000\n",
       "2   1.488412  1.210390  1.205882 ⋯      3.240000  6.253846  1.411818  1.343590\n",
       "3   7.376471  1.987234  2.554545 ⋯      3.690863  2.283333  1.407407  2.309091\n",
       "4   1.769231  1.987234  1.185185 ⋯      1.037037  4.572000  1.407407  2.309091\n",
       "5   3.902353  3.784677  2.782759 ⋯      2.026667  4.287500  5.000382  5.730435\n",
       "6   8.438211  2.928571  6.615294 ⋯     10.638095 17.694231  2.715385  2.480952\n",
       "7   8.438211  8.269466 11.561905 ⋯     10.117164  4.601887 22.238462 10.318803\n",
       "8   2.541667  6.445833  1.373913 ⋯      4.453333  1.991892  3.257961  3.078082\n",
       "9   8.592308 11.271429 10.415385 ⋯      4.453333 14.357692  2.788235  6.758586\n",
       "10 11.683333 11.271429  8.512500 ⋯     10.385000  9.076923  8.552381 10.755665\n",
       "   [,16]     [,17]     [,18]     [,19]     [,20]     [,21]    \n",
       "1  26.928571 13.250000  3.123810  2.931034  1.326087  7.882353\n",
       "2   0.988785  1.605015  9.650000  4.650000  4.396154  2.412500\n",
       "3   7.112500  2.045455 11.963636  4.650000 10.038889  2.121739\n",
       "4   3.630769  2.045455  1.442353  2.254167  3.318750  2.121739\n",
       "5   3.712500  7.834483  4.680000  1.352542  2.147085  1.756522\n",
       "6   2.309524 10.913043 12.638095  5.668421 13.480000  8.131818\n",
       "7   7.266667  6.423810  8.858879 11.010870  4.115385  7.790909\n",
       "8   1.725926  1.108000  3.677778  1.964286  5.720000  1.694444\n",
       "9   9.106250  7.144737  5.287500  5.596296  5.297297 12.647059\n",
       "10 12.598734 11.203077  8.350000  9.652941  7.357143  6.505882"
      ]
     },
     "metadata": {},
     "output_type": "display_data"
    }
   ],
   "source": [
    "pr.median <- randomForestPredict(rf, newdata = test.x, bagging.function = median)\n",
    "pr.alltrees <- randomForestPredict(rf, newdata = test.x, bagging.function = NA)\n",
    "pr.alltrees[1:10,] # Show the 10 first predictions returned by the 100 trees"
   ]
  },
  {
   "cell_type": "markdown",
   "metadata": {},
   "source": [
    "The parameter `method` controls the *a posteriori* approach (the reader is referred to the paper for details). The available options are described in the help page (`?randomForestPredict`), and we summarize them here. If `method` is not `NULL`, the argument `bagging.function` is ignored.\n",
    "\n",
    "- `method = \"leaves\"` provides all the observations for each prediction.\n",
    "- `method = \"random.sample\"` draws a random sample from the leaves for each prediction. \n",
    "- `method = \"aposteriori\"` returns the parameter of the probability distribution of `train.y | train.x`, as estimated using Moments Matching Estimation (refer to `fitdistrplus::fitdist()`). In the case of the gamma distribution, the shape and rate parameters of the distribution are returned. `method = \"bc3\"` uses BC3 estimators for the gamma distribution (see Legasa et al.). Additionally, this parameter can be used to select the estimation method (see `fitdistrplus::fitdist()`), i.e., one of the following: `\"mme\"` (Moments Matching Estimation; default),`\"mle\"` (Maximum Likelihood Estimation), `\"qme\"` (Quantile Matching Estimation), `\"mge\"` (Maximum Goodness-of-fit Estimation), `\"mse\"` (Maximum Spacing Estimation). Note that some of these options require additional parameters (use `...`), and some of them may not converge.\n",
    "\n",
    "We provide some examples below."
   ]
  },
  {
   "cell_type": "markdown",
   "metadata": {},
   "source": [
    "Setting the parameter `method = \"leaves\"` allows us to plot `train.y | train.x`, for instance:"
   ]
  },
  {
   "cell_type": "code",
   "execution_count": 13,
   "metadata": {},
   "outputs": [
    {
     "data": {
      "image/png": "[encoded data removed]",
      "text/plain": [
       "Plot with title “test.y | train.x”"
      ]
     },
     "metadata": {
      "image/png": {
       "height": 420,
       "width": 420
      }
     },
     "output_type": "display_data"
    }
   ],
   "source": [
    "pr.leaves <- randomForestPredict(rf, newdata = test.x, method = \"leaves\")\n",
    "\n",
    "par(mfrow = c(1,2))\n",
    "hist(pr.leaves[[100]], breaks = 50, xlab = \"Rainfall\", freq = FALSE,\n",
    "     main = \"test.y | train.x\", ylim = c(0, 0.25), xlim = c(0,60))\n",
    "hist(pr.leaves[[300]], breaks = 50, xlab = \"Rainfall\", freq = FALSE, \n",
    "     main = \"test.y | train.x\",ylim = c(0, 0.25), xlim = c(0,60))"
   ]
  },
  {
   "cell_type": "markdown",
   "metadata": {},
   "source": [
    "As the model was trained using the *deviation* for the 2 parameter gamma distribution, using `method = \"aposteriori\"` provides the shape and rate parameters for each prediction:"
   ]
  },
  {
   "cell_type": "code",
   "execution_count": 14,
   "metadata": {},
   "outputs": [
    {
     "data": {
      "text/html": [
       "<table class=\"dataframe\">\n",
       "<caption>A matrix: 10 × 2 of type dbl</caption>\n",
       "<thead>\n",
       "\t<tr><th scope=col>mean</th><th scope=col>sd</th></tr>\n",
       "</thead>\n",
       "<tbody>\n",
       "\t<tr><td> 8.567043</td><td>8.929944</td></tr>\n",
       "\t<tr><td> 2.057696</td><td>2.355131</td></tr>\n",
       "\t<tr><td> 4.390519</td><td>4.311260</td></tr>\n",
       "\t<tr><td> 2.370429</td><td>2.563702</td></tr>\n",
       "\t<tr><td> 3.430964</td><td>3.611757</td></tr>\n",
       "\t<tr><td> 8.167465</td><td>6.278448</td></tr>\n",
       "\t<tr><td> 7.929120</td><td>5.945889</td></tr>\n",
       "\t<tr><td> 3.136086</td><td>3.263602</td></tr>\n",
       "\t<tr><td> 8.423594</td><td>5.928816</td></tr>\n",
       "\t<tr><td>10.706578</td><td>5.797082</td></tr>\n",
       "</tbody>\n",
       "</table>\n"
      ],
      "text/latex": [
       "A matrix: 10 × 2 of type dbl\n",
       "\\begin{tabular}{ll}\n",
       " mean & sd\\\\\n",
       "\\hline\n",
       "\t  8.567043 & 8.929944\\\\\n",
       "\t  2.057696 & 2.355131\\\\\n",
       "\t  4.390519 & 4.311260\\\\\n",
       "\t  2.370429 & 2.563702\\\\\n",
       "\t  3.430964 & 3.611757\\\\\n",
       "\t  8.167465 & 6.278448\\\\\n",
       "\t  7.929120 & 5.945889\\\\\n",
       "\t  3.136086 & 3.263602\\\\\n",
       "\t  8.423594 & 5.928816\\\\\n",
       "\t 10.706578 & 5.797082\\\\\n",
       "\\end{tabular}\n"
      ],
      "text/markdown": [
       "\n",
       "A matrix: 10 × 2 of type dbl\n",
       "\n",
       "| mean | sd |\n",
       "|---|---|\n",
       "|  8.567043 | 8.929944 |\n",
       "|  2.057696 | 2.355131 |\n",
       "|  4.390519 | 4.311260 |\n",
       "|  2.370429 | 2.563702 |\n",
       "|  3.430964 | 3.611757 |\n",
       "|  8.167465 | 6.278448 |\n",
       "|  7.929120 | 5.945889 |\n",
       "|  3.136086 | 3.263602 |\n",
       "|  8.423594 | 5.928816 |\n",
       "| 10.706578 | 5.797082 |\n",
       "\n"
      ],
      "text/plain": [
       "      mean      sd      \n",
       " [1,]  8.567043 8.929944\n",
       " [2,]  2.057696 2.355131\n",
       " [3,]  4.390519 4.311260\n",
       " [4,]  2.370429 2.563702\n",
       " [5,]  3.430964 3.611757\n",
       " [6,]  8.167465 6.278448\n",
       " [7,]  7.929120 5.945889\n",
       " [8,]  3.136086 3.263602\n",
       " [9,]  8.423594 5.928816\n",
       "[10,] 10.706578 5.797082"
      ]
     },
     "metadata": {},
     "output_type": "display_data"
    }
   ],
   "source": [
    "pr.distr <- randomForestPredict(rf, newdata = test.x, method = \"aposteriori\")\n",
    "pr.distr[1:10,] # We show the first 10 predicted outcomes "
   ]
  },
  {
   "cell_type": "markdown",
   "metadata": {},
   "source": [
    "As stated above, the user can also specify the estimator used. For instance, rather than the Moments Matching Estimation (default) we could use the Maximum Likelihood Estimation by setting `method = \"mle\"`:"
   ]
  },
  {
   "cell_type": "code",
   "execution_count": 15,
   "metadata": {},
   "outputs": [
    {
     "data": {
      "text/html": [
       "<table class=\"dataframe\">\n",
       "<caption>A matrix: 10 × 2 of type dbl</caption>\n",
       "<thead>\n",
       "\t<tr><th scope=col>mean</th><th scope=col>sd</th></tr>\n",
       "</thead>\n",
       "<tbody>\n",
       "\t<tr><td> 8.567043</td><td>8.929944</td></tr>\n",
       "\t<tr><td> 2.057696</td><td>2.355131</td></tr>\n",
       "\t<tr><td> 4.390519</td><td>4.311260</td></tr>\n",
       "\t<tr><td> 2.370429</td><td>2.563702</td></tr>\n",
       "\t<tr><td> 3.430964</td><td>3.611757</td></tr>\n",
       "\t<tr><td> 8.167465</td><td>6.278448</td></tr>\n",
       "\t<tr><td> 7.929120</td><td>5.945889</td></tr>\n",
       "\t<tr><td> 3.136086</td><td>3.263602</td></tr>\n",
       "\t<tr><td> 8.423594</td><td>5.928816</td></tr>\n",
       "\t<tr><td>10.706578</td><td>5.797082</td></tr>\n",
       "</tbody>\n",
       "</table>\n"
      ],
      "text/latex": [
       "A matrix: 10 × 2 of type dbl\n",
       "\\begin{tabular}{ll}\n",
       " mean & sd\\\\\n",
       "\\hline\n",
       "\t  8.567043 & 8.929944\\\\\n",
       "\t  2.057696 & 2.355131\\\\\n",
       "\t  4.390519 & 4.311260\\\\\n",
       "\t  2.370429 & 2.563702\\\\\n",
       "\t  3.430964 & 3.611757\\\\\n",
       "\t  8.167465 & 6.278448\\\\\n",
       "\t  7.929120 & 5.945889\\\\\n",
       "\t  3.136086 & 3.263602\\\\\n",
       "\t  8.423594 & 5.928816\\\\\n",
       "\t 10.706578 & 5.797082\\\\\n",
       "\\end{tabular}\n"
      ],
      "text/markdown": [
       "\n",
       "A matrix: 10 × 2 of type dbl\n",
       "\n",
       "| mean | sd |\n",
       "|---|---|\n",
       "|  8.567043 | 8.929944 |\n",
       "|  2.057696 | 2.355131 |\n",
       "|  4.390519 | 4.311260 |\n",
       "|  2.370429 | 2.563702 |\n",
       "|  3.430964 | 3.611757 |\n",
       "|  8.167465 | 6.278448 |\n",
       "|  7.929120 | 5.945889 |\n",
       "|  3.136086 | 3.263602 |\n",
       "|  8.423594 | 5.928816 |\n",
       "| 10.706578 | 5.797082 |\n",
       "\n"
      ],
      "text/plain": [
       "      mean      sd      \n",
       " [1,]  8.567043 8.929944\n",
       " [2,]  2.057696 2.355131\n",
       " [3,]  4.390519 4.311260\n",
       " [4,]  2.370429 2.563702\n",
       " [5,]  3.430964 3.611757\n",
       " [6,]  8.167465 6.278448\n",
       " [7,]  7.929120 5.945889\n",
       " [8,]  3.136086 3.263602\n",
       " [9,]  8.423594 5.928816\n",
       "[10,] 10.706578 5.797082"
      ]
     },
     "metadata": {},
     "output_type": "display_data"
    }
   ],
   "source": [
    "pr.mle <- randomForestPredict(rf, newdata = test.x, method = \"mle\")\n",
    "pr.distr[1:10,] # We show the first 10 predicted outcomes "
   ]
  },
  {
   "cell_type": "markdown",
   "metadata": {},
   "source": [
    "Finally, the predicted distribution parameters can be used to simulate a series of stochastic rainfall values. This can be done using the function `randomForestSimulate()`. It takes as inputs the object returned by `randomForestPredict()` and the number of simulated series, `n`. The parameter `distr` allows for manually selecting the distribution of interest (by default, it is automatically selected based on the training split function considered)."
   ]
  },
  {
   "cell_type": "code",
   "execution_count": 16,
   "metadata": {},
   "outputs": [],
   "source": [
    "simulation <- randomForestSimulate(pr.distr)"
   ]
  },
  {
   "cell_type": "markdown",
   "metadata": {},
   "source": [
    "We simulate 1000 series:"
   ]
  },
  {
   "cell_type": "code",
   "execution_count": 17,
   "metadata": {},
   "outputs": [
    {
     "data": {
      "text/html": [
       "<table class=\"dataframe\">\n",
       "<caption>A matrix: 6 × 1000 of type dbl</caption>\n",
       "<tbody>\n",
       "\t<tr><td>19.130835</td><td>21.746864</td><td> 2.5620741</td><td>24.4728991</td><td>-8.599635</td><td> 0.9378861</td><td> 3.6251788</td><td>20.9880400</td><td>-0.653134571</td><td>11.533108</td><td>⋯</td><td>-0.2496892</td><td>14.647168</td><td>-5.179861</td><td>-2.747446</td><td>12.4224818</td><td> 3.264809</td><td>18.4600591</td><td>4.8889878</td><td>17.5396511</td><td>16.0125463</td></tr>\n",
       "\t<tr><td> 7.006280</td><td> 6.521129</td><td>-5.8547134</td><td> 1.6765677</td><td> 3.276943</td><td> 2.7772007</td><td> 0.4449056</td><td> 0.2937084</td><td>-0.006998182</td><td> 2.625824</td><td>⋯</td><td> 0.4470380</td><td> 1.327248</td><td> 5.227063</td><td> 6.783584</td><td> 0.6714375</td><td> 4.138768</td><td>-0.5483795</td><td>4.2855998</td><td> 2.6323914</td><td> 0.6106512</td></tr>\n",
       "\t<tr><td> 2.076019</td><td>10.101233</td><td> 0.4358133</td><td> 5.2178859</td><td> 7.616047</td><td> 0.8833983</td><td> 2.6504474</td><td>-2.0535395</td><td>12.894855456</td><td> 8.270778</td><td>⋯</td><td> 2.3122302</td><td> 3.187010</td><td> 5.928887</td><td>11.847694</td><td> 4.3818374</td><td>10.539896</td><td> 6.7767396</td><td>8.0162607</td><td> 9.6356243</td><td>-1.4056331</td></tr>\n",
       "\t<tr><td> 4.343131</td><td>-1.113647</td><td> 4.7924359</td><td>-0.5219222</td><td> 2.309342</td><td>-1.7117722</td><td> 3.2339886</td><td> 5.2284008</td><td> 5.846650687</td><td> 1.656752</td><td>⋯</td><td> 5.8442844</td><td>-1.795581</td><td> 2.979367</td><td> 7.816676</td><td> 4.0688966</td><td> 1.245108</td><td> 4.4698922</td><td>4.9694939</td><td> 1.3183008</td><td> 6.2202809</td></tr>\n",
       "\t<tr><td> 5.317898</td><td> 1.443337</td><td> 1.0277138</td><td> 8.4330255</td><td> 2.390635</td><td> 7.8563778</td><td> 3.0647422</td><td> 2.0999046</td><td> 1.346990359</td><td> 5.384209</td><td>⋯</td><td> 8.1575668</td><td> 5.651471</td><td> 1.873463</td><td> 3.499609</td><td>-1.3790015</td><td> 6.818776</td><td>-6.1717950</td><td>0.7701276</td><td> 0.1039932</td><td> 1.8012089</td></tr>\n",
       "\t<tr><td> 1.687543</td><td> 2.783779</td><td> 4.4966187</td><td> 4.2025480</td><td>14.675236</td><td> 0.4887514</td><td>10.3709325</td><td>13.6400548</td><td>15.705154036</td><td> 5.582356</td><td>⋯</td><td>14.0167407</td><td>12.037037</td><td>16.145484</td><td> 2.732419</td><td> 9.3700952</td><td> 4.897159</td><td> 8.3600116</td><td>5.5413052</td><td>11.7879221</td><td>16.0709561</td></tr>\n",
       "</tbody>\n",
       "</table>\n"
      ],
      "text/latex": [
       "A matrix: 6 × 1000 of type dbl\n",
       "\\begin{tabular}{lllllllllllllllllllll}\n",
       "\t 19.130835 & 21.746864 &  2.5620741 & 24.4728991 & -8.599635 &  0.9378861 &  3.6251788 & 20.9880400 & -0.653134571 & 11.533108 & ⋯ & -0.2496892 & 14.647168 & -5.179861 & -2.747446 & 12.4224818 &  3.264809 & 18.4600591 & 4.8889878 & 17.5396511 & 16.0125463\\\\\n",
       "\t  7.006280 &  6.521129 & -5.8547134 &  1.6765677 &  3.276943 &  2.7772007 &  0.4449056 &  0.2937084 & -0.006998182 &  2.625824 & ⋯ &  0.4470380 &  1.327248 &  5.227063 &  6.783584 &  0.6714375 &  4.138768 & -0.5483795 & 4.2855998 &  2.6323914 &  0.6106512\\\\\n",
       "\t  2.076019 & 10.101233 &  0.4358133 &  5.2178859 &  7.616047 &  0.8833983 &  2.6504474 & -2.0535395 & 12.894855456 &  8.270778 & ⋯ &  2.3122302 &  3.187010 &  5.928887 & 11.847694 &  4.3818374 & 10.539896 &  6.7767396 & 8.0162607 &  9.6356243 & -1.4056331\\\\\n",
       "\t  4.343131 & -1.113647 &  4.7924359 & -0.5219222 &  2.309342 & -1.7117722 &  3.2339886 &  5.2284008 &  5.846650687 &  1.656752 & ⋯ &  5.8442844 & -1.795581 &  2.979367 &  7.816676 &  4.0688966 &  1.245108 &  4.4698922 & 4.9694939 &  1.3183008 &  6.2202809\\\\\n",
       "\t  5.317898 &  1.443337 &  1.0277138 &  8.4330255 &  2.390635 &  7.8563778 &  3.0647422 &  2.0999046 &  1.346990359 &  5.384209 & ⋯ &  8.1575668 &  5.651471 &  1.873463 &  3.499609 & -1.3790015 &  6.818776 & -6.1717950 & 0.7701276 &  0.1039932 &  1.8012089\\\\\n",
       "\t  1.687543 &  2.783779 &  4.4966187 &  4.2025480 & 14.675236 &  0.4887514 & 10.3709325 & 13.6400548 & 15.705154036 &  5.582356 & ⋯ & 14.0167407 & 12.037037 & 16.145484 &  2.732419 &  9.3700952 &  4.897159 &  8.3600116 & 5.5413052 & 11.7879221 & 16.0709561\\\\\n",
       "\\end{tabular}\n"
      ],
      "text/markdown": [
       "\n",
       "A matrix: 6 × 1000 of type dbl\n",
       "\n",
       "| 19.130835 | 21.746864 |  2.5620741 | 24.4728991 | -8.599635 |  0.9378861 |  3.6251788 | 20.9880400 | -0.653134571 | 11.533108 | ⋯ | -0.2496892 | 14.647168 | -5.179861 | -2.747446 | 12.4224818 |  3.264809 | 18.4600591 | 4.8889878 | 17.5396511 | 16.0125463 |\n",
       "|  7.006280 |  6.521129 | -5.8547134 |  1.6765677 |  3.276943 |  2.7772007 |  0.4449056 |  0.2937084 | -0.006998182 |  2.625824 | ⋯ |  0.4470380 |  1.327248 |  5.227063 |  6.783584 |  0.6714375 |  4.138768 | -0.5483795 | 4.2855998 |  2.6323914 |  0.6106512 |\n",
       "|  2.076019 | 10.101233 |  0.4358133 |  5.2178859 |  7.616047 |  0.8833983 |  2.6504474 | -2.0535395 | 12.894855456 |  8.270778 | ⋯ |  2.3122302 |  3.187010 |  5.928887 | 11.847694 |  4.3818374 | 10.539896 |  6.7767396 | 8.0162607 |  9.6356243 | -1.4056331 |\n",
       "|  4.343131 | -1.113647 |  4.7924359 | -0.5219222 |  2.309342 | -1.7117722 |  3.2339886 |  5.2284008 |  5.846650687 |  1.656752 | ⋯ |  5.8442844 | -1.795581 |  2.979367 |  7.816676 |  4.0688966 |  1.245108 |  4.4698922 | 4.9694939 |  1.3183008 |  6.2202809 |\n",
       "|  5.317898 |  1.443337 |  1.0277138 |  8.4330255 |  2.390635 |  7.8563778 |  3.0647422 |  2.0999046 |  1.346990359 |  5.384209 | ⋯ |  8.1575668 |  5.651471 |  1.873463 |  3.499609 | -1.3790015 |  6.818776 | -6.1717950 | 0.7701276 |  0.1039932 |  1.8012089 |\n",
       "|  1.687543 |  2.783779 |  4.4966187 |  4.2025480 | 14.675236 |  0.4887514 | 10.3709325 | 13.6400548 | 15.705154036 |  5.582356 | ⋯ | 14.0167407 | 12.037037 | 16.145484 |  2.732419 |  9.3700952 |  4.897159 |  8.3600116 | 5.5413052 | 11.7879221 | 16.0709561 |\n",
       "\n"
      ],
      "text/plain": [
       "     [,1]      [,2]      [,3]       [,4]       [,5]      [,6]       [,7]      \n",
       "[1,] 19.130835 21.746864  2.5620741 24.4728991 -8.599635  0.9378861  3.6251788\n",
       "[2,]  7.006280  6.521129 -5.8547134  1.6765677  3.276943  2.7772007  0.4449056\n",
       "[3,]  2.076019 10.101233  0.4358133  5.2178859  7.616047  0.8833983  2.6504474\n",
       "[4,]  4.343131 -1.113647  4.7924359 -0.5219222  2.309342 -1.7117722  3.2339886\n",
       "[5,]  5.317898  1.443337  1.0277138  8.4330255  2.390635  7.8563778  3.0647422\n",
       "[6,]  1.687543  2.783779  4.4966187  4.2025480 14.675236  0.4887514 10.3709325\n",
       "     [,8]       [,9]         [,10]     [,11] [,12]      [,13]     [,14]    \n",
       "[1,] 20.9880400 -0.653134571 11.533108 ⋯     -0.2496892 14.647168 -5.179861\n",
       "[2,]  0.2937084 -0.006998182  2.625824 ⋯      0.4470380  1.327248  5.227063\n",
       "[3,] -2.0535395 12.894855456  8.270778 ⋯      2.3122302  3.187010  5.928887\n",
       "[4,]  5.2284008  5.846650687  1.656752 ⋯      5.8442844 -1.795581  2.979367\n",
       "[5,]  2.0999046  1.346990359  5.384209 ⋯      8.1575668  5.651471  1.873463\n",
       "[6,] 13.6400548 15.705154036  5.582356 ⋯     14.0167407 12.037037 16.145484\n",
       "     [,15]     [,16]      [,17]     [,18]      [,19]     [,20]      [,21]     \n",
       "[1,] -2.747446 12.4224818  3.264809 18.4600591 4.8889878 17.5396511 16.0125463\n",
       "[2,]  6.783584  0.6714375  4.138768 -0.5483795 4.2855998  2.6323914  0.6106512\n",
       "[3,] 11.847694  4.3818374 10.539896  6.7767396 8.0162607  9.6356243 -1.4056331\n",
       "[4,]  7.816676  4.0688966  1.245108  4.4698922 4.9694939  1.3183008  6.2202809\n",
       "[5,]  3.499609 -1.3790015  6.818776 -6.1717950 0.7701276  0.1039932  1.8012089\n",
       "[6,]  2.732419  9.3700952  4.897159  8.3600116 5.5413052 11.7879221 16.0709561"
      ]
     },
     "metadata": {},
     "output_type": "display_data"
    }
   ],
   "source": [
    "simulations <- randomForestSimulate(pr.distr, n = 1000)\n",
    "head(simulations)"
   ]
  },
  {
   "cell_type": "markdown",
   "metadata": {},
   "source": [
    "# Reproducibility code for the final model in *Legasa et al. 2020*\n",
    "\n",
    "Finally, we use the code below to train the final model in *Legasa et al. 2020*, and obtain a Figure similar to Figure 6 in *Legasa et al. 2020* (we reproduce here only the continuous part). We use a random forest with 25 trees, minimum leaf size 5 which considers the *deviation* as split function."
   ]
  },
  {
   "cell_type": "code",
   "execution_count": 18,
   "metadata": {},
   "outputs": [],
   "source": [
    "future::plan(future::multisession, workers = 6) ## Sets parallelization to 6 cores\n",
    "\n",
    "predictions <-\n",
    "lapply(VALUE9, function(meteorological.station){\n",
    "    predictions <- lapply(meteorological.station, function(fold){\n",
    "        # train the model:\n",
    "        md <- randomForestTrain(x = fold$train.x, y = fold$train.y, \n",
    "                                ntree = 25, minbucket = 5, \n",
    "                                method = \"gammaDeviation\",\n",
    "                                parallel.plan = NULL)\n",
    "        \n",
    "        #Use the function to predict for $test.x, an also return the observed values $test.y:        \n",
    "        return(list(predicted = randomForestPredict(md, newdata = fold$test.x, method = \"mme\"),\n",
    "                     observed = fold$test.y))\n",
    "    })\n",
    "    \n",
    "    # rearange the series:    \n",
    "    predicted <- do.call(rbind, lapply(predictions, function(pr) pr$predicted)) \n",
    "    attr(predicted, \"class\") <- \"RandomForest2.prediction.simulable\" # recovers the class\n",
    "    observed <- do.call(c, lapply(predictions, function(pr) pr$observed))\n",
    "\n",
    "    return(list(predicted = predicted, observed = observed))\n",
    "})\n",
    "\n",
    "future::plan(future::sequential) ## Reverts plan to normal"
   ]
  },
  {
   "cell_type": "markdown",
   "metadata": {},
   "source": [
    "We end up with the downscaled probability distribution for each station and day. We validate them for the selected measures as follows:"
   ]
  },
  {
   "cell_type": "code",
   "execution_count": 19,
   "metadata": {},
   "outputs": [
    {
     "data": {
      "image/png": "[encoded data removed]",
      "text/plain": [
       "plot without title"
      ]
     },
     "metadata": {
      "image/png": {
       "height": 420,
       "width": 420
      }
     },
     "output_type": "display_data"
    }
   ],
   "source": [
    "validation <- \n",
    "    lapply(predictions, function(station.predictions){ #for each meteorological station\n",
    "        # Generate 250 simulations\n",
    "\n",
    "        observed <- station.predictions$observed\n",
    "        simulations <- randomForestSimulate(prediction = station.predictions$predicted, distr = \"gamma\", n = 250)\n",
    "\n",
    "\n",
    "        # validate each simulation\n",
    "        stochastic.validation <-\n",
    "            apply(simulations, MARGIN = 2, FUN = function(simulation){\n",
    "\n",
    "                P95.simulated <- quantile(simulation, probs = 0.95)\n",
    "                P95.observed <- quantile(observed, probs = 0.95)\n",
    "\n",
    "                return(\n",
    "                    c(SDII = mean(simulation)/mean(observed),\n",
    "                      SD = sd(simulation)/sd(observed),\n",
    "                      P95 = P95.simulated/P95.observed,\n",
    "                      P95A = sum(simulation[simulation >= P95.simulated])/sum(observed[observed >= P95.observed])\n",
    "                     )\n",
    "                )\n",
    "            })\n",
    "\n",
    "        # For each series we obtained the measures. We average them:\n",
    "        stochastic.validation <- rowMeans(stochastic.validation)\n",
    "\n",
    "        # We compute the deterministic correlation. Recall E[X] = alpha/beta:\n",
    "        alphas <- station.predictions$predicted[ , 1]\n",
    "        betas <- station.predictions$predicted[ , 2]\n",
    "        correlation <- cor(alphas/betas, observed, method = \"spearman\")\n",
    "\n",
    "        return(c(stochastic.validation, Cor.Det = correlation))\n",
    "\n",
    "    })\n",
    "\n",
    "validation <- t(simplify2array(validation))\n",
    "\n",
    "# We plot the results:\n",
    "boxplot(validation)   \n",
    "abline(h = 1, lty = 2)"
   ]
  }
 ],
 "metadata": {
  "kernelspec": {
   "display_name": "R",
   "language": "R",
   "name": "ir"
  },
  "language_info": {
   "codemirror_mode": "r",
   "file_extension": ".r",
   "mimetype": "text/x-r-source",
   "name": "R",
   "pygments_lexer": "r",
   "version": "3.6.3"
  },
  "latex_envs": {
   "LaTeX_envs_menu_present": true,
   "autoclose": false,
   "autocomplete": true,
   "bibliofile": "biblio.bib",
   "cite_by": "apalike",
   "current_citInitial": 1,
   "eqLabelWithNumbers": true,
   "eqNumInitial": 1,
   "hotkeys": {
    "equation": "Ctrl-E",
    "itemize": "Ctrl-I"
   },
   "labels_anchors": false,
   "latex_user_defs": false,
   "report_style_numbering": false,
   "user_envs_cfg": false
  },
  "toc": {
   "base_numbering": 1,
   "nav_menu": {},
   "number_sections": true,
   "sideBar": true,
   "skip_h1_title": false,
   "title_cell": "Table of Contents",
   "title_sidebar": "Contents",
   "toc_cell": false,
   "toc_position": {},
   "toc_section_display": true,
   "toc_window_display": false
  }
 },
 "nbformat": 4,
 "nbformat_minor": 4
}
