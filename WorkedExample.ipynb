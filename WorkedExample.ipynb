{
 "cells": [
  {
   "cell_type": "markdown",
   "metadata": {},
   "source": [
    "# Brief User Guide for the [**RandomForestDist**](https://github.com/MNLR/RandomForestDist) Package \n",
    "\n",
    "This companion notebook briefly explains how to use the main functionalities provided by the `R` package [RandomForestDist](https://github.com/MNLR/RandomForestDist) and presents the code needed to reproduce part of the experiments presented in the article [**A Posteriori Random Forests for Stochastic\n",
    "Downscaling of Precipitation by Predicting Probability Distributions**](https://doi.org/10.1029/2021WR030272), published in *Water Resources Research* by *Legasa et al.* in 2022. In that work, random forests (RFs) are applied to the problem of statistical downscaling of rainfall. In particular, the authors analyze the suitability of different split functions which allow to work with non-normally distributed variables and propose a novel a posteriori (AP) approach which permits to accurately estimate the shape and rate parameters of the underlying rainfall distribution, which in turn allows for generating reliable stochastic rainfall series. \n",
    "\n",
    "[RandomForestDist](https://github.com/MNLR/RandomForestDist) requires a modified version of [rpart](https://cran.r-project.org/web/packages/rpart/index.html) which can be found [here](https://github.com/MNLR/rpart). In order to run the examples provided below, these two packages need to be first installed. This can be easily done from GitHub using the `devtools` package: "
   ]
  },
  {
   "cell_type": "code",
   "execution_count": null,
   "metadata": {},
   "outputs": [],
   "source": [
    "devtools::install_github(\"MNLR/rpart\")\n",
    "install.packages(c(\"progressr\", \"qmap\", \"fitdistrplus\"))\n",
    "devtools::install_github(\"MNLR/RandomForestDist\")"
   ]
  },
  {
   "cell_type": "markdown",
   "metadata": {},
   "source": [
    "We start by loading `RandomForestDist` and `VALUE9`, a dataset included in the package which contains daily series of rainfall for 9 illustrative meteorological stations over Europe along with the 17 large-scale reanalysis predictors used for statistical downscaling (see the paper for details)."
   ]
  },
  {
   "cell_type": "code",
   "execution_count": 1,
   "metadata": {},
   "outputs": [
    {
     "name": "stderr",
     "output_type": "stream",
     "text": [
      "Loading required package: rpart\n",
      "\n",
      "Loading required package: progressr\n",
      "\n"
     ]
    }
   ],
   "source": [
    "library(RandomForestDist)\n",
    "data(VALUE9)"
   ]
  },
  {
   "cell_type": "markdown",
   "metadata": {},
   "source": [
    "`VALUE9` is a list of 9 elements (one per station), being the data already divided into a stratified 5-fold (F1 = 1979-1984, F2 = 1985-1990, F3 = 1991-1996, F4 = 1997-2002, F5 = 2003-2008). `$train.y`(training set) and `$test.y` (test set) correspond to the predictands; `$train.x` (training set) and `$test.x` (test set) are the predictors. For example, for the first station and fold:"
   ]
  },
  {
   "cell_type": "code",
   "execution_count": 2,
   "metadata": {},
   "outputs": [
    {
     "data": {
      "text/html": [
       "<table class=\"dataframe\">\n",
       "<caption>A matrix: 6 × 69 of type dbl</caption>\n",
       "<tbody>\n",
       "\t<tr><td> 6.4</td><td>100934.56</td><td>101076.31</td><td>101029.38</td><td>101127.6</td><td>0.9725891</td><td>-0.5552429</td><td> 3.362726</td><td>1.4769836</td><td>53970.78</td><td>⋯</td><td>0.0008774727</td><td>0.0007474154</td><td>0.001837683</td><td>0.001404357</td><td>0.002788675</td><td>0.002296162</td><td>0.003939099</td><td>0.003326243</td><td>0.004503078</td><td>0.004167265</td></tr>\n",
       "\t<tr><td> 4.0</td><td> 99861.81</td><td>100098.66</td><td> 99890.75</td><td>100026.2</td><td>4.0751587</td><td> 2.3417603</td><td> 6.654260</td><td>4.7987915</td><td>53126.36</td><td>⋯</td><td>0.0007746874</td><td>0.0008232652</td><td>0.002964854</td><td>0.003158688</td><td>0.002753138</td><td>0.002897739</td><td>0.004851500</td><td>0.004605810</td><td>0.004810254</td><td>0.004700223</td></tr>\n",
       "\t<tr><td> 6.0</td><td>100774.52</td><td>101000.39</td><td>101343.70</td><td>101556.2</td><td>1.7720581</td><td> 0.8526245</td><td> 3.237878</td><td>0.7207886</td><td>53762.79</td><td>⋯</td><td>0.0008526679</td><td>0.0009968218</td><td>0.002528636</td><td>0.002547173</td><td>0.002720682</td><td>0.002845912</td><td>0.004383934</td><td>0.003969920</td><td>0.004411114</td><td>0.003889335</td></tr>\n",
       "\t<tr><td>13.9</td><td>100790.47</td><td>100810.84</td><td>101059.16</td><td>101159.5</td><td>4.7946411</td><td> 4.9987427</td><td> 7.108118</td><td>5.1798950</td><td>54141.42</td><td>⋯</td><td>0.0013121588</td><td>0.0011717600</td><td>0.002218187</td><td>0.002100289</td><td>0.002669751</td><td>0.002809047</td><td>0.004955770</td><td>0.004400434</td><td>0.005563976</td><td>0.005303564</td></tr>\n",
       "\t<tr><td>12.0</td><td> 99843.41</td><td> 99968.94</td><td>100306.59</td><td>100510.2</td><td>8.2443481</td><td> 8.8000122</td><td> 9.919641</td><td>7.6437622</td><td>53829.54</td><td>⋯</td><td>0.0012456127</td><td>0.0012676665</td><td>0.003520003</td><td>0.003533235</td><td>0.004003754</td><td>0.004093757</td><td>0.006390568</td><td>0.006163236</td><td>0.006739852</td><td>0.006437775</td></tr>\n",
       "\t<tr><td> 2.0</td><td> 99936.30</td><td> 99915.36</td><td>100108.30</td><td>100281.5</td><td>7.5472656</td><td> 9.0443359</td><td>10.253320</td><td>8.7977539</td><td>53769.01</td><td>⋯</td><td>0.0014264237</td><td>0.0015940617</td><td>0.003558955</td><td>0.004082522</td><td>0.003949782</td><td>0.004051825</td><td>0.005973617</td><td>0.006448189</td><td>0.006836812</td><td>0.006869952</td></tr>\n",
       "</tbody>\n",
       "</table>\n"
      ],
      "text/latex": [
       "A matrix: 6 × 69 of type dbl\n",
       "\\begin{tabular}{lllllllllllllllllllll}\n",
       "\t  6.4 & 100934.56 & 101076.31 & 101029.38 & 101127.6 & 0.9725891 & -0.5552429 &  3.362726 & 1.4769836 & 53970.78 & ⋯ & 0.0008774727 & 0.0007474154 & 0.001837683 & 0.001404357 & 0.002788675 & 0.002296162 & 0.003939099 & 0.003326243 & 0.004503078 & 0.004167265\\\\\n",
       "\t  4.0 &  99861.81 & 100098.66 &  99890.75 & 100026.2 & 4.0751587 &  2.3417603 &  6.654260 & 4.7987915 & 53126.36 & ⋯ & 0.0007746874 & 0.0008232652 & 0.002964854 & 0.003158688 & 0.002753138 & 0.002897739 & 0.004851500 & 0.004605810 & 0.004810254 & 0.004700223\\\\\n",
       "\t  6.0 & 100774.52 & 101000.39 & 101343.70 & 101556.2 & 1.7720581 &  0.8526245 &  3.237878 & 0.7207886 & 53762.79 & ⋯ & 0.0008526679 & 0.0009968218 & 0.002528636 & 0.002547173 & 0.002720682 & 0.002845912 & 0.004383934 & 0.003969920 & 0.004411114 & 0.003889335\\\\\n",
       "\t 13.9 & 100790.47 & 100810.84 & 101059.16 & 101159.5 & 4.7946411 &  4.9987427 &  7.108118 & 5.1798950 & 54141.42 & ⋯ & 0.0013121588 & 0.0011717600 & 0.002218187 & 0.002100289 & 0.002669751 & 0.002809047 & 0.004955770 & 0.004400434 & 0.005563976 & 0.005303564\\\\\n",
       "\t 12.0 &  99843.41 &  99968.94 & 100306.59 & 100510.2 & 8.2443481 &  8.8000122 &  9.919641 & 7.6437622 & 53829.54 & ⋯ & 0.0012456127 & 0.0012676665 & 0.003520003 & 0.003533235 & 0.004003754 & 0.004093757 & 0.006390568 & 0.006163236 & 0.006739852 & 0.006437775\\\\\n",
       "\t  2.0 &  99936.30 &  99915.36 & 100108.30 & 100281.5 & 7.5472656 &  9.0443359 & 10.253320 & 8.7977539 & 53769.01 & ⋯ & 0.0014264237 & 0.0015940617 & 0.003558955 & 0.004082522 & 0.003949782 & 0.004051825 & 0.005973617 & 0.006448189 & 0.006836812 & 0.006869952\\\\\n",
       "\\end{tabular}\n"
      ],
      "text/markdown": [
       "\n",
       "A matrix: 6 × 69 of type dbl\n",
       "\n",
       "|  6.4 | 100934.56 | 101076.31 | 101029.38 | 101127.6 | 0.9725891 | -0.5552429 |  3.362726 | 1.4769836 | 53970.78 | ⋯ | 0.0008774727 | 0.0007474154 | 0.001837683 | 0.001404357 | 0.002788675 | 0.002296162 | 0.003939099 | 0.003326243 | 0.004503078 | 0.004167265 |\n",
       "|  4.0 |  99861.81 | 100098.66 |  99890.75 | 100026.2 | 4.0751587 |  2.3417603 |  6.654260 | 4.7987915 | 53126.36 | ⋯ | 0.0007746874 | 0.0008232652 | 0.002964854 | 0.003158688 | 0.002753138 | 0.002897739 | 0.004851500 | 0.004605810 | 0.004810254 | 0.004700223 |\n",
       "|  6.0 | 100774.52 | 101000.39 | 101343.70 | 101556.2 | 1.7720581 |  0.8526245 |  3.237878 | 0.7207886 | 53762.79 | ⋯ | 0.0008526679 | 0.0009968218 | 0.002528636 | 0.002547173 | 0.002720682 | 0.002845912 | 0.004383934 | 0.003969920 | 0.004411114 | 0.003889335 |\n",
       "| 13.9 | 100790.47 | 100810.84 | 101059.16 | 101159.5 | 4.7946411 |  4.9987427 |  7.108118 | 5.1798950 | 54141.42 | ⋯ | 0.0013121588 | 0.0011717600 | 0.002218187 | 0.002100289 | 0.002669751 | 0.002809047 | 0.004955770 | 0.004400434 | 0.005563976 | 0.005303564 |\n",
       "| 12.0 |  99843.41 |  99968.94 | 100306.59 | 100510.2 | 8.2443481 |  8.8000122 |  9.919641 | 7.6437622 | 53829.54 | ⋯ | 0.0012456127 | 0.0012676665 | 0.003520003 | 0.003533235 | 0.004003754 | 0.004093757 | 0.006390568 | 0.006163236 | 0.006739852 | 0.006437775 |\n",
       "|  2.0 |  99936.30 |  99915.36 | 100108.30 | 100281.5 | 7.5472656 |  9.0443359 | 10.253320 | 8.7977539 | 53769.01 | ⋯ | 0.0014264237 | 0.0015940617 | 0.003558955 | 0.004082522 | 0.003949782 | 0.004051825 | 0.005973617 | 0.006448189 | 0.006836812 | 0.006869952 |\n",
       "\n"
      ],
      "text/plain": [
       "     [,1] [,2]      [,3]      [,4]      [,5]     [,6]      [,7]       [,8]     \n",
       "[1,]  6.4 100934.56 101076.31 101029.38 101127.6 0.9725891 -0.5552429  3.362726\n",
       "[2,]  4.0  99861.81 100098.66  99890.75 100026.2 4.0751587  2.3417603  6.654260\n",
       "[3,]  6.0 100774.52 101000.39 101343.70 101556.2 1.7720581  0.8526245  3.237878\n",
       "[4,] 13.9 100790.47 100810.84 101059.16 101159.5 4.7946411  4.9987427  7.108118\n",
       "[5,] 12.0  99843.41  99968.94 100306.59 100510.2 8.2443481  8.8000122  9.919641\n",
       "[6,]  2.0  99936.30  99915.36 100108.30 100281.5 7.5472656  9.0443359 10.253320\n",
       "     [,9]      [,10]    [,11] [,12]        [,13]        [,14]       [,15]      \n",
       "[1,] 1.4769836 53970.78 ⋯     0.0008774727 0.0007474154 0.001837683 0.001404357\n",
       "[2,] 4.7987915 53126.36 ⋯     0.0007746874 0.0008232652 0.002964854 0.003158688\n",
       "[3,] 0.7207886 53762.79 ⋯     0.0008526679 0.0009968218 0.002528636 0.002547173\n",
       "[4,] 5.1798950 54141.42 ⋯     0.0013121588 0.0011717600 0.002218187 0.002100289\n",
       "[5,] 7.6437622 53829.54 ⋯     0.0012456127 0.0012676665 0.003520003 0.003533235\n",
       "[6,] 8.7977539 53769.01 ⋯     0.0014264237 0.0015940617 0.003558955 0.004082522\n",
       "     [,16]       [,17]       [,18]       [,19]       [,20]       [,21]      \n",
       "[1,] 0.002788675 0.002296162 0.003939099 0.003326243 0.004503078 0.004167265\n",
       "[2,] 0.002753138 0.002897739 0.004851500 0.004605810 0.004810254 0.004700223\n",
       "[3,] 0.002720682 0.002845912 0.004383934 0.003969920 0.004411114 0.003889335\n",
       "[4,] 0.002669751 0.002809047 0.004955770 0.004400434 0.005563976 0.005303564\n",
       "[5,] 0.004003754 0.004093757 0.006390568 0.006163236 0.006739852 0.006437775\n",
       "[6,] 0.003949782 0.004051825 0.005973617 0.006448189 0.006836812 0.006869952"
      ]
     },
     "metadata": {},
     "output_type": "display_data"
    }
   ],
   "source": [
    "head(cbind(VALUE9[[1]]$f1_79_84$train.y, VALUE9[[1]]$f1_79_84$train.x))"
   ]
  },
  {
   "cell_type": "markdown",
   "metadata": {},
   "source": [
    "## Training the Models\n",
    "To illustrate the training process, let's just focus on the sixth station and first fold:"
   ]
  },
  {
   "cell_type": "code",
   "execution_count": 3,
   "metadata": {},
   "outputs": [],
   "source": [
    "train.x <- VALUE9[[6]]$f1_79_84$train.x  # predictors for the train period\n",
    "train.y <- VALUE9[[6]]$f1_79_84$train.y  # predictand (rainfall) for the train period"
   ]
  },
  {
   "cell_type": "markdown",
   "metadata": {},
   "source": [
    "The function `randomForestTrain()` builds the model for the predictors `x` and predictands `y`."
   ]
  },
  {
   "cell_type": "code",
   "execution_count": 4,
   "metadata": {
    "scrolled": true
   },
   "outputs": [],
   "source": [
    "rf <- randomForestTrain(x = train.x, y = train.y)  # building/training a default RF"
   ]
  },
  {
   "cell_type": "markdown",
   "metadata": {},
   "source": [
    "The user can specify the desired values for the parameters `mtry` (number of predictors to randomly use as candidate split variables), `ntree` (number of trees in the forest), `minbucket` (minimum number of elements each leaf is required to have), `minsplit` (minimum number of elements each node is required to have to attempt the splitting) and `maxdepth` (maximum depth allowed for each tree)."
   ]
  },
  {
   "cell_type": "code",
   "execution_count": 5,
   "metadata": {},
   "outputs": [],
   "source": [
    "rf <- randomForestTrain(x = train.x, y = train.y, ntree = 25, mtry = 22, \n",
    "                        minbucket = 10, minsplit = 30, maxdepth = 10)  # building/training a customized RF"
   ]
  },
  {
   "cell_type": "markdown",
   "metadata": {},
   "source": [
    "By default, RFs consider the root mean squared error as split function. However, [RandomForestDist](https://github.com/MNLR/RandomForestDist) allows for using different split functions (`split.function` argument), which have been defined in the [modified version of `rpart`](https://github.com/MNLR/rpart). Currently supported options are `\"anova\"` (default), `\"poisson\", \"class\", \"exp\", \"gammaLLMME\", \"gammaLLmean\", \"bernoulliGammaLLMME\", \"gammaDeviation\", \"gammaLLBC3\", \"bernoulliLL\"` and `\"binaryCrossEntropyGammaDeviation\"`. \n",
    "\n",
    "In *Legasa et al. 2022*, we restrict ourselves to the 2-parameter gamma distribution family, with different estimators (see the paper for details). We shift precipitation values so that they start at 0, for consistency with the gamma distribution:"
   ]
  },
  {
   "cell_type": "code",
   "execution_count": 6,
   "metadata": {},
   "outputs": [],
   "source": [
    "# NOTE: This chunk may take a while:\n",
    "rf.dev <- randomForestTrain(x = train.x, y = (train.y -1), ntree = 50, minbucket = 10, method = \"gammaDeviation\")\n",
    "rf.LLMME <- randomForestTrain(x = train.x, y = (train.y-1), ntree = 50, minbucket = 10, method = \"gammaLLMME\")\n",
    "rf.LLBC3 <- randomForestTrain(x = train.x, y = (train.y-1), ntree = 50, minbucket = 10, method = \"gammaLLBC3\")"
   ]
  },
  {
   "cell_type": "markdown",
   "metadata": {},
   "source": [
    "## Parallelization\n",
    "\n",
    "The training process can be parallelized by means of the package `future.apply`. This package has to be installed independently, otherwise parallelization will not be an option. Use `install.packages(future.apply)` to install it, which will also install the dependency `future`. The simplest way to use parallelization is by setting `parallel.plan = \"auto\"`, which will automatically use all the available cores to train the model in parallel."
   ]
  },
  {
   "cell_type": "code",
   "execution_count": 7,
   "metadata": {},
   "outputs": [],
   "source": [
    "rf <- randomForestTrain(x = train.x, y = (train.y-1), ntree = 100, minbucket = 10,\n",
    "                        method = \"gammaDeviation\",\n",
    "                        parallel.plan = \"auto\")  # training a RF with parallelization"
   ]
  },
  {
   "cell_type": "markdown",
   "metadata": {},
   "source": [
    "If not set to `\"auto\"`, `paralell.plan` will use the execution plan stored in the `strategy` argument of `future::plan()`. The interested reader is referred to the packages `future` and `future.apply` for details on the available options. As an example, the following block of code shows how parallelization in 4 cores can be achieved in combination with the argument `workers` and setting `parallel.plan` to `multisession`:"
   ]
  },
  {
   "cell_type": "code",
   "execution_count": 8,
   "metadata": {},
   "outputs": [],
   "source": [
    "rf <- randomForestTrain(x = train.x, y = (train.y-1), ntree = 100, minbucket = 10, \n",
    "                        method = \"gammaDeviation\", \n",
    "                        parallel.plan = future::multisession, workers = 4)  # training a customized RF with parallelization using 4 workers"
   ]
  },
  {
   "cell_type": "markdown",
   "metadata": {},
   "source": [
    "Also, if missing or set to `NULL` (default), the function will use the current execution plan. This is useful to configure a customized plan outside the function, as we do in the next example. In particular, we set the execution to `multisession()` prior to launching the loop and train several models using this plan (do not forget to close the sessions by reverting to `sequential()`)."
   ]
  },
  {
   "cell_type": "code",
   "execution_count": 9,
   "metadata": {},
   "outputs": [],
   "source": [
    "future::plan(future::multisession, workers = 4) # sets the plan to multisession and 4 workers\n",
    "\n",
    "rfs <- lapply(VALUE9[[1]], function(fold){ # we iterate over the folds...\n",
    "    return(\n",
    "        randomForestTrain(x = fold$train.x, y = (fold$train.y-1), ntree = 25, minbucket = 10, \n",
    "                          method = \"gammaDeviation\",\n",
    "                          parallel.plan = NULL) #... and train the models\n",
    "    )\n",
    "    \n",
    "})\n",
    "\n",
    "future::plan(future::sequential) # reverts plan to sequential()"
   ]
  },
  {
   "cell_type": "markdown",
   "metadata": {},
   "source": [
    "Note that using `parallel.plan = NA` will avoid parallelization altogether. This is the default if `future.apply` is not available."
   ]
  },
  {
   "cell_type": "markdown",
   "metadata": {},
   "source": [
    "## Generating the Predictions and Simulations\n",
    "\n",
    "Once the RF is trained, out-of-sample predictors (`$test.x`) can be used to obtain the corresponding downscaled predictions with the function `randomForestPredict()`. The default configuration of `randomForestPredict()` considers the mean as aggregation function (this is the standard procedure in RFs; see the paper for details):"
   ]
  },
  {
   "cell_type": "code",
   "execution_count": 10,
   "metadata": {},
   "outputs": [
    {
     "data": {
      "text/html": [
       "<style>\n",
       ".dl-inline {width: auto; margin:0; padding: 0}\n",
       ".dl-inline>dt, .dl-inline>dd {float: none; width: auto; display: inline-block}\n",
       ".dl-inline>dt::after {content: \":\\0020\"; padding-right: .5ex}\n",
       ".dl-inline>dt:not(:first-of-type) {padding-left: .5ex}\n",
       "</style><dl class=dl-inline><dt>1</dt><dd>6.75027342616534</dd><dt>2</dt><dd>2.44154931785191</dd><dt>3</dt><dd>3.79070329369633</dd><dt>4</dt><dd>2.84490371473212</dd><dt>5</dt><dd>4.05077503355348</dd><dt>6</dt><dd>9.55245893116172</dd></dl>\n"
      ],
      "text/latex": [
       "\\begin{description*}\n",
       "\\item[1] 6.75027342616534\n",
       "\\item[2] 2.44154931785191\n",
       "\\item[3] 3.79070329369633\n",
       "\\item[4] 2.84490371473212\n",
       "\\item[5] 4.05077503355348\n",
       "\\item[6] 9.55245893116172\n",
       "\\end{description*}\n"
      ],
      "text/markdown": [
       "1\n",
       ":   6.750273426165342\n",
       ":   2.441549317851913\n",
       ":   3.790703293696334\n",
       ":   2.844903714732125\n",
       ":   4.050775033553486\n",
       ":   9.55245893116172\n",
       "\n"
      ],
      "text/plain": [
       "       1        2        3        4        5        6 \n",
       "6.750273 2.441549 3.790703 2.844904 4.050775 9.552459 "
      ]
     },
     "metadata": {},
     "output_type": "display_data"
    }
   ],
   "source": [
    "test.x <- VALUE9[[6]]$f1_79_84$test.x  # predictors for the test period\n",
    "test.y <- VALUE9[[6]]$f1_79_84$test.y  # predictand (rainfall) for the train period\n",
    "\n",
    "# We use the RF with 100 trees and gammaDeviation split function that we have already learnt to predict daily rainfall:\n",
    "pr <- randomForestPredict(rf, newdata = test.x)  # predictions for the test period, considering the mean as aggregation function\n",
    "head(pr)"
   ]
  },
  {
   "cell_type": "markdown",
   "metadata": {},
   "source": [
    "The parameter `bagging.function` can be used to apply other aggregation functions (e.g.the median). Also, if set to `NA`, `randomForestPredict()` will provide the predictions returned by all the individual trees."
   ]
  },
  {
   "cell_type": "code",
   "execution_count": 11,
   "metadata": {},
   "outputs": [
    {
     "data": {
      "text/html": [
       "<table class=\"dataframe\">\n",
       "<caption>A matrix: 10 × 100 of type dbl</caption>\n",
       "<tbody>\n",
       "\t<tr><th scope=row>1</th><td>17.833333</td><td> 6.212500</td><td>24.523077</td><td> 4.9400000</td><td> 2.768421</td><td> 7.350000</td><td> 3.2000000</td><td> 9.2666667</td><td> 0.7166667</td><td>4.7789474</td><td>⋯</td><td> 4.0692308</td><td> 0.4833333</td><td> 7.8117647</td><td> 3.1000000</td><td>2.9352941</td><td>10.972727</td><td>3.5000000</td><td> 4.357143</td><td>21.8769231</td><td> 3.850000</td></tr>\n",
       "\t<tr><th scope=row>2</th><td> 1.706250</td><td> 2.738889</td><td> 1.461538</td><td> 0.8615385</td><td> 1.700000</td><td> 2.050000</td><td> 0.9866667</td><td> 0.7545455</td><td> 6.1055556</td><td>0.7615385</td><td>⋯</td><td> 3.3533333</td><td> 1.1200000</td><td> 0.5666667</td><td> 0.6769231</td><td>2.5272727</td><td> 1.872222</td><td>0.8357143</td><td> 9.045455</td><td> 3.7000000</td><td> 0.460000</td></tr>\n",
       "\t<tr><th scope=row>3</th><td>11.764286</td><td> 2.212500</td><td> 2.405882</td><td> 5.5105263</td><td> 5.526667</td><td> 2.794444</td><td> 1.9200000</td><td> 5.4750000</td><td> 6.1055556</td><td>0.6466667</td><td>⋯</td><td> 8.9333333</td><td> 2.0428571</td><td> 2.0100000</td><td> 1.3631579</td><td>2.9352941</td><td> 6.720000</td><td>3.7181818</td><td> 9.045455</td><td> 0.9714286</td><td> 1.680000</td></tr>\n",
       "\t<tr><th scope=row>4</th><td> 0.420000</td><td> 5.806250</td><td> 1.461538</td><td> 1.4526316</td><td> 2.438462</td><td> 3.321429</td><td> 1.9200000</td><td> 5.4750000</td><td> 3.8833333</td><td>0.6466667</td><td>⋯</td><td> 0.5909091</td><td> 1.7250000</td><td> 0.8411765</td><td> 0.9533333</td><td>0.5166667</td><td> 0.510000</td><td>0.9062500</td><td> 3.806250</td><td> 2.1100000</td><td> 1.680000</td></tr>\n",
       "\t<tr><th scope=row>5</th><td> 3.433333</td><td> 7.857143</td><td> 8.669231</td><td> 8.3800000</td><td> 8.378947</td><td> 4.961111</td><td> 8.5800000</td><td> 2.6666667</td><td> 5.9076923</td><td>8.8909091</td><td>⋯</td><td> 1.5000000</td><td> 1.2500000</td><td> 6.2823529</td><td> 1.7300000</td><td>3.7266667</td><td> 0.880000</td><td>5.8461538</td><td> 1.790909</td><td> 4.7210526</td><td> 7.411111</td></tr>\n",
       "\t<tr><th scope=row>6</th><td> 3.130000</td><td>10.031250</td><td> 5.363158</td><td> 8.3200000</td><td> 2.841667</td><td> 2.540000</td><td> 6.7583333</td><td>28.7785714</td><td> 4.4800000</td><td>5.8684211</td><td>⋯</td><td> 8.7894737</td><td>10.8090909</td><td>24.7833333</td><td> 3.1083333</td><td>5.8266667</td><td> 2.152941</td><td>4.9500000</td><td>15.376923</td><td>10.9833333</td><td>13.270588</td></tr>\n",
       "\t<tr><th scope=row>7</th><td> 5.381818</td><td> 5.093333</td><td> 3.847368</td><td> 2.9307692</td><td> 9.964286</td><td> 4.281818</td><td> 3.8000000</td><td> 3.1263158</td><td> 8.6000000</td><td>3.4200000</td><td>⋯</td><td> 5.0000000</td><td> 7.6400000</td><td> 9.2083333</td><td> 9.5166667</td><td>9.9578947</td><td> 4.790000</td><td>4.3937500</td><td> 2.842857</td><td>12.4900000</td><td>21.181818</td></tr>\n",
       "\t<tr><th scope=row>8</th><td> 1.340000</td><td> 2.800000</td><td> 3.927273</td><td> 1.5000000</td><td> 5.672727</td><td> 1.281250</td><td> 6.2400000</td><td> 2.7500000</td><td> 1.8133333</td><td>3.6187500</td><td>⋯</td><td> 2.5100000</td><td> 7.4900000</td><td> 0.7000000</td><td> 3.1000000</td><td>4.5625000</td><td> 3.480000</td><td>2.1285714</td><td> 2.647059</td><td> 4.7200000</td><td> 6.272222</td></tr>\n",
       "\t<tr><th scope=row>9</th><td>14.031579</td><td>14.933333</td><td> 7.526667</td><td>12.2571429</td><td>10.863158</td><td> 3.754545</td><td>15.7357143</td><td>17.1941176</td><td>17.6000000</td><td>9.2666667</td><td>⋯</td><td>10.9333333</td><td> 1.0538462</td><td>12.1428571</td><td>14.6363636</td><td>3.2833333</td><td>13.876471</td><td>7.3923077</td><td> 2.320000</td><td> 4.7200000</td><td>17.333333</td></tr>\n",
       "\t<tr><th scope=row>10</th><td> 9.866667</td><td>10.247059</td><td> 8.235294</td><td> 9.4461538</td><td>16.347368</td><td>10.094118</td><td>18.2000000</td><td>13.9187500</td><td>13.0187500</td><td>9.2666667</td><td>⋯</td><td> 9.6400000</td><td>12.7933333</td><td>12.1428571</td><td>11.9100000</td><td>8.1062500</td><td>12.684211</td><td>7.5200000</td><td>11.700000</td><td>11.2250000</td><td>10.490000</td></tr>\n",
       "</tbody>\n",
       "</table>\n"
      ],
      "text/latex": [
       "A matrix: 10 × 100 of type dbl\n",
       "\\begin{tabular}{r|lllllllllllllllllllll}\n",
       "\t1 & 17.833333 &  6.212500 & 24.523077 &  4.9400000 &  2.768421 &  7.350000 &  3.2000000 &  9.2666667 &  0.7166667 & 4.7789474 & ⋯ &  4.0692308 &  0.4833333 &  7.8117647 &  3.1000000 & 2.9352941 & 10.972727 & 3.5000000 &  4.357143 & 21.8769231 &  3.850000\\\\\n",
       "\t2 &  1.706250 &  2.738889 &  1.461538 &  0.8615385 &  1.700000 &  2.050000 &  0.9866667 &  0.7545455 &  6.1055556 & 0.7615385 & ⋯ &  3.3533333 &  1.1200000 &  0.5666667 &  0.6769231 & 2.5272727 &  1.872222 & 0.8357143 &  9.045455 &  3.7000000 &  0.460000\\\\\n",
       "\t3 & 11.764286 &  2.212500 &  2.405882 &  5.5105263 &  5.526667 &  2.794444 &  1.9200000 &  5.4750000 &  6.1055556 & 0.6466667 & ⋯ &  8.9333333 &  2.0428571 &  2.0100000 &  1.3631579 & 2.9352941 &  6.720000 & 3.7181818 &  9.045455 &  0.9714286 &  1.680000\\\\\n",
       "\t4 &  0.420000 &  5.806250 &  1.461538 &  1.4526316 &  2.438462 &  3.321429 &  1.9200000 &  5.4750000 &  3.8833333 & 0.6466667 & ⋯ &  0.5909091 &  1.7250000 &  0.8411765 &  0.9533333 & 0.5166667 &  0.510000 & 0.9062500 &  3.806250 &  2.1100000 &  1.680000\\\\\n",
       "\t5 &  3.433333 &  7.857143 &  8.669231 &  8.3800000 &  8.378947 &  4.961111 &  8.5800000 &  2.6666667 &  5.9076923 & 8.8909091 & ⋯ &  1.5000000 &  1.2500000 &  6.2823529 &  1.7300000 & 3.7266667 &  0.880000 & 5.8461538 &  1.790909 &  4.7210526 &  7.411111\\\\\n",
       "\t6 &  3.130000 & 10.031250 &  5.363158 &  8.3200000 &  2.841667 &  2.540000 &  6.7583333 & 28.7785714 &  4.4800000 & 5.8684211 & ⋯ &  8.7894737 & 10.8090909 & 24.7833333 &  3.1083333 & 5.8266667 &  2.152941 & 4.9500000 & 15.376923 & 10.9833333 & 13.270588\\\\\n",
       "\t7 &  5.381818 &  5.093333 &  3.847368 &  2.9307692 &  9.964286 &  4.281818 &  3.8000000 &  3.1263158 &  8.6000000 & 3.4200000 & ⋯ &  5.0000000 &  7.6400000 &  9.2083333 &  9.5166667 & 9.9578947 &  4.790000 & 4.3937500 &  2.842857 & 12.4900000 & 21.181818\\\\\n",
       "\t8 &  1.340000 &  2.800000 &  3.927273 &  1.5000000 &  5.672727 &  1.281250 &  6.2400000 &  2.7500000 &  1.8133333 & 3.6187500 & ⋯ &  2.5100000 &  7.4900000 &  0.7000000 &  3.1000000 & 4.5625000 &  3.480000 & 2.1285714 &  2.647059 &  4.7200000 &  6.272222\\\\\n",
       "\t9 & 14.031579 & 14.933333 &  7.526667 & 12.2571429 & 10.863158 &  3.754545 & 15.7357143 & 17.1941176 & 17.6000000 & 9.2666667 & ⋯ & 10.9333333 &  1.0538462 & 12.1428571 & 14.6363636 & 3.2833333 & 13.876471 & 7.3923077 &  2.320000 &  4.7200000 & 17.333333\\\\\n",
       "\t10 &  9.866667 & 10.247059 &  8.235294 &  9.4461538 & 16.347368 & 10.094118 & 18.2000000 & 13.9187500 & 13.0187500 & 9.2666667 & ⋯ &  9.6400000 & 12.7933333 & 12.1428571 & 11.9100000 & 8.1062500 & 12.684211 & 7.5200000 & 11.700000 & 11.2250000 & 10.490000\\\\\n",
       "\\end{tabular}\n"
      ],
      "text/markdown": [
       "\n",
       "A matrix: 10 × 100 of type dbl\n",
       "\n",
       "| 1 | 17.833333 |  6.212500 | 24.523077 |  4.9400000 |  2.768421 |  7.350000 |  3.2000000 |  9.2666667 |  0.7166667 | 4.7789474 | ⋯ |  4.0692308 |  0.4833333 |  7.8117647 |  3.1000000 | 2.9352941 | 10.972727 | 3.5000000 |  4.357143 | 21.8769231 |  3.850000 |\n",
       "| 2 |  1.706250 |  2.738889 |  1.461538 |  0.8615385 |  1.700000 |  2.050000 |  0.9866667 |  0.7545455 |  6.1055556 | 0.7615385 | ⋯ |  3.3533333 |  1.1200000 |  0.5666667 |  0.6769231 | 2.5272727 |  1.872222 | 0.8357143 |  9.045455 |  3.7000000 |  0.460000 |\n",
       "| 3 | 11.764286 |  2.212500 |  2.405882 |  5.5105263 |  5.526667 |  2.794444 |  1.9200000 |  5.4750000 |  6.1055556 | 0.6466667 | ⋯ |  8.9333333 |  2.0428571 |  2.0100000 |  1.3631579 | 2.9352941 |  6.720000 | 3.7181818 |  9.045455 |  0.9714286 |  1.680000 |\n",
       "| 4 |  0.420000 |  5.806250 |  1.461538 |  1.4526316 |  2.438462 |  3.321429 |  1.9200000 |  5.4750000 |  3.8833333 | 0.6466667 | ⋯ |  0.5909091 |  1.7250000 |  0.8411765 |  0.9533333 | 0.5166667 |  0.510000 | 0.9062500 |  3.806250 |  2.1100000 |  1.680000 |\n",
       "| 5 |  3.433333 |  7.857143 |  8.669231 |  8.3800000 |  8.378947 |  4.961111 |  8.5800000 |  2.6666667 |  5.9076923 | 8.8909091 | ⋯ |  1.5000000 |  1.2500000 |  6.2823529 |  1.7300000 | 3.7266667 |  0.880000 | 5.8461538 |  1.790909 |  4.7210526 |  7.411111 |\n",
       "| 6 |  3.130000 | 10.031250 |  5.363158 |  8.3200000 |  2.841667 |  2.540000 |  6.7583333 | 28.7785714 |  4.4800000 | 5.8684211 | ⋯ |  8.7894737 | 10.8090909 | 24.7833333 |  3.1083333 | 5.8266667 |  2.152941 | 4.9500000 | 15.376923 | 10.9833333 | 13.270588 |\n",
       "| 7 |  5.381818 |  5.093333 |  3.847368 |  2.9307692 |  9.964286 |  4.281818 |  3.8000000 |  3.1263158 |  8.6000000 | 3.4200000 | ⋯ |  5.0000000 |  7.6400000 |  9.2083333 |  9.5166667 | 9.9578947 |  4.790000 | 4.3937500 |  2.842857 | 12.4900000 | 21.181818 |\n",
       "| 8 |  1.340000 |  2.800000 |  3.927273 |  1.5000000 |  5.672727 |  1.281250 |  6.2400000 |  2.7500000 |  1.8133333 | 3.6187500 | ⋯ |  2.5100000 |  7.4900000 |  0.7000000 |  3.1000000 | 4.5625000 |  3.480000 | 2.1285714 |  2.647059 |  4.7200000 |  6.272222 |\n",
       "| 9 | 14.031579 | 14.933333 |  7.526667 | 12.2571429 | 10.863158 |  3.754545 | 15.7357143 | 17.1941176 | 17.6000000 | 9.2666667 | ⋯ | 10.9333333 |  1.0538462 | 12.1428571 | 14.6363636 | 3.2833333 | 13.876471 | 7.3923077 |  2.320000 |  4.7200000 | 17.333333 |\n",
       "| 10 |  9.866667 | 10.247059 |  8.235294 |  9.4461538 | 16.347368 | 10.094118 | 18.2000000 | 13.9187500 | 13.0187500 | 9.2666667 | ⋯ |  9.6400000 | 12.7933333 | 12.1428571 | 11.9100000 | 8.1062500 | 12.684211 | 7.5200000 | 11.700000 | 11.2250000 | 10.490000 |\n",
       "\n"
      ],
      "text/plain": [
       "   [,1]      [,2]      [,3]      [,4]       [,5]      [,6]      [,7]      \n",
       "1  17.833333  6.212500 24.523077  4.9400000  2.768421  7.350000  3.2000000\n",
       "2   1.706250  2.738889  1.461538  0.8615385  1.700000  2.050000  0.9866667\n",
       "3  11.764286  2.212500  2.405882  5.5105263  5.526667  2.794444  1.9200000\n",
       "4   0.420000  5.806250  1.461538  1.4526316  2.438462  3.321429  1.9200000\n",
       "5   3.433333  7.857143  8.669231  8.3800000  8.378947  4.961111  8.5800000\n",
       "6   3.130000 10.031250  5.363158  8.3200000  2.841667  2.540000  6.7583333\n",
       "7   5.381818  5.093333  3.847368  2.9307692  9.964286  4.281818  3.8000000\n",
       "8   1.340000  2.800000  3.927273  1.5000000  5.672727  1.281250  6.2400000\n",
       "9  14.031579 14.933333  7.526667 12.2571429 10.863158  3.754545 15.7357143\n",
       "10  9.866667 10.247059  8.235294  9.4461538 16.347368 10.094118 18.2000000\n",
       "   [,8]       [,9]       [,10]     [,11] [,12]      [,13]      [,14]     \n",
       "1   9.2666667  0.7166667 4.7789474 ⋯      4.0692308  0.4833333  7.8117647\n",
       "2   0.7545455  6.1055556 0.7615385 ⋯      3.3533333  1.1200000  0.5666667\n",
       "3   5.4750000  6.1055556 0.6466667 ⋯      8.9333333  2.0428571  2.0100000\n",
       "4   5.4750000  3.8833333 0.6466667 ⋯      0.5909091  1.7250000  0.8411765\n",
       "5   2.6666667  5.9076923 8.8909091 ⋯      1.5000000  1.2500000  6.2823529\n",
       "6  28.7785714  4.4800000 5.8684211 ⋯      8.7894737 10.8090909 24.7833333\n",
       "7   3.1263158  8.6000000 3.4200000 ⋯      5.0000000  7.6400000  9.2083333\n",
       "8   2.7500000  1.8133333 3.6187500 ⋯      2.5100000  7.4900000  0.7000000\n",
       "9  17.1941176 17.6000000 9.2666667 ⋯     10.9333333  1.0538462 12.1428571\n",
       "10 13.9187500 13.0187500 9.2666667 ⋯      9.6400000 12.7933333 12.1428571\n",
       "   [,15]      [,16]     [,17]     [,18]     [,19]     [,20]      [,21]    \n",
       "1   3.1000000 2.9352941 10.972727 3.5000000  4.357143 21.8769231  3.850000\n",
       "2   0.6769231 2.5272727  1.872222 0.8357143  9.045455  3.7000000  0.460000\n",
       "3   1.3631579 2.9352941  6.720000 3.7181818  9.045455  0.9714286  1.680000\n",
       "4   0.9533333 0.5166667  0.510000 0.9062500  3.806250  2.1100000  1.680000\n",
       "5   1.7300000 3.7266667  0.880000 5.8461538  1.790909  4.7210526  7.411111\n",
       "6   3.1083333 5.8266667  2.152941 4.9500000 15.376923 10.9833333 13.270588\n",
       "7   9.5166667 9.9578947  4.790000 4.3937500  2.842857 12.4900000 21.181818\n",
       "8   3.1000000 4.5625000  3.480000 2.1285714  2.647059  4.7200000  6.272222\n",
       "9  14.6363636 3.2833333 13.876471 7.3923077  2.320000  4.7200000 17.333333\n",
       "10 11.9100000 8.1062500 12.684211 7.5200000 11.700000 11.2250000 10.490000"
      ]
     },
     "metadata": {},
     "output_type": "display_data"
    }
   ],
   "source": [
    "pr.median <- randomForestPredict(rf, newdata = test.x, bagging.function = median)  # median as aggregation function\n",
    "pr.alltrees <- randomForestPredict(rf, newdata = test.x, bagging.function = NA)\n",
    "pr.alltrees[1:10,]  # 10 first predictions returned by the 100 trees"
   ]
  },
  {
   "cell_type": "markdown",
   "metadata": {},
   "source": [
    "The parameter `method` controls the *a posteriori* approach (the reader is referred to the paper for details). The available options are described in the help page (`?randomForestPredict`), and we summarize them here. If `method` is not `NULL`, the argument `bagging.function` is ignored.\n",
    "\n",
    "- `method = \"leaves\"` provides all the observations for each prediction.\n",
    "- `method = \"random.sample\"` draws a random sample from the leaves for each prediction. \n",
    "- `method = \"aposteriori\"` returns the parameter of the probability distribution of `train.y | train.x`, as estimated using Moments Matching Estimation (refer to `fitdistrplus::fitdist()`). In the case of the gamma distribution, its shape and rate parameters are returned. `method = \"bc3\"` uses BC3 estimators for the gamma distribution. Additionally, this parameter can be used to select the estimation method (see `fitdistrplus::fitdist()`), i.e., one of the following: `\"mme\"` (Moments Matching Estimation; default),`\"mle\"` (Maximum Likelihood Estimation), `\"qme\"` (Quantile Matching Estimation), `\"mge\"` (Maximum Goodness-of-fit Estimation), `\"mse\"` (Maximum Spacing Estimation). Note that some of these options require additional parameters (use `...`), and some of them may not converge.\n",
    "\n",
    "We provide some examples below."
   ]
  },
  {
   "cell_type": "markdown",
   "metadata": {},
   "source": [
    "Setting the parameter `method = \"leaves\"` allows us to plot `train.y | train.x`, for instance:"
   ]
  },
  {
   "cell_type": "code",
   "execution_count": 12,
   "metadata": {},
   "outputs": [
    {
     "data": {
      "image/png": "[encoded data removed]",
      "text/plain": [
       "Plot with title “test.y | train.x”"
      ]
     },
     "metadata": {
      "image/png": {
       "height": 420,
       "width": 420
      }
     },
     "output_type": "display_data"
    }
   ],
   "source": [
    "pr.leaves <- randomForestPredict(rf, newdata = test.x, method = \"leaves\") # we predict the observations falling on leaves\n",
    "\n",
    "# and plot the histogram of their distribution:\n",
    "par(mfrow = c(1,2)) \n",
    "hist(pr.leaves[[100]], breaks = 50, xlab = \"Rainfall\", freq = FALSE,\n",
    "     main = \"test.y | train.x\", ylim = c(0, 0.25), xlim = c(0,60))\n",
    "hist(pr.leaves[[300]], breaks = 50, xlab = \"Rainfall\", freq = FALSE, \n",
    "     main = \"test.y | train.x\",ylim = c(0, 0.25), xlim = c(0,60))"
   ]
  },
  {
   "cell_type": "markdown",
   "metadata": {},
   "source": [
    "As the model was trained using the *deviation* for the 2 parameter gamma distribution, using `method = \"aposteriori\"` provides the shape and rate parameters for each prediction:"
   ]
  },
  {
   "cell_type": "code",
   "execution_count": 13,
   "metadata": {},
   "outputs": [
    {
     "data": {
      "text/html": [
       "<table class=\"dataframe\">\n",
       "<caption>A matrix: 10 × 2 of type dbl</caption>\n",
       "<thead>\n",
       "\t<tr><th scope=col>shape</th><th scope=col>rate</th></tr>\n",
       "</thead>\n",
       "<tbody>\n",
       "\t<tr><td>0.9360252</td><td>0.1375215</td></tr>\n",
       "\t<tr><td>0.7880431</td><td>0.3227375</td></tr>\n",
       "\t<tr><td>1.0935257</td><td>0.2845614</td></tr>\n",
       "\t<tr><td>0.7919772</td><td>0.2575520</td></tr>\n",
       "\t<tr><td>1.1451185</td><td>0.2806477</td></tr>\n",
       "\t<tr><td>1.1931223</td><td>0.1241060</td></tr>\n",
       "\t<tr><td>1.6019748</td><td>0.2007610</td></tr>\n",
       "\t<tr><td>1.0983591</td><td>0.3044378</td></tr>\n",
       "\t<tr><td>2.6317867</td><td>0.2658471</td></tr>\n",
       "\t<tr><td>4.4357847</td><td>0.3587828</td></tr>\n",
       "</tbody>\n",
       "</table>\n"
      ],
      "text/latex": [
       "A matrix: 10 × 2 of type dbl\n",
       "\\begin{tabular}{ll}\n",
       " shape & rate\\\\\n",
       "\\hline\n",
       "\t 0.9360252 & 0.1375215\\\\\n",
       "\t 0.7880431 & 0.3227375\\\\\n",
       "\t 1.0935257 & 0.2845614\\\\\n",
       "\t 0.7919772 & 0.2575520\\\\\n",
       "\t 1.1451185 & 0.2806477\\\\\n",
       "\t 1.1931223 & 0.1241060\\\\\n",
       "\t 1.6019748 & 0.2007610\\\\\n",
       "\t 1.0983591 & 0.3044378\\\\\n",
       "\t 2.6317867 & 0.2658471\\\\\n",
       "\t 4.4357847 & 0.3587828\\\\\n",
       "\\end{tabular}\n"
      ],
      "text/markdown": [
       "\n",
       "A matrix: 10 × 2 of type dbl\n",
       "\n",
       "| shape | rate |\n",
       "|---|---|\n",
       "| 0.9360252 | 0.1375215 |\n",
       "| 0.7880431 | 0.3227375 |\n",
       "| 1.0935257 | 0.2845614 |\n",
       "| 0.7919772 | 0.2575520 |\n",
       "| 1.1451185 | 0.2806477 |\n",
       "| 1.1931223 | 0.1241060 |\n",
       "| 1.6019748 | 0.2007610 |\n",
       "| 1.0983591 | 0.3044378 |\n",
       "| 2.6317867 | 0.2658471 |\n",
       "| 4.4357847 | 0.3587828 |\n",
       "\n"
      ],
      "text/plain": [
       "      shape     rate     \n",
       " [1,] 0.9360252 0.1375215\n",
       " [2,] 0.7880431 0.3227375\n",
       " [3,] 1.0935257 0.2845614\n",
       " [4,] 0.7919772 0.2575520\n",
       " [5,] 1.1451185 0.2806477\n",
       " [6,] 1.1931223 0.1241060\n",
       " [7,] 1.6019748 0.2007610\n",
       " [8,] 1.0983591 0.3044378\n",
       " [9,] 2.6317867 0.2658471\n",
       "[10,] 4.4357847 0.3587828"
      ]
     },
     "metadata": {},
     "output_type": "display_data"
    }
   ],
   "source": [
    "pr.distr <- randomForestPredict(rf, newdata = test.x, method = \"aposteriori\")\n",
    "pr.distr[1:10,] # We show the first 10 predicted outcomes "
   ]
  },
  {
   "cell_type": "markdown",
   "metadata": {},
   "source": [
    "As stated above, the user can also specify the estimator used. For instance, rather than the Moments Matching Estimation (default) we could use the Maximum Likelihood Estimation by setting `method = \"mle\"`:"
   ]
  },
  {
   "cell_type": "code",
   "execution_count": 14,
   "metadata": {},
   "outputs": [
    {
     "data": {
      "text/html": [
       "<table class=\"dataframe\">\n",
       "<caption>A matrix: 10 × 2 of type dbl</caption>\n",
       "<thead>\n",
       "\t<tr><th scope=col>shape</th><th scope=col>rate</th></tr>\n",
       "</thead>\n",
       "<tbody>\n",
       "\t<tr><td>0.9360252</td><td>0.1375215</td></tr>\n",
       "\t<tr><td>0.7880431</td><td>0.3227375</td></tr>\n",
       "\t<tr><td>1.0935257</td><td>0.2845614</td></tr>\n",
       "\t<tr><td>0.7919772</td><td>0.2575520</td></tr>\n",
       "\t<tr><td>1.1451185</td><td>0.2806477</td></tr>\n",
       "\t<tr><td>1.1931223</td><td>0.1241060</td></tr>\n",
       "\t<tr><td>1.6019748</td><td>0.2007610</td></tr>\n",
       "\t<tr><td>1.0983591</td><td>0.3044378</td></tr>\n",
       "\t<tr><td>2.6317867</td><td>0.2658471</td></tr>\n",
       "\t<tr><td>4.4357847</td><td>0.3587828</td></tr>\n",
       "</tbody>\n",
       "</table>\n"
      ],
      "text/latex": [
       "A matrix: 10 × 2 of type dbl\n",
       "\\begin{tabular}{ll}\n",
       " shape & rate\\\\\n",
       "\\hline\n",
       "\t 0.9360252 & 0.1375215\\\\\n",
       "\t 0.7880431 & 0.3227375\\\\\n",
       "\t 1.0935257 & 0.2845614\\\\\n",
       "\t 0.7919772 & 0.2575520\\\\\n",
       "\t 1.1451185 & 0.2806477\\\\\n",
       "\t 1.1931223 & 0.1241060\\\\\n",
       "\t 1.6019748 & 0.2007610\\\\\n",
       "\t 1.0983591 & 0.3044378\\\\\n",
       "\t 2.6317867 & 0.2658471\\\\\n",
       "\t 4.4357847 & 0.3587828\\\\\n",
       "\\end{tabular}\n"
      ],
      "text/markdown": [
       "\n",
       "A matrix: 10 × 2 of type dbl\n",
       "\n",
       "| shape | rate |\n",
       "|---|---|\n",
       "| 0.9360252 | 0.1375215 |\n",
       "| 0.7880431 | 0.3227375 |\n",
       "| 1.0935257 | 0.2845614 |\n",
       "| 0.7919772 | 0.2575520 |\n",
       "| 1.1451185 | 0.2806477 |\n",
       "| 1.1931223 | 0.1241060 |\n",
       "| 1.6019748 | 0.2007610 |\n",
       "| 1.0983591 | 0.3044378 |\n",
       "| 2.6317867 | 0.2658471 |\n",
       "| 4.4357847 | 0.3587828 |\n",
       "\n"
      ],
      "text/plain": [
       "      shape     rate     \n",
       " [1,] 0.9360252 0.1375215\n",
       " [2,] 0.7880431 0.3227375\n",
       " [3,] 1.0935257 0.2845614\n",
       " [4,] 0.7919772 0.2575520\n",
       " [5,] 1.1451185 0.2806477\n",
       " [6,] 1.1931223 0.1241060\n",
       " [7,] 1.6019748 0.2007610\n",
       " [8,] 1.0983591 0.3044378\n",
       " [9,] 2.6317867 0.2658471\n",
       "[10,] 4.4357847 0.3587828"
      ]
     },
     "metadata": {},
     "output_type": "display_data"
    }
   ],
   "source": [
    "pr.mle <- randomForestPredict(rf, newdata = test.x, method = \"mle\")\n",
    "pr.mle[1:10,]  # 10 first predicted outcomes "
   ]
  },
  {
   "cell_type": "markdown",
   "metadata": {},
   "source": [
    "Finally, the predicted distribution parameters can be used to simulate a series of stochastic rainfall values using the function `randomForestSimulate()`, which takes as inputs the object returned by `randomForestPredict()` and the number of simulated series, `n`. The parameter `distr` allows for manually selecting the distribution of interest (by default, it is automatically selected based on the training split function considered)."
   ]
  },
  {
   "cell_type": "code",
   "execution_count": 15,
   "metadata": {},
   "outputs": [],
   "source": [
    "simulation <- randomForestSimulate(pr.distr)"
   ]
  },
  {
   "cell_type": "markdown",
   "metadata": {},
   "source": [
    "We simulate 1000 series:"
   ]
  },
  {
   "cell_type": "code",
   "execution_count": 16,
   "metadata": {},
   "outputs": [
    {
     "data": {
      "text/html": [
       "<table class=\"dataframe\">\n",
       "<caption>A matrix: 6 × 1000 of type dbl</caption>\n",
       "<tbody>\n",
       "\t<tr><td>10.4067226</td><td>4.177950</td><td> 2.821106</td><td> 9.279756</td><td> 0.6928866</td><td> 0.2168998</td><td> 0.06252902</td><td>0.2817833</td><td> 6.2724028</td><td>2.3112281</td><td>⋯</td><td> 3.2472523</td><td>2.6726573</td><td> 2.3837224</td><td>38.677931</td><td>30.5114547</td><td>2.39625140</td><td>2.5470394</td><td> 0.06834442</td><td>13.7580577</td><td> 8.5263361</td></tr>\n",
       "\t<tr><td> 0.5493003</td><td>2.516691</td><td> 2.247122</td><td> 6.595686</td><td> 4.9214629</td><td> 8.3600387</td><td> 0.19092415</td><td>4.0894802</td><td> 1.9803214</td><td>1.4419075</td><td>⋯</td><td> 1.9485216</td><td>0.3166208</td><td> 2.8173416</td><td> 1.932482</td><td> 0.2604393</td><td>4.14334700</td><td>0.8024145</td><td> 0.55598488</td><td> 1.2058106</td><td> 0.7841322</td></tr>\n",
       "\t<tr><td> 3.6199750</td><td>1.698163</td><td> 1.677424</td><td> 6.751908</td><td>14.1732700</td><td>16.5297003</td><td> 0.52541789</td><td>3.2927144</td><td> 7.6451947</td><td>1.4334292</td><td>⋯</td><td> 4.0316951</td><td>4.7506330</td><td> 0.6127450</td><td> 2.240067</td><td> 2.4732593</td><td>0.27472475</td><td>4.8695786</td><td> 2.96977982</td><td> 6.6736556</td><td> 2.8624640</td></tr>\n",
       "\t<tr><td> 4.9236059</td><td>0.469078</td><td> 0.261664</td><td> 8.710979</td><td>13.6227326</td><td> 4.0104585</td><td> 2.76279083</td><td>0.6137510</td><td> 0.0155893</td><td>0.2425999</td><td>⋯</td><td> 0.9824464</td><td>0.2738395</td><td> 1.4408761</td><td> 1.755064</td><td> 0.1337711</td><td>5.09181687</td><td>1.2860992</td><td>12.52930907</td><td> 3.6460517</td><td> 1.5729675</td></tr>\n",
       "\t<tr><td> 0.7350454</td><td>3.854345</td><td>11.213091</td><td> 2.156196</td><td> 1.4998957</td><td> 2.5026641</td><td> 7.08038351</td><td>6.0021607</td><td>10.2717185</td><td>0.2175108</td><td>⋯</td><td> 6.5553286</td><td>6.7659585</td><td> 0.5842416</td><td> 1.423508</td><td> 7.1970239</td><td>0.05494268</td><td>2.7102425</td><td> 4.01571370</td><td> 0.4195706</td><td> 2.0567631</td></tr>\n",
       "\t<tr><td> 4.9124056</td><td>6.826379</td><td>30.208909</td><td>10.839312</td><td>11.1746219</td><td> 1.4913597</td><td>11.31030980</td><td>3.4724713</td><td>19.1204992</td><td>1.5047747</td><td>⋯</td><td>16.7681354</td><td>5.5045407</td><td>13.9108857</td><td> 2.444984</td><td> 2.2849160</td><td>1.00612736</td><td>3.9381092</td><td>16.30879878</td><td>10.9640673</td><td>27.8967801</td></tr>\n",
       "</tbody>\n",
       "</table>\n"
      ],
      "text/latex": [
       "A matrix: 6 × 1000 of type dbl\n",
       "\\begin{tabular}{lllllllllllllllllllll}\n",
       "\t 10.4067226 & 4.177950 &  2.821106 &  9.279756 &  0.6928866 &  0.2168998 &  0.06252902 & 0.2817833 &  6.2724028 & 2.3112281 & ⋯ &  3.2472523 & 2.6726573 &  2.3837224 & 38.677931 & 30.5114547 & 2.39625140 & 2.5470394 &  0.06834442 & 13.7580577 &  8.5263361\\\\\n",
       "\t  0.5493003 & 2.516691 &  2.247122 &  6.595686 &  4.9214629 &  8.3600387 &  0.19092415 & 4.0894802 &  1.9803214 & 1.4419075 & ⋯ &  1.9485216 & 0.3166208 &  2.8173416 &  1.932482 &  0.2604393 & 4.14334700 & 0.8024145 &  0.55598488 &  1.2058106 &  0.7841322\\\\\n",
       "\t  3.6199750 & 1.698163 &  1.677424 &  6.751908 & 14.1732700 & 16.5297003 &  0.52541789 & 3.2927144 &  7.6451947 & 1.4334292 & ⋯ &  4.0316951 & 4.7506330 &  0.6127450 &  2.240067 &  2.4732593 & 0.27472475 & 4.8695786 &  2.96977982 &  6.6736556 &  2.8624640\\\\\n",
       "\t  4.9236059 & 0.469078 &  0.261664 &  8.710979 & 13.6227326 &  4.0104585 &  2.76279083 & 0.6137510 &  0.0155893 & 0.2425999 & ⋯ &  0.9824464 & 0.2738395 &  1.4408761 &  1.755064 &  0.1337711 & 5.09181687 & 1.2860992 & 12.52930907 &  3.6460517 &  1.5729675\\\\\n",
       "\t  0.7350454 & 3.854345 & 11.213091 &  2.156196 &  1.4998957 &  2.5026641 &  7.08038351 & 6.0021607 & 10.2717185 & 0.2175108 & ⋯ &  6.5553286 & 6.7659585 &  0.5842416 &  1.423508 &  7.1970239 & 0.05494268 & 2.7102425 &  4.01571370 &  0.4195706 &  2.0567631\\\\\n",
       "\t  4.9124056 & 6.826379 & 30.208909 & 10.839312 & 11.1746219 &  1.4913597 & 11.31030980 & 3.4724713 & 19.1204992 & 1.5047747 & ⋯ & 16.7681354 & 5.5045407 & 13.9108857 &  2.444984 &  2.2849160 & 1.00612736 & 3.9381092 & 16.30879878 & 10.9640673 & 27.8967801\\\\\n",
       "\\end{tabular}\n"
      ],
      "text/markdown": [
       "\n",
       "A matrix: 6 × 1000 of type dbl\n",
       "\n",
       "| 10.4067226 | 4.177950 |  2.821106 |  9.279756 |  0.6928866 |  0.2168998 |  0.06252902 | 0.2817833 |  6.2724028 | 2.3112281 | ⋯ |  3.2472523 | 2.6726573 |  2.3837224 | 38.677931 | 30.5114547 | 2.39625140 | 2.5470394 |  0.06834442 | 13.7580577 |  8.5263361 |\n",
       "|  0.5493003 | 2.516691 |  2.247122 |  6.595686 |  4.9214629 |  8.3600387 |  0.19092415 | 4.0894802 |  1.9803214 | 1.4419075 | ⋯ |  1.9485216 | 0.3166208 |  2.8173416 |  1.932482 |  0.2604393 | 4.14334700 | 0.8024145 |  0.55598488 |  1.2058106 |  0.7841322 |\n",
       "|  3.6199750 | 1.698163 |  1.677424 |  6.751908 | 14.1732700 | 16.5297003 |  0.52541789 | 3.2927144 |  7.6451947 | 1.4334292 | ⋯ |  4.0316951 | 4.7506330 |  0.6127450 |  2.240067 |  2.4732593 | 0.27472475 | 4.8695786 |  2.96977982 |  6.6736556 |  2.8624640 |\n",
       "|  4.9236059 | 0.469078 |  0.261664 |  8.710979 | 13.6227326 |  4.0104585 |  2.76279083 | 0.6137510 |  0.0155893 | 0.2425999 | ⋯ |  0.9824464 | 0.2738395 |  1.4408761 |  1.755064 |  0.1337711 | 5.09181687 | 1.2860992 | 12.52930907 |  3.6460517 |  1.5729675 |\n",
       "|  0.7350454 | 3.854345 | 11.213091 |  2.156196 |  1.4998957 |  2.5026641 |  7.08038351 | 6.0021607 | 10.2717185 | 0.2175108 | ⋯ |  6.5553286 | 6.7659585 |  0.5842416 |  1.423508 |  7.1970239 | 0.05494268 | 2.7102425 |  4.01571370 |  0.4195706 |  2.0567631 |\n",
       "|  4.9124056 | 6.826379 | 30.208909 | 10.839312 | 11.1746219 |  1.4913597 | 11.31030980 | 3.4724713 | 19.1204992 | 1.5047747 | ⋯ | 16.7681354 | 5.5045407 | 13.9108857 |  2.444984 |  2.2849160 | 1.00612736 | 3.9381092 | 16.30879878 | 10.9640673 | 27.8967801 |\n",
       "\n"
      ],
      "text/plain": [
       "     [,1]       [,2]     [,3]      [,4]      [,5]       [,6]       [,7]       \n",
       "[1,] 10.4067226 4.177950  2.821106  9.279756  0.6928866  0.2168998  0.06252902\n",
       "[2,]  0.5493003 2.516691  2.247122  6.595686  4.9214629  8.3600387  0.19092415\n",
       "[3,]  3.6199750 1.698163  1.677424  6.751908 14.1732700 16.5297003  0.52541789\n",
       "[4,]  4.9236059 0.469078  0.261664  8.710979 13.6227326  4.0104585  2.76279083\n",
       "[5,]  0.7350454 3.854345 11.213091  2.156196  1.4998957  2.5026641  7.08038351\n",
       "[6,]  4.9124056 6.826379 30.208909 10.839312 11.1746219  1.4913597 11.31030980\n",
       "     [,8]      [,9]       [,10]     [,11] [,12]      [,13]     [,14]     \n",
       "[1,] 0.2817833  6.2724028 2.3112281 ⋯      3.2472523 2.6726573  2.3837224\n",
       "[2,] 4.0894802  1.9803214 1.4419075 ⋯      1.9485216 0.3166208  2.8173416\n",
       "[3,] 3.2927144  7.6451947 1.4334292 ⋯      4.0316951 4.7506330  0.6127450\n",
       "[4,] 0.6137510  0.0155893 0.2425999 ⋯      0.9824464 0.2738395  1.4408761\n",
       "[5,] 6.0021607 10.2717185 0.2175108 ⋯      6.5553286 6.7659585  0.5842416\n",
       "[6,] 3.4724713 19.1204992 1.5047747 ⋯     16.7681354 5.5045407 13.9108857\n",
       "     [,15]     [,16]      [,17]      [,18]     [,19]       [,20]     \n",
       "[1,] 38.677931 30.5114547 2.39625140 2.5470394  0.06834442 13.7580577\n",
       "[2,]  1.932482  0.2604393 4.14334700 0.8024145  0.55598488  1.2058106\n",
       "[3,]  2.240067  2.4732593 0.27472475 4.8695786  2.96977982  6.6736556\n",
       "[4,]  1.755064  0.1337711 5.09181687 1.2860992 12.52930907  3.6460517\n",
       "[5,]  1.423508  7.1970239 0.05494268 2.7102425  4.01571370  0.4195706\n",
       "[6,]  2.444984  2.2849160 1.00612736 3.9381092 16.30879878 10.9640673\n",
       "     [,21]     \n",
       "[1,]  8.5263361\n",
       "[2,]  0.7841322\n",
       "[3,]  2.8624640\n",
       "[4,]  1.5729675\n",
       "[5,]  2.0567631\n",
       "[6,] 27.8967801"
      ]
     },
     "metadata": {},
     "output_type": "display_data"
    }
   ],
   "source": [
    "simulations <- randomForestSimulate(pr.distr, n = 1000)\n",
    "head(simulations)"
   ]
  },
  {
   "cell_type": "markdown",
   "metadata": {},
   "source": [
    "# Reproducibility Code for Figure 7 in *Legasa et al. 2022*\n",
    "\n",
    "The code provided below can be used to obtain a similar to Figure 7 in *Legasa et al. 2022* using a RF with 200 trees and minimum leaf size 5 which considers the `gammaDeviation` as split function. The package includes the dataset `VALUE86`, with the exact same structure as `VALUE9`, which we use in the complete experiment:"
   ]
  },
  {
   "cell_type": "code",
   "execution_count": 17,
   "metadata": {},
   "outputs": [],
   "source": [
    "data(VALUE86)\n",
    "?VALUE86"
   ]
  },
  {
   "cell_type": "markdown",
   "metadata": {},
   "source": [
    "Bear in mind that the next chunk will take a while:"
   ]
  },
  {
   "cell_type": "code",
   "execution_count": 18,
   "metadata": {},
   "outputs": [],
   "source": [
    "future::plan(future::multisession, workers = parallel::detectCores())  # parallelizing using all available cores\n",
    "\n",
    "predictions <-\n",
    "lapply(VALUE86, function(meteorological.station){\n",
    "    predictions <- lapply(meteorological.station, function(fold){\n",
    "        # training the model\n",
    "        md <- randomForestTrain(x = fold$train.x, y = (fold$train.y-1), \n",
    "                                ntree = 200,\n",
    "                                minbucket = 5, \n",
    "                                method = \"gammaDeviation\",\n",
    "                                parallel.plan = NULL,\n",
    "                                minsplit = 10,\n",
    "                                resample = TRUE,\n",
    "                                replace = FALSE, #we use samples without replacement\n",
    "                                sampsize = floor(0.632*nrow(fold$train.x)),                       \n",
    "                                mtry = 22)\n",
    "        \n",
    "        # applying the trained model to $test.x and returning the observed values $test.y:        \n",
    "        return(list(predicted = randomForestPredict(md, newdata = fold$test.x, method = \"bc3\"),\n",
    "                     observed = fold$test.y))\n",
    "    })\n",
    "    \n",
    "    # rearranging the series\n",
    "    predicted <- do.call(rbind, lapply(predictions, function(pr) pr$predicted)) \n",
    "    attr(predicted, \"class\") <- \"RandomForestDist.prediction.simulable\" # recovers the class\n",
    "    observed <- do.call(c, lapply(predictions, function(pr) pr$observed))\n",
    "\n",
    "    return(list(predicted = predicted, observed = observed))\n",
    "})\n",
    "\n",
    "future::plan(future::sequential) # reverting plan to normal"
   ]
  },
  {
   "cell_type": "markdown",
   "metadata": {},
   "source": [
    "We end up with the downscaled probability distribution (parameters *shape* and *rate*) for each station and day, which are then used to generate an ensemble of 250 stochastic rainfall values. With illustrative purposes, these values are subsequently validated in terms of the validation measures shown in Table 3 in Legasa et al. 2022:"
   ]
  },
  {
   "cell_type": "code",
   "execution_count": 19,
   "metadata": {
    "scrolled": false
   },
   "outputs": [
    {
     "data": {
      "image/png": "[encoded data removed]",
      "text/plain": [
       "plot without title"
      ]
     },
     "metadata": {
      "image/png": {
       "height": 420,
       "width": 420
      }
     },
     "output_type": "display_data"
    }
   ],
   "source": [
    "validation <- \n",
    "    lapply(predictions, function(station.predictions){  # loop covering each meteorological station\n",
    "        # generating 250 simulations from the predicted shape and rate parameters\n",
    "        observed <- station.predictions$observed\n",
    "        simulations <- randomForestSimulate(prediction = station.predictions$predicted, \n",
    "                                            distr = \"gamma\", n = 250) + 1\n",
    "        \n",
    "        # validating each simulation\n",
    "        stochastic.validation <-\n",
    "            apply(simulations, MARGIN = 2, FUN = function(simulation){# for each simulation\n",
    "\n",
    "                      mean_ <- mean(simulation)/mean(observed)\n",
    "                      sd_ <- sd(simulation)/sd(observed)\n",
    "\n",
    "                      # p95o <- quantile(obs, probs = 0.95)\n",
    "                      p95o <- quantile(observed, probs = 0.95)\n",
    "                      p95p <- quantile(simulation, probs = 0.95)\n",
    "                      p95 <- unname(p95p/p95o)\n",
    "                      p95a <- sum(simulation[which(simulation >= p95p)])/sum( observed[which(observed >= p95o)] )\n",
    "\n",
    "                      p98o <- quantile(observed, probs = 0.98)\n",
    "                      p98p <- quantile(simulation, probs = 0.98)\n",
    "                      p98 <- unname(p98p/p98o)\n",
    "                      p98a <- sum(simulation[which(simulation >= p98p)])/sum( observed[which(observed >= p98o)] )\n",
    "\n",
    "                      p99o <- quantile(observed, probs = 0.99)\n",
    "                      p99p <- quantile(simulation, probs = 0.99)\n",
    "                      p99 <- unname(p99p/p99o)\n",
    "                      p99a <- sum(simulation[which(simulation >= p99p)])/sum( observed[which(observed >= p99o)] )\n",
    "\n",
    "                      p05o <- quantile(observed, probs = 0.05)\n",
    "                      p05p <- quantile(simulation, probs = 0.05)\n",
    "                      p05 <- unname(p05p/p05o)\n",
    "\n",
    "                      p05o <- quantile(observed, probs = 0.05)\n",
    "                      p05p <- quantile(simulation, probs = 0.05)\n",
    "                      p05 <- unname(p05p/p05o)\n",
    "                \n",
    "                return(\n",
    "                        c(Mean = mean_,\n",
    "                          SD = sd_,\n",
    "                          P05 = p05,\n",
    "                          P95 = p95,\n",
    "                          P95A = p95a,\n",
    "                          P98 = p98,\n",
    "                          P98A = p98a,\n",
    "                          P99 = p99,\n",
    "                          P99A = p99a,\n",
    "                          KS = suppressWarnings(ks.test(x = observed, y = simulation)$statistic)\n",
    "                        )\n",
    "                )\n",
    "            })\n",
    "\n",
    "        # averaging the 250 values obtained for each validation metric\n",
    "        stochastic.validation <- rowMeans(stochastic.validation)\n",
    "\n",
    "        # correlation is computed for the deterministic series of predicted rainfall; recall E[X] = alpha/beta\n",
    "        alphas <- station.predictions$predicted[ , 1]\n",
    "        betas <- station.predictions$predicted[ , 2]\n",
    "        correlation <- cor(alphas/betas + 1, observed, method = \"spearman\")\n",
    "\n",
    "        return(c(stochastic.validation, Cor = correlation))\n",
    "\n",
    "    })\n",
    "\n",
    "validation <- t(simplify2array(validation))\n",
    "\n",
    "# plotting the results\n",
    "boxplot(validation)   \n",
    "abline(h = 1, lty = 2)"
   ]
  }
 ],
 "metadata": {
  "kernelspec": {
   "display_name": "R",
   "language": "R",
   "name": "ir"
  },
  "language_info": {
   "codemirror_mode": "r",
   "file_extension": ".r",
   "mimetype": "text/x-r-source",
   "name": "R",
   "pygments_lexer": "r",
   "version": "3.6.1"
  },
  "latex_envs": {
   "LaTeX_envs_menu_present": true,
   "autoclose": false,
   "autocomplete": true,
   "bibliofile": "biblio.bib",
   "cite_by": "apalike",
   "current_citInitial": 1,
   "eqLabelWithNumbers": true,
   "eqNumInitial": 1,
   "hotkeys": {
    "equation": "Ctrl-E",
    "itemize": "Ctrl-I"
   },
   "labels_anchors": false,
   "latex_user_defs": false,
   "report_style_numbering": false,
   "user_envs_cfg": false
  },
  "toc": {
   "base_numbering": 1,
   "nav_menu": {},
   "number_sections": true,
   "sideBar": true,
   "skip_h1_title": false,
   "title_cell": "Table of Contents",
   "title_sidebar": "Contents",
   "toc_cell": false,
   "toc_position": {},
   "toc_section_display": true,
   "toc_window_display": false
  }
 },
 "nbformat": 4,
 "nbformat_minor": 4
}
