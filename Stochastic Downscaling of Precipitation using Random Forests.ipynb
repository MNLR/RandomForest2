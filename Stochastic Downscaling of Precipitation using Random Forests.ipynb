{
 "cells": [
  {
   "cell_type": "markdown",
   "metadata": {},
   "source": [
    "## Stochastic Downscaling of Precipitation using Random Forests\n",
    "### Worked Example using RandomForest2 package\n",
    "\n",
    "#### Mikel N. Legasa, Rodrigo Manzanas and José Manuel Gutiérrez.\n",
    "\n",
    "This is the companion notebook for the R package [**RandomForest2**](https://github.com/MNLR/RandomForest2), created with the purpose of extending random forests to accomodate for more split functions and estimation approaches. The package requires a modified version of [**rpart**](https://cran.r-project.org/web/packages/rpart/index.html) that can be found [here](https://github.com/MNLR/rpart). We briefly explain how to use the package by means of several examples.\n",
    "\n",
    "This examples present the R code to reproduce the random forest models for the paper *Stochastic Downscaling of Precipitation using Random Forests*, submited to ---, in which we apply random forests to the problem of statistical downscaling of rainfall. We briefly explain how to build the models presented in the paper and use them to predict and generate new precipitation series.\n",
    "\n",
    "The reader can install both packages from Github by means of the package `devtools`, executing"
   ]
  },
  {
   "cell_type": "code",
   "execution_count": null,
   "metadata": {},
   "outputs": [],
   "source": [
    "devtools::install_github(\"MNLR/rpart\")\n",
    "install.packages(c(\"progressr\", \"qmap\", \"fitdistrplus\"))\n",
    "devtools::install_github(\"MNLR/RandomForest2\")"
   ]
  },
  {
   "cell_type": "markdown",
   "metadata": {},
   "source": [
    "We load `RandomForest2` and the example dataset included, `VALUE9`. This dataset contains rainfall series for 9 meteorological stations over Europe, along with their corresponding 17 large scale reanalysis predictors at the 4 nearest grid points. It corresponds to the subset of 9 meteorological stations described in the article *Stochastic Downscaling of Precipitation using Random Forests* (check the article for more information on the dataset). We use this dataset to describe the functionality of the package."
   ]
  },
  {
   "cell_type": "code",
   "execution_count": 1,
   "metadata": {},
   "outputs": [
    {
     "name": "stderr",
     "output_type": "stream",
     "text": [
      "Loading required package: rpart\n",
      "\n",
      "Loading required package: progressr\n",
      "\n"
     ]
    }
   ],
   "source": [
    "library(RandomForest2)\n",
    "data(VALUE9)"
   ]
  },
  {
   "cell_type": "markdown",
   "metadata": {},
   "source": [
    "It is a list of 9 elements, each one corresponding to a meteorological station. The data for each station is already divided into a stratified 5-fold (each fold comprises the years F1 = 1979−1984, F2 = 1985−1990, F3 = 1991-1996, F4 = 1997-2002, F5 = 2003-2008).  `$train.y` and `$test.y` correspond to the predictands; and `$train.x` and `$test.x` are the predictors. For example:"
   ]
  },
  {
   "cell_type": "code",
   "execution_count": 2,
   "metadata": {},
   "outputs": [
    {
     "data": {
      "text/html": [
       "<table>\n",
       "<caption>A matrix: 6 × 69 of type dbl</caption>\n",
       "<tbody>\n",
       "\t<tr><td> 5.4</td><td>100934.56</td><td>101076.31</td><td>101029.38</td><td>101127.6</td><td>0.9725891</td><td>-0.5552429</td><td> 3.362726</td><td>1.4769836</td><td>53970.78</td><td>⋯</td><td>0.0008774727</td><td>0.0007474154</td><td>0.001837683</td><td>0.001404357</td><td>0.002788675</td><td>0.002296162</td><td>0.003939099</td><td>0.003326243</td><td>0.004503078</td><td>0.004167265</td></tr>\n",
       "\t<tr><td> 3.0</td><td> 99861.81</td><td>100098.66</td><td> 99890.75</td><td>100026.2</td><td>4.0751587</td><td> 2.3417603</td><td> 6.654260</td><td>4.7987915</td><td>53126.36</td><td>⋯</td><td>0.0007746874</td><td>0.0008232652</td><td>0.002964854</td><td>0.003158688</td><td>0.002753138</td><td>0.002897739</td><td>0.004851500</td><td>0.004605810</td><td>0.004810254</td><td>0.004700223</td></tr>\n",
       "\t<tr><td> 5.0</td><td>100774.52</td><td>101000.39</td><td>101343.70</td><td>101556.2</td><td>1.7720581</td><td> 0.8526245</td><td> 3.237878</td><td>0.7207886</td><td>53762.79</td><td>⋯</td><td>0.0008526679</td><td>0.0009968218</td><td>0.002528636</td><td>0.002547173</td><td>0.002720682</td><td>0.002845912</td><td>0.004383934</td><td>0.003969920</td><td>0.004411114</td><td>0.003889335</td></tr>\n",
       "\t<tr><td>12.9</td><td>100790.47</td><td>100810.84</td><td>101059.16</td><td>101159.5</td><td>4.7946411</td><td> 4.9987427</td><td> 7.108118</td><td>5.1798950</td><td>54141.42</td><td>⋯</td><td>0.0013121588</td><td>0.0011717600</td><td>0.002218187</td><td>0.002100289</td><td>0.002669751</td><td>0.002809047</td><td>0.004955770</td><td>0.004400434</td><td>0.005563976</td><td>0.005303564</td></tr>\n",
       "\t<tr><td>11.0</td><td> 99843.41</td><td> 99968.94</td><td>100306.59</td><td>100510.2</td><td>8.2443481</td><td> 8.8000122</td><td> 9.919641</td><td>7.6437622</td><td>53829.54</td><td>⋯</td><td>0.0012456127</td><td>0.0012676665</td><td>0.003520003</td><td>0.003533235</td><td>0.004003754</td><td>0.004093757</td><td>0.006390568</td><td>0.006163236</td><td>0.006739852</td><td>0.006437775</td></tr>\n",
       "\t<tr><td> 1.0</td><td> 99936.30</td><td> 99915.36</td><td>100108.30</td><td>100281.5</td><td>7.5472656</td><td> 9.0443359</td><td>10.253320</td><td>8.7977539</td><td>53769.01</td><td>⋯</td><td>0.0014264237</td><td>0.0015940617</td><td>0.003558955</td><td>0.004082522</td><td>0.003949782</td><td>0.004051825</td><td>0.005973617</td><td>0.006448189</td><td>0.006836812</td><td>0.006869952</td></tr>\n",
       "</tbody>\n",
       "</table>\n"
      ],
      "text/latex": [
       "A matrix: 6 × 69 of type dbl\n",
       "\\begin{tabular}{lllllllllllllllllllll}\n",
       "\t  5.4 & 100934.56 & 101076.31 & 101029.38 & 101127.6 & 0.9725891 & -0.5552429 &  3.362726 & 1.4769836 & 53970.78 & ⋯ & 0.0008774727 & 0.0007474154 & 0.001837683 & 0.001404357 & 0.002788675 & 0.002296162 & 0.003939099 & 0.003326243 & 0.004503078 & 0.004167265\\\\\n",
       "\t  3.0 &  99861.81 & 100098.66 &  99890.75 & 100026.2 & 4.0751587 &  2.3417603 &  6.654260 & 4.7987915 & 53126.36 & ⋯ & 0.0007746874 & 0.0008232652 & 0.002964854 & 0.003158688 & 0.002753138 & 0.002897739 & 0.004851500 & 0.004605810 & 0.004810254 & 0.004700223\\\\\n",
       "\t  5.0 & 100774.52 & 101000.39 & 101343.70 & 101556.2 & 1.7720581 &  0.8526245 &  3.237878 & 0.7207886 & 53762.79 & ⋯ & 0.0008526679 & 0.0009968218 & 0.002528636 & 0.002547173 & 0.002720682 & 0.002845912 & 0.004383934 & 0.003969920 & 0.004411114 & 0.003889335\\\\\n",
       "\t 12.9 & 100790.47 & 100810.84 & 101059.16 & 101159.5 & 4.7946411 &  4.9987427 &  7.108118 & 5.1798950 & 54141.42 & ⋯ & 0.0013121588 & 0.0011717600 & 0.002218187 & 0.002100289 & 0.002669751 & 0.002809047 & 0.004955770 & 0.004400434 & 0.005563976 & 0.005303564\\\\\n",
       "\t 11.0 &  99843.41 &  99968.94 & 100306.59 & 100510.2 & 8.2443481 &  8.8000122 &  9.919641 & 7.6437622 & 53829.54 & ⋯ & 0.0012456127 & 0.0012676665 & 0.003520003 & 0.003533235 & 0.004003754 & 0.004093757 & 0.006390568 & 0.006163236 & 0.006739852 & 0.006437775\\\\\n",
       "\t  1.0 &  99936.30 &  99915.36 & 100108.30 & 100281.5 & 7.5472656 &  9.0443359 & 10.253320 & 8.7977539 & 53769.01 & ⋯ & 0.0014264237 & 0.0015940617 & 0.003558955 & 0.004082522 & 0.003949782 & 0.004051825 & 0.005973617 & 0.006448189 & 0.006836812 & 0.006869952\\\\\n",
       "\\end{tabular}\n"
      ],
      "text/markdown": [
       "\n",
       "A matrix: 6 × 69 of type dbl\n",
       "\n",
       "|  5.4 | 100934.56 | 101076.31 | 101029.38 | 101127.6 | 0.9725891 | -0.5552429 |  3.362726 | 1.4769836 | 53970.78 | ⋯ | 0.0008774727 | 0.0007474154 | 0.001837683 | 0.001404357 | 0.002788675 | 0.002296162 | 0.003939099 | 0.003326243 | 0.004503078 | 0.004167265 |\n",
       "|  3.0 |  99861.81 | 100098.66 |  99890.75 | 100026.2 | 4.0751587 |  2.3417603 |  6.654260 | 4.7987915 | 53126.36 | ⋯ | 0.0007746874 | 0.0008232652 | 0.002964854 | 0.003158688 | 0.002753138 | 0.002897739 | 0.004851500 | 0.004605810 | 0.004810254 | 0.004700223 |\n",
       "|  5.0 | 100774.52 | 101000.39 | 101343.70 | 101556.2 | 1.7720581 |  0.8526245 |  3.237878 | 0.7207886 | 53762.79 | ⋯ | 0.0008526679 | 0.0009968218 | 0.002528636 | 0.002547173 | 0.002720682 | 0.002845912 | 0.004383934 | 0.003969920 | 0.004411114 | 0.003889335 |\n",
       "| 12.9 | 100790.47 | 100810.84 | 101059.16 | 101159.5 | 4.7946411 |  4.9987427 |  7.108118 | 5.1798950 | 54141.42 | ⋯ | 0.0013121588 | 0.0011717600 | 0.002218187 | 0.002100289 | 0.002669751 | 0.002809047 | 0.004955770 | 0.004400434 | 0.005563976 | 0.005303564 |\n",
       "| 11.0 |  99843.41 |  99968.94 | 100306.59 | 100510.2 | 8.2443481 |  8.8000122 |  9.919641 | 7.6437622 | 53829.54 | ⋯ | 0.0012456127 | 0.0012676665 | 0.003520003 | 0.003533235 | 0.004003754 | 0.004093757 | 0.006390568 | 0.006163236 | 0.006739852 | 0.006437775 |\n",
       "|  1.0 |  99936.30 |  99915.36 | 100108.30 | 100281.5 | 7.5472656 |  9.0443359 | 10.253320 | 8.7977539 | 53769.01 | ⋯ | 0.0014264237 | 0.0015940617 | 0.003558955 | 0.004082522 | 0.003949782 | 0.004051825 | 0.005973617 | 0.006448189 | 0.006836812 | 0.006869952 |\n",
       "\n"
      ],
      "text/plain": [
       "     [,1] [,2]      [,3]      [,4]      [,5]     [,6]      [,7]       [,8]     \n",
       "[1,]  5.4 100934.56 101076.31 101029.38 101127.6 0.9725891 -0.5552429  3.362726\n",
       "[2,]  3.0  99861.81 100098.66  99890.75 100026.2 4.0751587  2.3417603  6.654260\n",
       "[3,]  5.0 100774.52 101000.39 101343.70 101556.2 1.7720581  0.8526245  3.237878\n",
       "[4,] 12.9 100790.47 100810.84 101059.16 101159.5 4.7946411  4.9987427  7.108118\n",
       "[5,] 11.0  99843.41  99968.94 100306.59 100510.2 8.2443481  8.8000122  9.919641\n",
       "[6,]  1.0  99936.30  99915.36 100108.30 100281.5 7.5472656  9.0443359 10.253320\n",
       "     [,9]      [,10]    [,11] [,12]        [,13]        [,14]       [,15]      \n",
       "[1,] 1.4769836 53970.78 ⋯     0.0008774727 0.0007474154 0.001837683 0.001404357\n",
       "[2,] 4.7987915 53126.36 ⋯     0.0007746874 0.0008232652 0.002964854 0.003158688\n",
       "[3,] 0.7207886 53762.79 ⋯     0.0008526679 0.0009968218 0.002528636 0.002547173\n",
       "[4,] 5.1798950 54141.42 ⋯     0.0013121588 0.0011717600 0.002218187 0.002100289\n",
       "[5,] 7.6437622 53829.54 ⋯     0.0012456127 0.0012676665 0.003520003 0.003533235\n",
       "[6,] 8.7977539 53769.01 ⋯     0.0014264237 0.0015940617 0.003558955 0.004082522\n",
       "     [,16]       [,17]       [,18]       [,19]       [,20]       [,21]      \n",
       "[1,] 0.002788675 0.002296162 0.003939099 0.003326243 0.004503078 0.004167265\n",
       "[2,] 0.002753138 0.002897739 0.004851500 0.004605810 0.004810254 0.004700223\n",
       "[3,] 0.002720682 0.002845912 0.004383934 0.003969920 0.004411114 0.003889335\n",
       "[4,] 0.002669751 0.002809047 0.004955770 0.004400434 0.005563976 0.005303564\n",
       "[5,] 0.004003754 0.004093757 0.006390568 0.006163236 0.006739852 0.006437775\n",
       "[6,] 0.003949782 0.004051825 0.005973617 0.006448189 0.006836812 0.006869952"
      ]
     },
     "metadata": {},
     "output_type": "display_data"
    }
   ],
   "source": [
    "head(cbind(VALUE9[[1]]$f1_79_84$train.y, VALUE9[[1]]$f1_79_84$train.x))"
   ]
  },
  {
   "cell_type": "markdown",
   "metadata": {},
   "source": [
    "### Training the models\n",
    "We select the sixth station and first fold to illustrate the training process."
   ]
  },
  {
   "cell_type": "code",
   "execution_count": 3,
   "metadata": {},
   "outputs": [],
   "source": [
    "train.x <- VALUE9[[6]]$f1_79_84$train.x\n",
    "train.y <- VALUE9[[6]]$f1_79_84$train.y"
   ]
  },
  {
   "cell_type": "markdown",
   "metadata": {},
   "source": [
    "The function `randomForestTrain()` builds the model for the predictors `x` and predictands `y`."
   ]
  },
  {
   "cell_type": "code",
   "execution_count": 4,
   "metadata": {},
   "outputs": [],
   "source": [
    "rf <- randomForestTrain(x = train.x, y = train.y)"
   ]
  },
  {
   "cell_type": "markdown",
   "metadata": {},
   "source": [
    "We can specify the parameters `mtry`, the number of predictors to randomly use as candidate split variables; `ntree`, the number of trees in the model; `minbucket`, the minimum number of elements each leaf is required to have; `minsplit`, the minimum number of elements each node is required to have to attempt split; and `maxdepth`, the maximum allowed depth for each tree."
   ]
  },
  {
   "cell_type": "code",
   "execution_count": 5,
   "metadata": {},
   "outputs": [],
   "source": [
    "rf <- randomForestTrain(x = train.x, y = train.y, ntree = 25, mtry = 22, \n",
    "                        minbucket = 10, minsplit = 30, maxdepth = 10)"
   ]
  },
  {
   "cell_type": "markdown",
   "metadata": {},
   "source": [
    "By default the models use root mean squared error as split function. The parameter `split.function` allows different split functions, as defined in the modified version of `rpart`. Currently supported options are `\"anova\", \"poisson\", \"class\", \"exp\", \"gammaLLMME\", \"gammaLLmean\", \"bernoulliGammaLLMME\", \"gammaDeviation\", \"gammaLLBC3\", \"bernoulliLL\"`. \n",
    "\n",
    "In this work we restrict ourselves to the gamma 2 parameter distribution family."
   ]
  },
  {
   "cell_type": "code",
   "execution_count": 6,
   "metadata": {},
   "outputs": [],
   "source": [
    "rf.dev <- randomForestTrain(x = train.x, y = train.y, ntree = 100, minbucket = 10, method = \"gammaDeviation\")\n",
    "rf.LLMME <- randomForestTrain(x = train.x, y = train.y, ntree = 100, minbucket = 10, method = \"gammaLLMME\")\n",
    "rf.LLBC3 <- randomForestTrain(x = train.x, y = train.y, ntree = 100, minbucket = 10, method = \"gammaLLBC3\")"
   ]
  },
  {
   "cell_type": "markdown",
   "metadata": {},
   "source": [
    "### Parallelization\n",
    "\n",
    "The training process can be parallelized by means of the package `future.apply`. The package has to be installed independently, otherwise parallelization will not be an option. Use `install.packages(future.apply)` to install it. This will also install the dependency `future`.\n",
    "\n",
    "The simplest way to use parallelization is setting `parallel.plan = \"auto\"`. This will automatically use all the available cores to train the model in parallel."
   ]
  },
  {
   "cell_type": "code",
   "execution_count": 7,
   "metadata": {},
   "outputs": [],
   "source": [
    "rf <- randomForestTrain(x = train.x, y = train.y, ntree = 100, minbucket = 10,\n",
    "                        method = \"gammaDeviation\",\n",
    "                        parallel.plan = \"auto\")"
   ]
  },
  {
   "cell_type": "markdown",
   "metadata": {},
   "source": [
    "If not set to `\"auto\"`, the parameter `paralell.plan` corresponds to the execution plan corresponding to the `strategy` parameter in `future::plan()`. Refer to the packages `future` and `future.apply` for the available options. As an example, we show how parallelization in 4 cores can be achieved in combination with the parameter `workers` and setting the `parallel.plan` to `multisession`:"
   ]
  },
  {
   "cell_type": "code",
   "execution_count": 8,
   "metadata": {},
   "outputs": [],
   "source": [
    "rf <- randomForestTrain(x = train.x, y = train.y, ntree = 100, minbucket = 10, \n",
    "                        method = \"gammaDeviation\", \n",
    "                        parallel.plan = future::multisession, workers = 4)"
   ]
  },
  {
   "cell_type": "markdown",
   "metadata": {},
   "source": [
    " Also, if left missing or set to `NULL` (default), the function will use the current plan. This is useful for configuration of the plan outside the function, as we do in the next example. We set the execution to `multisession()` prior to launching the loop and train several models using this plan (do not forget to close the sessions by reverting to `sequential()`)."
   ]
  },
  {
   "cell_type": "code",
   "execution_count": 9,
   "metadata": {},
   "outputs": [],
   "source": [
    "future::plan(future::multisession, workers = 4)\n",
    "\n",
    "rfs <- lapply(VALUE9[[1]], function(fold){\n",
    "    return(\n",
    "        randomForestTrain(x = fold$train.x, y = fold$train.y, ntree = 25, minbucket = 10, \n",
    "                          method = \"gammaDeviation\",\n",
    "                          parallel.plan = NULL)\n",
    "    )\n",
    "    \n",
    "})\n",
    "\n",
    "future::plan(future::sequential)"
   ]
  },
  {
   "cell_type": "markdown",
   "metadata": {},
   "source": [
    "Note that using `parallel.plan = NA` will avoid parallelization altogether. This is the default if `future.apply` is not available."
   ]
  },
  {
   "cell_type": "markdown",
   "metadata": {},
   "source": [
    "### Predictions and Simulations\n",
    "\n",
    "Predictions can be obtained using the function `randomForestPredict()`. We use the out-of-sample predictors for the models above."
   ]
  },
  {
   "cell_type": "code",
   "execution_count": 10,
   "metadata": {},
   "outputs": [],
   "source": [
    "test.x <- VALUE9[[6]]$f1_79_84$test.x\n",
    "test.y <- VALUE9[[6]]$f1_79_84$test.y"
   ]
  },
  {
   "cell_type": "markdown",
   "metadata": {},
   "source": [
    "The default configuration uses bagging:"
   ]
  },
  {
   "cell_type": "code",
   "execution_count": 11,
   "metadata": {},
   "outputs": [
    {
     "data": {
      "text/html": [
       "<style>\n",
       ".dl-inline {width: auto; margin:0; padding: 0}\n",
       ".dl-inline>dt, .dl-inline>dd {float: none; width: auto; display: inline-block}\n",
       ".dl-inline>dt::after {content: \":\\0020\"; padding-right: .5ex}\n",
       ".dl-inline>dt:not(:first-of-type) {padding-left: .5ex}\n",
       "</style><dl class=dl-inline><dt>1</dt><dd>5.9906754434463</dd><dt>2</dt><dd>2.87777896302614</dd><dt>3</dt><dd>4.3545702299936</dd><dt>4</dt><dd>2.23586068353731</dd><dt>5</dt><dd>3.74359326034732</dd><dt>6</dt><dd>9.59665578744871</dd></dl>\n"
      ],
      "text/latex": [
       "\\begin{description*}\n",
       "\\item[1] 5.9906754434463\n",
       "\\item[2] 2.87777896302614\n",
       "\\item[3] 4.3545702299936\n",
       "\\item[4] 2.23586068353731\n",
       "\\item[5] 3.74359326034732\n",
       "\\item[6] 9.59665578744871\n",
       "\\end{description*}\n"
      ],
      "text/markdown": [
       "1\n",
       ":   5.99067544344632\n",
       ":   2.877778963026143\n",
       ":   4.35457022999364\n",
       ":   2.235860683537315\n",
       ":   3.743593260347326\n",
       ":   9.59665578744871\n",
       "\n"
      ],
      "text/plain": [
       "       1        2        3        4        5        6 \n",
       "5.990675 2.877779 4.354570 2.235861 3.743593 9.596656 "
      ]
     },
     "metadata": {},
     "output_type": "display_data"
    }
   ],
   "source": [
    "pr <- randomForestPredict(rf, newdata = test.x)\n",
    "head(pr)"
   ]
  },
  {
   "cell_type": "markdown",
   "metadata": {},
   "source": [
    "The parameter `bagging.function` can be used to use other aggregation functions. Also, if set to `NA` the model outputs all the trees' predictions"
   ]
  },
  {
   "cell_type": "code",
   "execution_count": 12,
   "metadata": {},
   "outputs": [
    {
     "data": {
      "text/html": [
       "<table>\n",
       "<caption>A matrix: 10 × 100 of type dbl</caption>\n",
       "<tbody>\n",
       "\t<tr><th scope=row>1</th><td>28.200000</td><td> 7.4823529</td><td> 3.561111</td><td>18.7100000</td><td> 6.622222</td><td> 5.7600000</td><td>13.550000</td><td> 1.7769231</td><td> 4.420000</td><td> 6.760000</td><td>⋯</td><td> 5.763158</td><td> 6.270000</td><td> 6.3923077</td><td> 2.8812500</td><td> 3.1153846</td><td> 2.978947</td><td>19.366667</td><td> 1.761111</td><td> 6.1266667</td><td>4.2368421</td></tr>\n",
       "\t<tr><th scope=row>2</th><td> 0.990000</td><td> 0.7400000</td><td> 5.480000</td><td> 5.5769231</td><td> 2.440000</td><td> 1.9400000</td><td> 1.994737</td><td> 0.7000000</td><td> 1.681818</td><td> 1.818182</td><td>⋯</td><td> 5.763158</td><td> 1.858824</td><td> 0.9727273</td><td> 0.7789474</td><td> 1.6416667</td><td> 3.238889</td><td> 2.445455</td><td>10.133333</td><td> 4.7500000</td><td>2.6187500</td></tr>\n",
       "\t<tr><th scope=row>3</th><td> 4.346154</td><td> 1.0692308</td><td> 5.480000</td><td> 5.5769231</td><td> 2.440000</td><td> 1.0500000</td><td>13.590000</td><td> 2.4142857</td><td> 4.420000</td><td> 4.326667</td><td>⋯</td><td> 5.763158</td><td> 5.254545</td><td> 3.6000000</td><td> 0.7789474</td><td> 3.1153846</td><td> 5.785714</td><td> 3.535714</td><td>10.133333</td><td> 2.0600000</td><td>7.4357143</td></tr>\n",
       "\t<tr><th scope=row>4</th><td> 1.450000</td><td> 0.7400000</td><td> 1.436364</td><td> 0.5789474</td><td> 2.440000</td><td> 1.0500000</td><td> 1.064706</td><td> 1.7769231</td><td> 1.000000</td><td> 8.725000</td><td>⋯</td><td> 5.763158</td><td> 5.254545</td><td> 2.2846154</td><td> 0.6066667</td><td> 0.4157895</td><td> 2.978947</td><td> 7.011765</td><td> 1.761111</td><td> 0.5181818</td><td>4.7000000</td></tr>\n",
       "\t<tr><th scope=row>5</th><td>10.116667</td><td> 1.6700000</td><td> 3.561111</td><td> 6.4266667</td><td> 1.063636</td><td> 0.9428571</td><td>11.710000</td><td> 0.4466667</td><td> 5.517647</td><td> 1.463158</td><td>⋯</td><td> 3.358333</td><td> 6.723077</td><td>11.4555556</td><td> 5.9300000</td><td> 1.9800000</td><td> 2.269231</td><td> 2.563636</td><td> 7.589474</td><td> 3.6500000</td><td>0.9153846</td></tr>\n",
       "\t<tr><th scope=row>6</th><td> 5.066667</td><td>13.6562500</td><td> 1.607143</td><td> 7.8363636</td><td>11.480000</td><td>13.1454545</td><td> 6.525000</td><td> 4.5388889</td><td>32.305556</td><td> 4.446154</td><td>⋯</td><td> 5.170588</td><td> 5.900000</td><td> 5.3727273</td><td> 6.8100000</td><td> 2.5200000</td><td>12.823077</td><td> 6.864286</td><td>10.850000</td><td> 9.1647059</td><td>8.1769231</td></tr>\n",
       "\t<tr><th scope=row>7</th><td>16.886667</td><td> 3.3916667</td><td> 6.630000</td><td> 9.0833333</td><td>10.600000</td><td> 6.3000000</td><td> 4.670588</td><td>14.2250000</td><td> 5.506250</td><td> 8.945455</td><td>⋯</td><td> 2.190000</td><td> 7.870000</td><td>22.6700000</td><td> 4.9230769</td><td> 5.0294118</td><td>11.028571</td><td> 1.625000</td><td> 8.000000</td><td> 5.4250000</td><td>7.4600000</td></tr>\n",
       "\t<tr><th scope=row>8</th><td> 2.500000</td><td> 0.7058824</td><td> 1.150000</td><td> 8.8272727</td><td> 4.590000</td><td> 4.2235294</td><td> 6.146154</td><td> 8.4500000</td><td> 1.681818</td><td> 4.676923</td><td>⋯</td><td> 3.236364</td><td> 6.108333</td><td> 4.4157895</td><td> 1.3818182</td><td> 7.1181818</td><td> 4.769231</td><td> 1.590000</td><td> 2.520000</td><td> 1.9470588</td><td>5.3818182</td></tr>\n",
       "\t<tr><th scope=row>9</th><td> 6.933333</td><td> 7.1900000</td><td>11.773684</td><td>12.5000000</td><td> 8.887500</td><td> 8.9714286</td><td>12.669231</td><td> 8.2545455</td><td> 9.766667</td><td>10.916667</td><td>⋯</td><td> 5.241667</td><td>13.900000</td><td>17.6250000</td><td>14.5900000</td><td> 7.0454545</td><td> 4.218182</td><td> 8.800000</td><td> 5.670000</td><td> 3.6687500</td><td>8.4187500</td></tr>\n",
       "\t<tr><th scope=row>10</th><td>10.136364</td><td>11.8363636</td><td> 8.740000</td><td>11.5153846</td><td>18.060000</td><td>14.8166667</td><td>13.125000</td><td>15.4153846</td><td> 9.529412</td><td> 6.950000</td><td>⋯</td><td>12.247368</td><td>20.814286</td><td>10.5062500</td><td>11.1928571</td><td>17.4000000</td><td> 5.545455</td><td> 8.310526</td><td> 6.872727</td><td>10.6100000</td><td>8.4187500</td></tr>\n",
       "</tbody>\n",
       "</table>\n"
      ],
      "text/latex": [
       "A matrix: 10 × 100 of type dbl\n",
       "\\begin{tabular}{r|lllllllllllllllllllll}\n",
       "\t1 & 28.200000 &  7.4823529 &  3.561111 & 18.7100000 &  6.622222 &  5.7600000 & 13.550000 &  1.7769231 &  4.420000 &  6.760000 & ⋯ &  5.763158 &  6.270000 &  6.3923077 &  2.8812500 &  3.1153846 &  2.978947 & 19.366667 &  1.761111 &  6.1266667 & 4.2368421\\\\\n",
       "\t2 &  0.990000 &  0.7400000 &  5.480000 &  5.5769231 &  2.440000 &  1.9400000 &  1.994737 &  0.7000000 &  1.681818 &  1.818182 & ⋯ &  5.763158 &  1.858824 &  0.9727273 &  0.7789474 &  1.6416667 &  3.238889 &  2.445455 & 10.133333 &  4.7500000 & 2.6187500\\\\\n",
       "\t3 &  4.346154 &  1.0692308 &  5.480000 &  5.5769231 &  2.440000 &  1.0500000 & 13.590000 &  2.4142857 &  4.420000 &  4.326667 & ⋯ &  5.763158 &  5.254545 &  3.6000000 &  0.7789474 &  3.1153846 &  5.785714 &  3.535714 & 10.133333 &  2.0600000 & 7.4357143\\\\\n",
       "\t4 &  1.450000 &  0.7400000 &  1.436364 &  0.5789474 &  2.440000 &  1.0500000 &  1.064706 &  1.7769231 &  1.000000 &  8.725000 & ⋯ &  5.763158 &  5.254545 &  2.2846154 &  0.6066667 &  0.4157895 &  2.978947 &  7.011765 &  1.761111 &  0.5181818 & 4.7000000\\\\\n",
       "\t5 & 10.116667 &  1.6700000 &  3.561111 &  6.4266667 &  1.063636 &  0.9428571 & 11.710000 &  0.4466667 &  5.517647 &  1.463158 & ⋯ &  3.358333 &  6.723077 & 11.4555556 &  5.9300000 &  1.9800000 &  2.269231 &  2.563636 &  7.589474 &  3.6500000 & 0.9153846\\\\\n",
       "\t6 &  5.066667 & 13.6562500 &  1.607143 &  7.8363636 & 11.480000 & 13.1454545 &  6.525000 &  4.5388889 & 32.305556 &  4.446154 & ⋯ &  5.170588 &  5.900000 &  5.3727273 &  6.8100000 &  2.5200000 & 12.823077 &  6.864286 & 10.850000 &  9.1647059 & 8.1769231\\\\\n",
       "\t7 & 16.886667 &  3.3916667 &  6.630000 &  9.0833333 & 10.600000 &  6.3000000 &  4.670588 & 14.2250000 &  5.506250 &  8.945455 & ⋯ &  2.190000 &  7.870000 & 22.6700000 &  4.9230769 &  5.0294118 & 11.028571 &  1.625000 &  8.000000 &  5.4250000 & 7.4600000\\\\\n",
       "\t8 &  2.500000 &  0.7058824 &  1.150000 &  8.8272727 &  4.590000 &  4.2235294 &  6.146154 &  8.4500000 &  1.681818 &  4.676923 & ⋯ &  3.236364 &  6.108333 &  4.4157895 &  1.3818182 &  7.1181818 &  4.769231 &  1.590000 &  2.520000 &  1.9470588 & 5.3818182\\\\\n",
       "\t9 &  6.933333 &  7.1900000 & 11.773684 & 12.5000000 &  8.887500 &  8.9714286 & 12.669231 &  8.2545455 &  9.766667 & 10.916667 & ⋯ &  5.241667 & 13.900000 & 17.6250000 & 14.5900000 &  7.0454545 &  4.218182 &  8.800000 &  5.670000 &  3.6687500 & 8.4187500\\\\\n",
       "\t10 & 10.136364 & 11.8363636 &  8.740000 & 11.5153846 & 18.060000 & 14.8166667 & 13.125000 & 15.4153846 &  9.529412 &  6.950000 & ⋯ & 12.247368 & 20.814286 & 10.5062500 & 11.1928571 & 17.4000000 &  5.545455 &  8.310526 &  6.872727 & 10.6100000 & 8.4187500\\\\\n",
       "\\end{tabular}\n"
      ],
      "text/markdown": [
       "\n",
       "A matrix: 10 × 100 of type dbl\n",
       "\n",
       "| 1 | 28.200000 |  7.4823529 |  3.561111 | 18.7100000 |  6.622222 |  5.7600000 | 13.550000 |  1.7769231 |  4.420000 |  6.760000 | ⋯ |  5.763158 |  6.270000 |  6.3923077 |  2.8812500 |  3.1153846 |  2.978947 | 19.366667 |  1.761111 |  6.1266667 | 4.2368421 |\n",
       "| 2 |  0.990000 |  0.7400000 |  5.480000 |  5.5769231 |  2.440000 |  1.9400000 |  1.994737 |  0.7000000 |  1.681818 |  1.818182 | ⋯ |  5.763158 |  1.858824 |  0.9727273 |  0.7789474 |  1.6416667 |  3.238889 |  2.445455 | 10.133333 |  4.7500000 | 2.6187500 |\n",
       "| 3 |  4.346154 |  1.0692308 |  5.480000 |  5.5769231 |  2.440000 |  1.0500000 | 13.590000 |  2.4142857 |  4.420000 |  4.326667 | ⋯ |  5.763158 |  5.254545 |  3.6000000 |  0.7789474 |  3.1153846 |  5.785714 |  3.535714 | 10.133333 |  2.0600000 | 7.4357143 |\n",
       "| 4 |  1.450000 |  0.7400000 |  1.436364 |  0.5789474 |  2.440000 |  1.0500000 |  1.064706 |  1.7769231 |  1.000000 |  8.725000 | ⋯ |  5.763158 |  5.254545 |  2.2846154 |  0.6066667 |  0.4157895 |  2.978947 |  7.011765 |  1.761111 |  0.5181818 | 4.7000000 |\n",
       "| 5 | 10.116667 |  1.6700000 |  3.561111 |  6.4266667 |  1.063636 |  0.9428571 | 11.710000 |  0.4466667 |  5.517647 |  1.463158 | ⋯ |  3.358333 |  6.723077 | 11.4555556 |  5.9300000 |  1.9800000 |  2.269231 |  2.563636 |  7.589474 |  3.6500000 | 0.9153846 |\n",
       "| 6 |  5.066667 | 13.6562500 |  1.607143 |  7.8363636 | 11.480000 | 13.1454545 |  6.525000 |  4.5388889 | 32.305556 |  4.446154 | ⋯ |  5.170588 |  5.900000 |  5.3727273 |  6.8100000 |  2.5200000 | 12.823077 |  6.864286 | 10.850000 |  9.1647059 | 8.1769231 |\n",
       "| 7 | 16.886667 |  3.3916667 |  6.630000 |  9.0833333 | 10.600000 |  6.3000000 |  4.670588 | 14.2250000 |  5.506250 |  8.945455 | ⋯ |  2.190000 |  7.870000 | 22.6700000 |  4.9230769 |  5.0294118 | 11.028571 |  1.625000 |  8.000000 |  5.4250000 | 7.4600000 |\n",
       "| 8 |  2.500000 |  0.7058824 |  1.150000 |  8.8272727 |  4.590000 |  4.2235294 |  6.146154 |  8.4500000 |  1.681818 |  4.676923 | ⋯ |  3.236364 |  6.108333 |  4.4157895 |  1.3818182 |  7.1181818 |  4.769231 |  1.590000 |  2.520000 |  1.9470588 | 5.3818182 |\n",
       "| 9 |  6.933333 |  7.1900000 | 11.773684 | 12.5000000 |  8.887500 |  8.9714286 | 12.669231 |  8.2545455 |  9.766667 | 10.916667 | ⋯ |  5.241667 | 13.900000 | 17.6250000 | 14.5900000 |  7.0454545 |  4.218182 |  8.800000 |  5.670000 |  3.6687500 | 8.4187500 |\n",
       "| 10 | 10.136364 | 11.8363636 |  8.740000 | 11.5153846 | 18.060000 | 14.8166667 | 13.125000 | 15.4153846 |  9.529412 |  6.950000 | ⋯ | 12.247368 | 20.814286 | 10.5062500 | 11.1928571 | 17.4000000 |  5.545455 |  8.310526 |  6.872727 | 10.6100000 | 8.4187500 |\n",
       "\n"
      ],
      "text/plain": [
       "   [,1]      [,2]       [,3]      [,4]       [,5]      [,6]       [,7]     \n",
       "1  28.200000  7.4823529  3.561111 18.7100000  6.622222  5.7600000 13.550000\n",
       "2   0.990000  0.7400000  5.480000  5.5769231  2.440000  1.9400000  1.994737\n",
       "3   4.346154  1.0692308  5.480000  5.5769231  2.440000  1.0500000 13.590000\n",
       "4   1.450000  0.7400000  1.436364  0.5789474  2.440000  1.0500000  1.064706\n",
       "5  10.116667  1.6700000  3.561111  6.4266667  1.063636  0.9428571 11.710000\n",
       "6   5.066667 13.6562500  1.607143  7.8363636 11.480000 13.1454545  6.525000\n",
       "7  16.886667  3.3916667  6.630000  9.0833333 10.600000  6.3000000  4.670588\n",
       "8   2.500000  0.7058824  1.150000  8.8272727  4.590000  4.2235294  6.146154\n",
       "9   6.933333  7.1900000 11.773684 12.5000000  8.887500  8.9714286 12.669231\n",
       "10 10.136364 11.8363636  8.740000 11.5153846 18.060000 14.8166667 13.125000\n",
       "   [,8]       [,9]      [,10]     [,11] [,12]     [,13]     [,14]     \n",
       "1   1.7769231  4.420000  6.760000 ⋯      5.763158  6.270000  6.3923077\n",
       "2   0.7000000  1.681818  1.818182 ⋯      5.763158  1.858824  0.9727273\n",
       "3   2.4142857  4.420000  4.326667 ⋯      5.763158  5.254545  3.6000000\n",
       "4   1.7769231  1.000000  8.725000 ⋯      5.763158  5.254545  2.2846154\n",
       "5   0.4466667  5.517647  1.463158 ⋯      3.358333  6.723077 11.4555556\n",
       "6   4.5388889 32.305556  4.446154 ⋯      5.170588  5.900000  5.3727273\n",
       "7  14.2250000  5.506250  8.945455 ⋯      2.190000  7.870000 22.6700000\n",
       "8   8.4500000  1.681818  4.676923 ⋯      3.236364  6.108333  4.4157895\n",
       "9   8.2545455  9.766667 10.916667 ⋯      5.241667 13.900000 17.6250000\n",
       "10 15.4153846  9.529412  6.950000 ⋯     12.247368 20.814286 10.5062500\n",
       "   [,15]      [,16]      [,17]     [,18]     [,19]     [,20]      [,21]    \n",
       "1   2.8812500  3.1153846  2.978947 19.366667  1.761111  6.1266667 4.2368421\n",
       "2   0.7789474  1.6416667  3.238889  2.445455 10.133333  4.7500000 2.6187500\n",
       "3   0.7789474  3.1153846  5.785714  3.535714 10.133333  2.0600000 7.4357143\n",
       "4   0.6066667  0.4157895  2.978947  7.011765  1.761111  0.5181818 4.7000000\n",
       "5   5.9300000  1.9800000  2.269231  2.563636  7.589474  3.6500000 0.9153846\n",
       "6   6.8100000  2.5200000 12.823077  6.864286 10.850000  9.1647059 8.1769231\n",
       "7   4.9230769  5.0294118 11.028571  1.625000  8.000000  5.4250000 7.4600000\n",
       "8   1.3818182  7.1181818  4.769231  1.590000  2.520000  1.9470588 5.3818182\n",
       "9  14.5900000  7.0454545  4.218182  8.800000  5.670000  3.6687500 8.4187500\n",
       "10 11.1928571 17.4000000  5.545455  8.310526  6.872727 10.6100000 8.4187500"
      ]
     },
     "metadata": {},
     "output_type": "display_data"
    }
   ],
   "source": [
    "pr.median <- randomForestPredict(rf, newdata = test.x, bagging.function = median)\n",
    "pr.alltrees <- randomForestPredict(rf, newdata = test.x, bagging.function = NA)\n",
    "pr.alltrees[1:10,] # Show the output of all the trees for the first 10 days"
   ]
  },
  {
   "cell_type": "markdown",
   "metadata": {},
   "source": [
    "The parameter `method` controls the *a posteriori* approaches (described in the article). The options are described in the help page (`?randomForestPredict`), and we summarize them here. If `method` is not `NULL`, `bagging.function` is ignored.\n",
    "\n",
    "- `method = \"leaves\"` outputs all the observations for each predictor. \n",
    "- `method = \"random.sample\"` draws a random sample from the leaves for each predictor. This approach is non-generative.\n",
    "- `method = \"aposteriori\"` returns the parameter of the probability distribution of `train.y | train.x`, as estimated using Moments Matching Estimation (refer to `fitdistrplus::fitdist()`). In the case of the gamma distribution, this outputs the shape and rate of the distribution.\n",
    "- Additionally, this parameter can be used to select the estimation method for fitdistrplus::fitdist(), i.e. one of the following: `\"mle\"` for Maximum Likelihood Estimation; `\"mme\"` for Moments Matching Estimation (same as `\"aposteriori\"`); `\"qme\"` for Quantile Matching Estimation; `\"mge\"` for Maximum Goodness-of-fit Estimation; \"`mse`\" for Maximum Spacing Estimation. Note that some of these options require additional parameters (use `...`), and that some of them may not converge.\n",
    "\n",
    "We provide some examples below.\n",
    "\n",
    "Predicting the leaves observations allows us to plot `train.y | train.x`. We do this for two values:"
   ]
  },
  {
   "cell_type": "code",
   "execution_count": 13,
   "metadata": {},
   "outputs": [
    {
     "data": {
      "image/png": "[encoded data removed]",
      "text/plain": [
       "Plot with title “test.y | train.x”"
      ]
     },
     "metadata": {
      "image/png": {
       "height": 420,
       "width": 420
      },
      "text/plain": {
       "height": 420,
       "width": 420
      }
     },
     "output_type": "display_data"
    }
   ],
   "source": [
    "pr.leaves <- randomForestPredict(rf, newdata = test.x, method = \"leaves\")\n",
    "\n",
    "par(mfrow = c(1,2))\n",
    "hist(pr.leaves[[100]], breaks = 50, xlab = \"Rainfall\", freq = FALSE,\n",
    "     main = \"test.y | train.x\", ylim = c(0, 0.25), xlim = c(0,60))\n",
    "hist(pr.leaves[[300]], breaks = 50, xlab = \"Rainfall\", freq = FALSE, \n",
    "     main = \"test.y | train.x\",ylim = c(0, 0.25), xlim = c(0,60))"
   ]
  },
  {
   "cell_type": "markdown",
   "metadata": {},
   "source": [
    "As the model was trained using the deviation for the two-parameter gamma distribution, using `method = \"aposteriori\"` outputs the two parameter for each prediction:"
   ]
  },
  {
   "cell_type": "code",
   "execution_count": 14,
   "metadata": {},
   "outputs": [
    {
     "data": {
      "text/html": [
       "<table>\n",
       "<caption>A matrix: 10 × 2 of type dbl</caption>\n",
       "<thead>\n",
       "\t<tr><th scope=col>shape</th><th scope=col>rate</th></tr>\n",
       "</thead>\n",
       "<tbody>\n",
       "\t<tr><td>0.6631633</td><td>0.1139398</td></tr>\n",
       "\t<tr><td>0.8268574</td><td>0.2863083</td></tr>\n",
       "\t<tr><td>1.3305145</td><td>0.3068724</td></tr>\n",
       "\t<tr><td>0.7090563</td><td>0.3123169</td></tr>\n",
       "\t<tr><td>1.0520843</td><td>0.2755289</td></tr>\n",
       "\t<tr><td>1.1618595</td><td>0.1227533</td></tr>\n",
       "\t<tr><td>1.5472187</td><td>0.1829556</td></tr>\n",
       "\t<tr><td>1.0002698</td><td>0.2409027</td></tr>\n",
       "\t<tr><td>2.5591922</td><td>0.2631880</td></tr>\n",
       "\t<tr><td>4.3655413</td><td>0.3587182</td></tr>\n",
       "</tbody>\n",
       "</table>\n"
      ],
      "text/latex": [
       "A matrix: 10 × 2 of type dbl\n",
       "\\begin{tabular}{ll}\n",
       " shape & rate\\\\\n",
       "\\hline\n",
       "\t 0.6631633 & 0.1139398\\\\\n",
       "\t 0.8268574 & 0.2863083\\\\\n",
       "\t 1.3305145 & 0.3068724\\\\\n",
       "\t 0.7090563 & 0.3123169\\\\\n",
       "\t 1.0520843 & 0.2755289\\\\\n",
       "\t 1.1618595 & 0.1227533\\\\\n",
       "\t 1.5472187 & 0.1829556\\\\\n",
       "\t 1.0002698 & 0.2409027\\\\\n",
       "\t 2.5591922 & 0.2631880\\\\\n",
       "\t 4.3655413 & 0.3587182\\\\\n",
       "\\end{tabular}\n"
      ],
      "text/markdown": [
       "\n",
       "A matrix: 10 × 2 of type dbl\n",
       "\n",
       "| shape | rate |\n",
       "|---|---|\n",
       "| 0.6631633 | 0.1139398 |\n",
       "| 0.8268574 | 0.2863083 |\n",
       "| 1.3305145 | 0.3068724 |\n",
       "| 0.7090563 | 0.3123169 |\n",
       "| 1.0520843 | 0.2755289 |\n",
       "| 1.1618595 | 0.1227533 |\n",
       "| 1.5472187 | 0.1829556 |\n",
       "| 1.0002698 | 0.2409027 |\n",
       "| 2.5591922 | 0.2631880 |\n",
       "| 4.3655413 | 0.3587182 |\n",
       "\n"
      ],
      "text/plain": [
       "      shape     rate     \n",
       " [1,] 0.6631633 0.1139398\n",
       " [2,] 0.8268574 0.2863083\n",
       " [3,] 1.3305145 0.3068724\n",
       " [4,] 0.7090563 0.3123169\n",
       " [5,] 1.0520843 0.2755289\n",
       " [6,] 1.1618595 0.1227533\n",
       " [7,] 1.5472187 0.1829556\n",
       " [8,] 1.0002698 0.2409027\n",
       " [9,] 2.5591922 0.2631880\n",
       "[10,] 4.3655413 0.3587182"
      ]
     },
     "metadata": {},
     "output_type": "display_data"
    }
   ],
   "source": [
    "pr.distr <- randomForestPredict(rf, newdata = test.x, method = \"aposteriori\")\n",
    "pr.distr[1:10,] # We show the first 10 days"
   ]
  },
  {
   "cell_type": "markdown",
   "metadata": {},
   "source": [
    "As stated above, we can also directly input the method to `fitdistrplus::fitdist()`. For instance, we use maximum likelihood estimation with `method = \"mle\"`:"
   ]
  },
  {
   "cell_type": "code",
   "execution_count": 15,
   "metadata": {},
   "outputs": [
    {
     "data": {
      "text/html": [
       "<table>\n",
       "<caption>A matrix: 10 × 2 of type dbl</caption>\n",
       "<thead>\n",
       "\t<tr><th scope=col>shape</th><th scope=col>rate</th></tr>\n",
       "</thead>\n",
       "<tbody>\n",
       "\t<tr><td>0.6631633</td><td>0.1139398</td></tr>\n",
       "\t<tr><td>0.8268574</td><td>0.2863083</td></tr>\n",
       "\t<tr><td>1.3305145</td><td>0.3068724</td></tr>\n",
       "\t<tr><td>0.7090563</td><td>0.3123169</td></tr>\n",
       "\t<tr><td>1.0520843</td><td>0.2755289</td></tr>\n",
       "\t<tr><td>1.1618595</td><td>0.1227533</td></tr>\n",
       "\t<tr><td>1.5472187</td><td>0.1829556</td></tr>\n",
       "\t<tr><td>1.0002698</td><td>0.2409027</td></tr>\n",
       "\t<tr><td>2.5591922</td><td>0.2631880</td></tr>\n",
       "\t<tr><td>4.3655413</td><td>0.3587182</td></tr>\n",
       "</tbody>\n",
       "</table>\n"
      ],
      "text/latex": [
       "A matrix: 10 × 2 of type dbl\n",
       "\\begin{tabular}{ll}\n",
       " shape & rate\\\\\n",
       "\\hline\n",
       "\t 0.6631633 & 0.1139398\\\\\n",
       "\t 0.8268574 & 0.2863083\\\\\n",
       "\t 1.3305145 & 0.3068724\\\\\n",
       "\t 0.7090563 & 0.3123169\\\\\n",
       "\t 1.0520843 & 0.2755289\\\\\n",
       "\t 1.1618595 & 0.1227533\\\\\n",
       "\t 1.5472187 & 0.1829556\\\\\n",
       "\t 1.0002698 & 0.2409027\\\\\n",
       "\t 2.5591922 & 0.2631880\\\\\n",
       "\t 4.3655413 & 0.3587182\\\\\n",
       "\\end{tabular}\n"
      ],
      "text/markdown": [
       "\n",
       "A matrix: 10 × 2 of type dbl\n",
       "\n",
       "| shape | rate |\n",
       "|---|---|\n",
       "| 0.6631633 | 0.1139398 |\n",
       "| 0.8268574 | 0.2863083 |\n",
       "| 1.3305145 | 0.3068724 |\n",
       "| 0.7090563 | 0.3123169 |\n",
       "| 1.0520843 | 0.2755289 |\n",
       "| 1.1618595 | 0.1227533 |\n",
       "| 1.5472187 | 0.1829556 |\n",
       "| 1.0002698 | 0.2409027 |\n",
       "| 2.5591922 | 0.2631880 |\n",
       "| 4.3655413 | 0.3587182 |\n",
       "\n"
      ],
      "text/plain": [
       "      shape     rate     \n",
       " [1,] 0.6631633 0.1139398\n",
       " [2,] 0.8268574 0.2863083\n",
       " [3,] 1.3305145 0.3068724\n",
       " [4,] 0.7090563 0.3123169\n",
       " [5,] 1.0520843 0.2755289\n",
       " [6,] 1.1618595 0.1227533\n",
       " [7,] 1.5472187 0.1829556\n",
       " [8,] 1.0002698 0.2409027\n",
       " [9,] 2.5591922 0.2631880\n",
       "[10,] 4.3655413 0.3587182"
      ]
     },
     "metadata": {},
     "output_type": "display_data"
    }
   ],
   "source": [
    "pr.mle <- randomForestPredict(rf, newdata = test.x, method = \"mle\")\n",
    "pr.distr[1:10,] # Show the predicted distribution for the first 10 days"
   ]
  },
  {
   "cell_type": "markdown",
   "metadata": {},
   "source": [
    "Finally, we can use the predicted distribution parameters to simulate series. We can do this using the function `randomForestSimulate()`. It takes a prediction object `prediction`, as output by `randomForestPredict()`; and the number of simulated series, `n`. The parameter `distr` allows for manually selecting the distribution, although the distribution will be automatically selected depending on the training split function."
   ]
  },
  {
   "cell_type": "code",
   "execution_count": 16,
   "metadata": {},
   "outputs": [],
   "source": [
    "simulation <- randomForestSimulate(pr.distr)"
   ]
  },
  {
   "cell_type": "markdown",
   "metadata": {},
   "source": [
    "We simulate 1000 series:"
   ]
  },
  {
   "cell_type": "code",
   "execution_count": 17,
   "metadata": {},
   "outputs": [
    {
     "data": {
      "text/html": [
       "<table>\n",
       "<caption>A matrix: 6 × 1000 of type dbl</caption>\n",
       "<tbody>\n",
       "\t<tr><td>16.401212</td><td>6.5780394</td><td>24.343978</td><td> 4.3412076</td><td>0.07139387</td><td>3.6298965</td><td> 0.4185125</td><td>3.363125973</td><td> 0.2139395</td><td>0.005142123</td><td>⋯</td><td> 0.9346878</td><td> 5.705862</td><td>11.388554</td><td>4.5430340</td><td> 4.8419281</td><td> 0.06258068</td><td>3.1084244</td><td>7.9085157</td><td>5.4060905</td><td>9.9245108</td></tr>\n",
       "\t<tr><td> 1.824670</td><td>3.7815555</td><td> 2.084874</td><td> 3.3502654</td><td>1.18413629</td><td>5.5643711</td><td> 5.2767448</td><td>0.001689017</td><td> 1.8713019</td><td>0.272114207</td><td>⋯</td><td> 0.5658543</td><td> 0.269166</td><td> 2.132391</td><td>0.7793248</td><td> 1.1089032</td><td> 0.90537817</td><td>0.9458167</td><td>0.9338746</td><td>0.7240090</td><td>0.7232405</td></tr>\n",
       "\t<tr><td> 3.427660</td><td>2.6542311</td><td> 3.191854</td><td> 0.7604726</td><td>2.67361941</td><td>1.2311706</td><td> 0.7198240</td><td>1.637002697</td><td> 0.6421465</td><td>1.613908754</td><td>⋯</td><td> 3.2865840</td><td>11.630846</td><td> 7.312694</td><td>3.2385869</td><td> 6.3071792</td><td> 3.53707248</td><td>0.7251712</td><td>6.4136084</td><td>4.5818876</td><td>7.0369741</td></tr>\n",
       "\t<tr><td>19.928436</td><td>1.0209804</td><td> 5.252162</td><td> 1.1224609</td><td>0.53436078</td><td>0.6001669</td><td> 2.5990611</td><td>3.045652762</td><td> 1.8947598</td><td>1.772928534</td><td>⋯</td><td> 0.1276340</td><td> 2.722498</td><td> 1.866763</td><td>0.2010061</td><td> 3.2361187</td><td> 1.09231113</td><td>1.3175135</td><td>8.4307085</td><td>0.5967682</td><td>0.2733909</td></tr>\n",
       "\t<tr><td> 2.086507</td><td>0.6370393</td><td> 1.705948</td><td>13.7368541</td><td>3.74952797</td><td>0.3958324</td><td> 2.4469552</td><td>4.382129599</td><td> 5.7181549</td><td>1.108579954</td><td>⋯</td><td> 2.5364276</td><td> 4.278047</td><td> 6.086361</td><td>1.3562598</td><td> 0.7429805</td><td>10.48820494</td><td>0.3652106</td><td>8.4044147</td><td>4.9165105</td><td>0.1591949</td></tr>\n",
       "\t<tr><td> 6.042927</td><td>7.3132642</td><td>18.009456</td><td> 7.8590195</td><td>1.14625264</td><td>8.6012624</td><td>17.7699422</td><td>9.408703483</td><td>11.1084704</td><td>0.589946095</td><td>⋯</td><td>10.1754256</td><td> 8.053134</td><td> 1.154221</td><td>7.9929981</td><td>27.4465627</td><td> 5.68099604</td><td>5.4941933</td><td>3.1568796</td><td>5.8866068</td><td>3.5142137</td></tr>\n",
       "</tbody>\n",
       "</table>\n"
      ],
      "text/latex": [
       "A matrix: 6 × 1000 of type dbl\n",
       "\\begin{tabular}{lllllllllllllllllllll}\n",
       "\t 16.401212 & 6.5780394 & 24.343978 &  4.3412076 & 0.07139387 & 3.6298965 &  0.4185125 & 3.363125973 &  0.2139395 & 0.005142123 & ⋯ &  0.9346878 &  5.705862 & 11.388554 & 4.5430340 &  4.8419281 &  0.06258068 & 3.1084244 & 7.9085157 & 5.4060905 & 9.9245108\\\\\n",
       "\t  1.824670 & 3.7815555 &  2.084874 &  3.3502654 & 1.18413629 & 5.5643711 &  5.2767448 & 0.001689017 &  1.8713019 & 0.272114207 & ⋯ &  0.5658543 &  0.269166 &  2.132391 & 0.7793248 &  1.1089032 &  0.90537817 & 0.9458167 & 0.9338746 & 0.7240090 & 0.7232405\\\\\n",
       "\t  3.427660 & 2.6542311 &  3.191854 &  0.7604726 & 2.67361941 & 1.2311706 &  0.7198240 & 1.637002697 &  0.6421465 & 1.613908754 & ⋯ &  3.2865840 & 11.630846 &  7.312694 & 3.2385869 &  6.3071792 &  3.53707248 & 0.7251712 & 6.4136084 & 4.5818876 & 7.0369741\\\\\n",
       "\t 19.928436 & 1.0209804 &  5.252162 &  1.1224609 & 0.53436078 & 0.6001669 &  2.5990611 & 3.045652762 &  1.8947598 & 1.772928534 & ⋯ &  0.1276340 &  2.722498 &  1.866763 & 0.2010061 &  3.2361187 &  1.09231113 & 1.3175135 & 8.4307085 & 0.5967682 & 0.2733909\\\\\n",
       "\t  2.086507 & 0.6370393 &  1.705948 & 13.7368541 & 3.74952797 & 0.3958324 &  2.4469552 & 4.382129599 &  5.7181549 & 1.108579954 & ⋯ &  2.5364276 &  4.278047 &  6.086361 & 1.3562598 &  0.7429805 & 10.48820494 & 0.3652106 & 8.4044147 & 4.9165105 & 0.1591949\\\\\n",
       "\t  6.042927 & 7.3132642 & 18.009456 &  7.8590195 & 1.14625264 & 8.6012624 & 17.7699422 & 9.408703483 & 11.1084704 & 0.589946095 & ⋯ & 10.1754256 &  8.053134 &  1.154221 & 7.9929981 & 27.4465627 &  5.68099604 & 5.4941933 & 3.1568796 & 5.8866068 & 3.5142137\\\\\n",
       "\\end{tabular}\n"
      ],
      "text/markdown": [
       "\n",
       "A matrix: 6 × 1000 of type dbl\n",
       "\n",
       "| 16.401212 | 6.5780394 | 24.343978 |  4.3412076 | 0.07139387 | 3.6298965 |  0.4185125 | 3.363125973 |  0.2139395 | 0.005142123 | ⋯ |  0.9346878 |  5.705862 | 11.388554 | 4.5430340 |  4.8419281 |  0.06258068 | 3.1084244 | 7.9085157 | 5.4060905 | 9.9245108 |\n",
       "|  1.824670 | 3.7815555 |  2.084874 |  3.3502654 | 1.18413629 | 5.5643711 |  5.2767448 | 0.001689017 |  1.8713019 | 0.272114207 | ⋯ |  0.5658543 |  0.269166 |  2.132391 | 0.7793248 |  1.1089032 |  0.90537817 | 0.9458167 | 0.9338746 | 0.7240090 | 0.7232405 |\n",
       "|  3.427660 | 2.6542311 |  3.191854 |  0.7604726 | 2.67361941 | 1.2311706 |  0.7198240 | 1.637002697 |  0.6421465 | 1.613908754 | ⋯ |  3.2865840 | 11.630846 |  7.312694 | 3.2385869 |  6.3071792 |  3.53707248 | 0.7251712 | 6.4136084 | 4.5818876 | 7.0369741 |\n",
       "| 19.928436 | 1.0209804 |  5.252162 |  1.1224609 | 0.53436078 | 0.6001669 |  2.5990611 | 3.045652762 |  1.8947598 | 1.772928534 | ⋯ |  0.1276340 |  2.722498 |  1.866763 | 0.2010061 |  3.2361187 |  1.09231113 | 1.3175135 | 8.4307085 | 0.5967682 | 0.2733909 |\n",
       "|  2.086507 | 0.6370393 |  1.705948 | 13.7368541 | 3.74952797 | 0.3958324 |  2.4469552 | 4.382129599 |  5.7181549 | 1.108579954 | ⋯ |  2.5364276 |  4.278047 |  6.086361 | 1.3562598 |  0.7429805 | 10.48820494 | 0.3652106 | 8.4044147 | 4.9165105 | 0.1591949 |\n",
       "|  6.042927 | 7.3132642 | 18.009456 |  7.8590195 | 1.14625264 | 8.6012624 | 17.7699422 | 9.408703483 | 11.1084704 | 0.589946095 | ⋯ | 10.1754256 |  8.053134 |  1.154221 | 7.9929981 | 27.4465627 |  5.68099604 | 5.4941933 | 3.1568796 | 5.8866068 | 3.5142137 |\n",
       "\n"
      ],
      "text/plain": [
       "     [,1]      [,2]      [,3]      [,4]       [,5]       [,6]      [,7]      \n",
       "[1,] 16.401212 6.5780394 24.343978  4.3412076 0.07139387 3.6298965  0.4185125\n",
       "[2,]  1.824670 3.7815555  2.084874  3.3502654 1.18413629 5.5643711  5.2767448\n",
       "[3,]  3.427660 2.6542311  3.191854  0.7604726 2.67361941 1.2311706  0.7198240\n",
       "[4,] 19.928436 1.0209804  5.252162  1.1224609 0.53436078 0.6001669  2.5990611\n",
       "[5,]  2.086507 0.6370393  1.705948 13.7368541 3.74952797 0.3958324  2.4469552\n",
       "[6,]  6.042927 7.3132642 18.009456  7.8590195 1.14625264 8.6012624 17.7699422\n",
       "     [,8]        [,9]       [,10]       [,11] [,12]      [,13]     [,14]    \n",
       "[1,] 3.363125973  0.2139395 0.005142123 ⋯      0.9346878  5.705862 11.388554\n",
       "[2,] 0.001689017  1.8713019 0.272114207 ⋯      0.5658543  0.269166  2.132391\n",
       "[3,] 1.637002697  0.6421465 1.613908754 ⋯      3.2865840 11.630846  7.312694\n",
       "[4,] 3.045652762  1.8947598 1.772928534 ⋯      0.1276340  2.722498  1.866763\n",
       "[5,] 4.382129599  5.7181549 1.108579954 ⋯      2.5364276  4.278047  6.086361\n",
       "[6,] 9.408703483 11.1084704 0.589946095 ⋯     10.1754256  8.053134  1.154221\n",
       "     [,15]     [,16]      [,17]       [,18]     [,19]     [,20]     [,21]    \n",
       "[1,] 4.5430340  4.8419281  0.06258068 3.1084244 7.9085157 5.4060905 9.9245108\n",
       "[2,] 0.7793248  1.1089032  0.90537817 0.9458167 0.9338746 0.7240090 0.7232405\n",
       "[3,] 3.2385869  6.3071792  3.53707248 0.7251712 6.4136084 4.5818876 7.0369741\n",
       "[4,] 0.2010061  3.2361187  1.09231113 1.3175135 8.4307085 0.5967682 0.2733909\n",
       "[5,] 1.3562598  0.7429805 10.48820494 0.3652106 8.4044147 4.9165105 0.1591949\n",
       "[6,] 7.9929981 27.4465627  5.68099604 5.4941933 3.1568796 5.8866068 3.5142137"
      ]
     },
     "metadata": {},
     "output_type": "display_data"
    }
   ],
   "source": [
    "simulations <- randomForestSimulate(pr.distr, n = 1000)\n",
    "head(simulations)"
   ]
  },
  {
   "cell_type": "markdown",
   "metadata": {},
   "source": [
    "### Complete Example\n",
    "\n",
    "Finally, we reproduce here the 5-Fold experiment described in the article *Stochastic Downscaling of Precipitation using Random Forests* for the set of 9 stations. We use a model with $25$ trees, minimum leaf size $5$ and Deviation as split function."
   ]
  },
  {
   "cell_type": "code",
   "execution_count": 18,
   "metadata": {},
   "outputs": [],
   "source": [
    "future::plan(future::multisession, workers = 6)\n",
    "\n",
    "predictions <-\n",
    "lapply(VALUE9, function(meteorological.station){\n",
    "    predictions <- lapply(meteorological.station, function(fold){\n",
    "        md <- randomForestTrain(x = fold$train.x, y = fold$train.y, \n",
    "                                ntree = 25, minbucket = 5, \n",
    "                                method = \"gammaDeviation\",\n",
    "                                parallel.plan = NULL)\n",
    "        \n",
    "        return( list(predicted = randomForestPredict(md, newdata = fold$test.x, method = \"mme\"),\n",
    "                     observed = fold$test.y)\n",
    "              )\n",
    "    })\n",
    "    \n",
    "    predicted <- do.call(rbind, lapply(predictions, function(pr) pr$predicted))\n",
    "    observed <- do.call(c, lapply(predictions, function(pr) pr$observed))\n",
    "\n",
    "    return( list(predicted = predicted, observed = observed) )\n",
    "})\n",
    "\n",
    "future::plan(future::sequential)"
   ]
  },
  {
   "cell_type": "markdown",
   "metadata": {},
   "source": [
    "We end up with the downscaled probability distribution for each station and day."
   ]
  }
 ],
 "metadata": {
  "kernelspec": {
   "display_name": "R",
   "language": "R",
   "name": "ir"
  },
  "language_info": {
   "codemirror_mode": "r",
   "file_extension": ".r",
   "mimetype": "text/x-r-source",
   "name": "R",
   "pygments_lexer": "r",
   "version": "3.6.3"
  }
 },
 "nbformat": 4,
 "nbformat_minor": 4
}
